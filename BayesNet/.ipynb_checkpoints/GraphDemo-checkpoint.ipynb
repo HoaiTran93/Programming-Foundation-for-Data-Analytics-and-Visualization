{
 "cells": [
  {
   "cell_type": "code",
   "execution_count": 1,
   "metadata": {},
   "outputs": [],
   "source": [
    "from IGraph import *\n",
    "from AbstractGraph import *\n",
    "from UGraphModel import *"
   ]
  },
  {
   "cell_type": "code",
   "execution_count": 2,
   "metadata": {},
   "outputs": [],
   "source": [
    "graph = UGraphModel()"
   ]
  },
  {
   "cell_type": "code",
   "execution_count": 3,
   "metadata": {},
   "outputs": [
    {
     "name": "stdout",
     "output_type": "stream",
     "text": [
      "=======================================================\n",
      "Vertices:\n",
      " V(HCM, in:3, out:3)\n",
      " V(LongAn, in:1, out:1)\n",
      " V(BinhDuong, in:1, out:1)\n",
      " V(DongNai, in:2, out:2)\n",
      " V(BinhThuan, in:1, out:1)\n",
      "------------------------------------------------------\n",
      "Edges:\n",
      " E(HCM, LongAn, 0)\n",
      " E(HCM, BinhDuong, 0)\n",
      " E(HCM, DongNai, 0)\n",
      " E(LongAn, HCM, 0)\n",
      " E(BinhDuong, HCM, 0)\n",
      " E(DongNai, HCM, 0)\n",
      " E(DongNai, BinhThuan, 0)\n",
      " E(BinhThuan, DongNai, 0)\n",
      "======================================================\n",
      "\n"
     ]
    }
   ],
   "source": [
    "graph.add(\"HCM\")\n",
    "graph.add(\"LongAn\")\n",
    "graph.add(\"BinhDuong\")\n",
    "graph.add(\"DongNai\")\n",
    "graph.add(\"BinhThuan\")\n",
    "graph.connect(\"HCM\", \"LongAn\")\n",
    "graph.connect(\"HCM\", \"BinhDuong\")\n",
    "graph.connect(\"HCM\", \"DongNai\")\n",
    "graph.connect(\"DongNai\", \"BinhThuan\")\n",
    "graph.println()"
   ]
  },
  {
   "cell_type": "code",
   "execution_count": null,
   "metadata": {},
   "outputs": [],
   "source": []
  }
 ],
 "metadata": {
  "kernelspec": {
   "display_name": "Python 3",
   "language": "python",
   "name": "python3"
  },
  "language_info": {
   "codemirror_mode": {
    "name": "ipython",
    "version": 3
   },
   "file_extension": ".py",
   "mimetype": "text/x-python",
   "name": "python",
   "nbconvert_exporter": "python",
   "pygments_lexer": "ipython3",
   "version": "3.7.3"
  }
 },
 "nbformat": 4,
 "nbformat_minor": 2
}
