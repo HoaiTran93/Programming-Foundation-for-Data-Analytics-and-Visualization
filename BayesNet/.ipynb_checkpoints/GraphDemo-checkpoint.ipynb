{
 "cells": [
  {
   "cell_type": "code",
   "execution_count": 14,
   "metadata": {},
   "outputs": [],
   "source": [
    "from IGraph import *\n",
    "from AbstractGraph import *\n",
    "from UGraphModel import *\n",
    "from DGraphModel import *\n",
    "#from BayesNet import *"
   ]
  },
  {
   "cell_type": "code",
   "execution_count": 15,
   "metadata": {},
   "outputs": [
    {
     "ename": "TypeError",
     "evalue": "add() missing 1 required positional argument: 'tableProb'",
     "output_type": "error",
     "traceback": [
      "\u001b[0;31m---------------------------------------------------------------------------\u001b[0m",
      "\u001b[0;31mTypeError\u001b[0m                                 Traceback (most recent call last)",
      "\u001b[0;32m<ipython-input-15-68135da9fc32>\u001b[0m in \u001b[0;36m<module>\u001b[0;34m\u001b[0m\n\u001b[1;32m      1\u001b[0m \u001b[0mmodel\u001b[0m \u001b[0;34m=\u001b[0m \u001b[0mDGraphModel\u001b[0m\u001b[0;34m(\u001b[0m\u001b[0;34m)\u001b[0m\u001b[0;34m\u001b[0m\u001b[0;34m\u001b[0m\u001b[0m\n\u001b[1;32m      2\u001b[0m \u001b[0;32mfor\u001b[0m \u001b[0midx\u001b[0m \u001b[0;32min\u001b[0m \u001b[0mrange\u001b[0m\u001b[0;34m(\u001b[0m\u001b[0;36m10\u001b[0m\u001b[0;34m)\u001b[0m\u001b[0;34m:\u001b[0m\u001b[0;34m\u001b[0m\u001b[0;34m\u001b[0m\u001b[0m\n\u001b[0;32m----> 3\u001b[0;31m     \u001b[0mmodel\u001b[0m\u001b[0;34m.\u001b[0m\u001b[0madd\u001b[0m\u001b[0;34m(\u001b[0m\u001b[0mstr\u001b[0m\u001b[0;34m(\u001b[0m\u001b[0midx\u001b[0m\u001b[0;34m)\u001b[0m\u001b[0;34m)\u001b[0m\u001b[0;34m\u001b[0m\u001b[0;34m\u001b[0m\u001b[0m\n\u001b[0m\u001b[1;32m      4\u001b[0m \u001b[0;34m\u001b[0m\u001b[0m\n\u001b[1;32m      5\u001b[0m \u001b[0mmodel\u001b[0m\u001b[0;34m.\u001b[0m\u001b[0mconnect\u001b[0m\u001b[0;34m(\u001b[0m\u001b[0;34m'0'\u001b[0m\u001b[0;34m,\u001b[0m \u001b[0;34m'1'\u001b[0m\u001b[0;34m)\u001b[0m\u001b[0;34m\u001b[0m\u001b[0;34m\u001b[0m\u001b[0m\n",
      "\u001b[0;31mTypeError\u001b[0m: add() missing 1 required positional argument: 'tableProb'"
     ]
    }
   ],
   "source": [
    "model = DGraphModel()\n",
    "for idx in range(10):\n",
    "    model.add(str(idx))\n",
    "\n",
    "model.connect('0', '1')\n",
    "model.connect('0', '5')\n",
    "model.connect('1', '7')\n",
    "model.connect('3', '2')\n",
    "model.connect('3', '4')\n",
    "model.connect('3', '7')\n",
    "model.connect('3', '8')\n",
    "model.connect('4', '8')\n",
    "model.connect('6', '0')\n",
    "model.connect('6', '1')\n",
    "model.connect('6', '2')\n",
    "model.connect('8', '2')\n",
    "model.connect('8', '7')\n",
    "model.connect('9', '4')\n",
    "model.println()"
   ]
  },
  {
   "cell_type": "code",
   "execution_count": 16,
   "metadata": {
    "tags": []
   },
   "outputs": [
    {
     "name": "stdout",
     "output_type": "stream",
     "text": [
      "topoBFS: []\n",
      "topoDFS: []\n"
     ]
    }
   ],
   "source": [
    "DFS = 0\n",
    "BFS = 1\n",
    "sorter = TopoSorter(model)\n",
    "topo = sorter.sort(BFS)\n",
    "print(\"topoBFS:\", topo)\n",
    "\n",
    "topo = sorter.sort(DFS)\n",
    "print(\"topoDFS:\", topo)"
   ]
  },
  {
   "cell_type": "code",
   "execution_count": 17,
   "metadata": {},
   "outputs": [],
   "source": [
    "import numpy as np\n",
    "import time"
   ]
  },
  {
   "cell_type": "code",
   "execution_count": 532,
   "metadata": {},
   "outputs": [],
   "source": [
    "class ConditionalProbabilityTable():\n",
    "    def __init__(self,initTable,initParents,initNodeName):\n",
    "        self.initTable = initTable\n",
    "        TableShape = np.array(initTable).T.shape\n",
    "        self.ProbabilityTable = np.array(initTable).T[:-1].reshape(TableShape[0]-1,TableShape[1])\n",
    "        self.ProbabilityTableValues = np.array(initTable).T[-1].astype(np.float)\n",
    "        self.ParentsList = initParents\n",
    "        self.NodeName = initNodeName\n",
    "        if self.isDiscreteDistribution() == False:\n",
    "            self.ParentsNum = len(initParents)\n",
    "            if self.ProbabilityTable.shape[0]-2 != self.ParentsNum:\n",
    "                raise NameError(\"Init failed, number of parents is wrong!\")\n",
    "        \n",
    "    def getValueList(self):\n",
    "        return list(set(self.ProbabilityTable[-1]))\n",
    "\n",
    "    def isDiscreteDistribution(self):\n",
    "        if self.ParentsList == None:\n",
    "            return True\n",
    "        else:\n",
    "            False\n",
    "    \n",
    "    def getNodeProbability(self,ParentState):\n",
    "        RunTable = self.ProbabilityTable\n",
    "        ValueTable = self.ProbabilityTableValues\n",
    "        for name in self.ParentsList:\n",
    "            if name in ParentState:\n",
    "                State = np.array(ParentState[name])\n",
    "                index = np.where( RunTable[0] == State )[0]\n",
    "                RunTable = RunTable[1:,index] \n",
    "                ValueTable = ValueTable[index]\n",
    "            else:\n",
    "                raise NameError(\"Parents state is not enough\")\n",
    "        return RunTable[0], ValueTable\n",
    "    \n",
    "    def getOutput(self,ParentState):\n",
    "        if self.isDiscreteDistribution(): \n",
    "            NodeProba = self.ProbabilityTable[0]\n",
    "            ValueTable = self.ProbabilityTableValues\n",
    "        else:\n",
    "            NodeProba,ValueTable = self.getNodeProbability(ParentState)     \n",
    "        RandomValue = np.random.random()\n",
    "        for index in range(len(NodeProba)):\n",
    "            if RandomValue < ValueTable[:index+1].sum():\n",
    "                ParentState[self.NodeName] = NodeProba[index]\n",
    "                return ParentState\n",
    "        ParentState[self.NodeName] = NodeProba[-1]\n",
    "        return ParentState\n",
    "\n",
    "        \n",
    "    def getOutputWithLikehood(self, ParentState, ParentLikelihoodWeight, Observations):\n",
    "        if self.NodeName not in Observations.keys():\n",
    "            if self.isDiscreteDistribution():   \n",
    "                NodeProba = self.ProbabilityTable[0]\n",
    "                ValueTable = self.ProbabilityTableValues\n",
    "            else:\n",
    "                NodeProba,ValueTable = self.getNodeProbability(ParentState)\n",
    "            RandomValue = np.random.random()\n",
    "            for index in range(len(NodeProba)):\n",
    "                if RandomValue < ValueTable[:index+1].sum():\n",
    "                    ParentState[self.NodeName] = NodeProba[index]    \n",
    "                    return ParentState, ParentLikelihoodWeight\n",
    "            ParentState[self.NodeName] = NodeProba[-1]\n",
    "            return ParentState, ParentLikelihoodWeight\n",
    "        else:\n",
    "            if self.isDiscreteDistribution():   \n",
    "                NodeProba = self.ProbabilityTable[0]\n",
    "                ValueTable = self.ProbabilityTableValues\n",
    "            else:\n",
    "                NodeProba,ValueTable = self.getNodeProbability(ParentState)\n",
    "            index = np.where(NodeProba==np.array(Observations[self.NodeName]))[0]\n",
    "            ParentState[self.NodeName] = NodeProba[index]\n",
    "            ParentLikelihoodWeight[self.NodeName] = float(ValueTable[index])\n",
    "            return ParentState, ParentLikelihoodWeight"
   ]
  },
  {
   "cell_type": "markdown",
   "metadata": {},
   "source": [
    "# Asia example"
   ]
  },
  {
   "cell_type": "code",
   "execution_count": 533,
   "metadata": {},
   "outputs": [],
   "source": [
    "asia = ConditionalProbabilityTable( [ ['True', 0.5],[ 'False', 0.5 ]], None, 'asia' )"
   ]
  },
  {
   "cell_type": "code",
   "execution_count": 534,
   "metadata": {},
   "outputs": [],
   "source": [
    "tuberculosis = ConditionalProbabilityTable(\n",
    "    [[ 'True', 'True', 0.2 ],\n",
    "     [ 'True', 'False', 0.8 ],\n",
    "     [ 'False', 'True', 0.01 ],\n",
    "     [ 'False', 'False', 0.99 ]], ['asia'],'tuberculosis')"
   ]
  },
  {
   "cell_type": "code",
   "execution_count": 535,
   "metadata": {},
   "outputs": [],
   "source": [
    "smoking = ConditionalProbabilityTable( [ ['True', 0.5],[ 'False', 0.5 ]], None, 'smoking' )"
   ]
  },
  {
   "cell_type": "code",
   "execution_count": 536,
   "metadata": {},
   "outputs": [],
   "source": [
    "lung = ConditionalProbabilityTable(\n",
    "    [[ 'True', 'True', 0.75 ],\n",
    "     [ 'True', 'False', 0.25 ],\n",
    "     [ 'False', 'True', 0.02 ],\n",
    "     [ 'False', 'False', 0.98 ]], ['smoking'], 'lung' )\n",
    "\n",
    "bronchitis = ConditionalProbabilityTable(\n",
    "    [[ 'True', 'True', 0.92 ],\n",
    "     [ 'True', 'False', 0.08 ],\n",
    "     [ 'False', 'True', 0.03 ],\n",
    "     [ 'False', 'False', 0.97 ]], ['smoking'], 'bronchitis' )\n",
    "\n",
    "tuberculosis_or_cancer = ConditionalProbabilityTable(\n",
    "    [[ 'True', 'True', 'True', 1.0 ],\n",
    "     [ 'True', 'True', 'False', 0.0 ],\n",
    "     [ 'True', 'False', 'True', 1.0 ],\n",
    "     [ 'True', 'False', 'False', 0.0 ],\n",
    "     [ 'False', 'True', 'True', 1.0 ],\n",
    "     [ 'False', 'True', 'False', 0.0 ],\n",
    "     [ 'False', 'False', 'True', 0.0 ],\n",
    "     [ 'False', 'False', 'False', 1.0 ]], ['tuberculosis', 'lung'], 'tuberculosis_or_cancer' )"
   ]
  },
  {
   "cell_type": "code",
   "execution_count": 537,
   "metadata": {},
   "outputs": [],
   "source": [
    "xray = ConditionalProbabilityTable(\n",
    "    [[ 'True', 'True', 0.885 ],\n",
    "     [ 'True', 'False', 0.115 ],\n",
    "     [ 'False', 'True', 0.04 ],\n",
    "     [ 'False', 'False', 0.96 ]], ['tuberculosis_or_cancer'] , 'xray')"
   ]
  },
  {
   "cell_type": "code",
   "execution_count": 538,
   "metadata": {},
   "outputs": [],
   "source": [
    "dyspnea = ConditionalProbabilityTable(\n",
    "    [[ 'True', 'True', 'True', 0.96 ],\n",
    "     [ 'True', 'True', 'False', 0.04 ],\n",
    "     [ 'True', 'False', 'True', 0.89 ],\n",
    "     [ 'True', 'False', 'False', 0.11 ],\n",
    "     [ 'False', 'True', 'True', 0.96 ],\n",
    "     [ 'False', 'True', 'False', 0.04 ],\n",
    "     [ 'False', 'False', 'True', 0.89 ],\n",
    "     [ 'False', 'False', 'False', 0.11 ]], ['tuberculosis_or_cancer', 'bronchitis'],'dyspnea')"
   ]
  },
  {
   "cell_type": "code",
   "execution_count": 539,
   "metadata": {
    "tags": []
   },
   "outputs": [],
   "source": [
    "NodeList = [asia,smoking,tuberculosis,lung,tuberculosis_or_cancer,bronchitis,xray,dyspnea]"
   ]
  },
  {
   "cell_type": "markdown",
   "metadata": {},
   "source": [
    "# Normal Sampling"
   ]
  },
  {
   "cell_type": "code",
   "execution_count": 476,
   "metadata": {
    "scrolled": true,
    "tags": []
   },
   "outputs": [
    {
     "name": "stdout",
     "output_type": "stream",
     "text": [
      "Infer Time:  0.020061254501342773\n"
     ]
    }
   ],
   "source": [
    "start_time = time.time()\n",
    "RunForwardList = []\n",
    "for i in range(100):\n",
    "    RunningVar = {}\n",
    "    RunningVar = asia.getOutput(RunningVar)\n",
    "    RunningVar = smoking.getOutput(RunningVar)\n",
    "    RunningVar = tuberculosis.getOutput(RunningVar)\n",
    "    RunningVar = lung.getOutput(RunningVar)\n",
    "    RunningVar = tuberculosis_or_cancer.getOutput(RunningVar)\n",
    "    RunningVar = bronchitis.getOutput(RunningVar)\n",
    "    RunningVar = xray.getOutput(RunningVar)\n",
    "    RunningVar = dyspnea.getOutput(RunningVar)\n",
    "    RunForwardList.append(RunningVar)\n",
    "print(\"Infer Time: \", (time.time()-start_time))"
   ]
  },
  {
   "cell_type": "code",
   "execution_count": 467,
   "metadata": {
    "tags": []
   },
   "outputs": [],
   "source": [
    "Observations = { 'tuberculosis' : 'True', 'smoking' : 'False', 'bronchitis' : 'True' }"
   ]
  },
  {
   "cell_type": "code",
   "execution_count": 468,
   "metadata": {},
   "outputs": [],
   "source": [
    "NodeNameList = ['asia','smoking','tuberculosis','lung','tuberculosis_or_cancer','bronchitis','xray','dyspnea']"
   ]
  },
  {
   "cell_type": "code",
   "execution_count": 469,
   "metadata": {},
   "outputs": [],
   "source": [
    "RunValueList = []\n",
    "KeyList = RunForwardList[0].keys()\n",
    "for RunForwardValue in RunForwardList:\n",
    "    OneRow = []\n",
    "    ObservationsCheck = True\n",
    "    for key in Observations:\n",
    "        if Observations[key] != RunForwardValue[key]:\n",
    "            ObservationsCheck = False\n",
    "    if ObservationsCheck == True:\n",
    "        for key in RunForwardValue: \n",
    "            OneRow.append(RunForwardValue[key])\n",
    "        RunValueList.append(OneRow)\n",
    "NumpyRunValue = np.array(RunValueList)\n",
    "NumpyKey = np.array(list(KeyList))"
   ]
  },
  {
   "cell_type": "code",
   "execution_count": 470,
   "metadata": {},
   "outputs": [
    {
     "name": "stdout",
     "output_type": "stream",
     "text": [
      "asia\n",
      "True 0.9540918163672655\n",
      "False 0.04590818363273453\n",
      "============================\n",
      "smoking False\n",
      "============================\n",
      "tuberculosis True\n",
      "============================\n",
      "lung\n",
      "True 0.017298735861610112\n",
      "False 0.9827012641383899\n",
      "============================\n",
      "tuberculosis_or_cancer\n",
      "True 1.0\n",
      "False 0.0\n",
      "============================\n",
      "bronchitis True\n",
      "============================\n",
      "xray\n",
      "True 0.8855622089155023\n",
      "False 0.11443779108449767\n",
      "============================\n",
      "dyspnea\n",
      "True 0.9680638722554891\n",
      "False 0.031936127744510975\n",
      "============================\n"
     ]
    }
   ],
   "source": [
    "for Node in NodeList:\n",
    "    if Node.NodeName in Observations.keys():\n",
    "        print(Node.NodeName, Observations[Node.NodeName])\n",
    "    else:\n",
    "        print(Node.NodeName)\n",
    "        indexNumpyRunValue = np.where(NumpyKey==Node.NodeName)[0][0]\n",
    "        for Value in Node.getValueList():\n",
    "            print(Value,len(np.where(NumpyRunValue[:,indexNumpyRunValue] == Value)[0])/NumpyRunValue.shape[0])\n",
    "    print('============================')"
   ]
  },
  {
   "cell_type": "code",
   "execution_count": 272,
   "metadata": {
    "tags": []
   },
   "outputs": [
    {
     "name": "stdout",
     "output_type": "stream",
     "text": [
      "asia\n",
      "True 0.9629629629629629\n",
      "False 0.037037037037037035\n",
      "============================\n",
      "smoking False\n",
      "============================\n",
      "tuberculosis True\n",
      "============================\n",
      "lung\n",
      "True 0.014814814814814815\n",
      "False 0.9851851851851852\n",
      "============================\n",
      "tuberculosis_or_cancer\n",
      "True 1.0\n",
      "False 0.0\n",
      "============================\n",
      "bronchitis True\n",
      "============================\n",
      "xray\n",
      "True 0.9111111111111111\n",
      "False 0.08888888888888889\n",
      "============================\n",
      "dyspnea\n",
      "True 0.9777777777777777\n",
      "False 0.022222222222222223\n",
      "============================\n"
     ]
    }
   ],
   "source": [
    "for Node in NodeList:\n",
    "    if Node.NodeName in Observations.keys():\n",
    "        print(Node.NodeName, Observations[Node.NodeName])\n",
    "    else:\n",
    "        print(Node.NodeName)\n",
    "        indexNumpyRunValue = np.where(NumpyKey==Node.NodeName)[0][0]\n",
    "        for Value in Node.getValueList():\n",
    "            print(Value,len(np.where(NumpyRunValue[:,indexNumpyRunValue] == Value)[0])/NumpyRunValue.shape[0])\n",
    "    print('============================')"
   ]
  },
  {
   "cell_type": "code",
   "execution_count": null,
   "metadata": {},
   "outputs": [],
   "source": []
  },
  {
   "cell_type": "markdown",
   "metadata": {},
   "source": [
    "# Likelihood"
   ]
  },
  {
   "cell_type": "code",
   "execution_count": 545,
   "metadata": {},
   "outputs": [
    {
     "name": "stdout",
     "output_type": "stream",
     "text": [
      "Infer Time:  94.96938180923462\n"
     ]
    }
   ],
   "source": [
    "RunForwardList = []\n",
    "RunForwardWeight = []\n",
    "Observations = { 'tuberculosis' : 'True', 'smoking' : 'False', 'bronchitis' : 'True' }\n",
    "start_time = time.time()\n",
    "for i in range(1000000):\n",
    "    w = 1\n",
    "    RunningVar = {}\n",
    "    ParentLikelihoodWeight = {}\n",
    "    RunningVar,ParentLikelihoodWeight = asia.getOutputWithLikehood(RunningVar,ParentLikelihoodWeight,Observations)\n",
    "    RunningVar,ParentLikelihoodWeight = smoking.getOutputWithLikehood(RunningVar,ParentLikelihoodWeight,Observations)\n",
    "    RunningVar,ParentLikelihoodWeight = tuberculosis.getOutputWithLikehood(RunningVar,ParentLikelihoodWeight,Observations)\n",
    "    RunningVar,ParentLikelihoodWeight = lung.getOutputWithLikehood(RunningVar,ParentLikelihoodWeight,Observations)\n",
    "    RunningVar,ParentLikelihoodWeight = tuberculosis_or_cancer.getOutputWithLikehood(RunningVar,ParentLikelihoodWeight,Observations)\n",
    "    RunningVar,ParentLikelihoodWeight = bronchitis.getOutputWithLikehood(RunningVar,ParentLikelihoodWeight,Observations)\n",
    "    RunningVar,ParentLikelihoodWeight = xray.getOutputWithLikehood(RunningVar,ParentLikelihoodWeight,Observations)\n",
    "    RunningVar,ParentLikelihoodWeight = dyspnea.getOutputWithLikehood(RunningVar,ParentLikelihoodWeight,Observations)\n",
    "    RunForwardList.append(RunningVar)\n",
    "    for key in Observations:\n",
    "        w *= ParentLikelihoodWeight[key]\n",
    "    RunForwardWeight.append(w)\n",
    "print(\"Infer Time: \", (time.time()-start_time))"
   ]
  },
  {
   "cell_type": "code",
   "execution_count": 546,
   "metadata": {},
   "outputs": [],
   "source": [
    "RunValueList = []\n",
    "WeightList = []\n",
    "KeyList = []\n",
    "for index_,RunForwardValue in enumerate(RunForwardList):\n",
    "    OneRow = []\n",
    "    for key in RunForwardValue: \n",
    "        if key not in Observations:\n",
    "            if index_ == 0:\n",
    "                KeyList.append(key)\n",
    "            OneRow.append(RunForwardValue[key])\n",
    "    RunValueList.append(OneRow)\n",
    "    WeightList.append(RunForwardWeight[index_])\n",
    "NumpyRunValue = np.array(RunValueList)\n",
    "NumpyKey = np.array(list(KeyList))\n",
    "NumpyWeight = np.array(WeightList)"
   ]
  },
  {
   "cell_type": "code",
   "execution_count": 547,
   "metadata": {
    "tags": []
   },
   "outputs": [
    {
     "name": "stdout",
     "output_type": "stream",
     "text": [
      "asia\n",
      "True 0.9524556359316124\n",
      "False 0.04754436406838788\n",
      "============================\n",
      "smoking False\n",
      "============================\n",
      "tuberculosis True\n",
      "============================\n",
      "lung\n",
      "True 0.019756604314421587\n",
      "False 0.980243395685578\n",
      "============================\n",
      "tuberculosis_or_cancer\n",
      "True 1.0\n",
      "False 0.0\n",
      "============================\n",
      "bronchitis True\n",
      "============================\n",
      "xray\n",
      "True 0.8840002900694606\n",
      "False 0.11599970993053935\n",
      "============================\n",
      "dyspnea\n",
      "True 0.9598057752753468\n",
      "False 0.04019422472465288\n",
      "============================\n"
     ]
    }
   ],
   "source": [
    "TotalWeight = np.sum(NumpyWeight)\n",
    "for Node in NodeList:\n",
    "    if Node.NodeName in Observations.keys():\n",
    "        print(Node.NodeName, Observations[Node.NodeName])\n",
    "    else:\n",
    "        print(Node.NodeName)\n",
    "        indexNumpyRunValue = np.where(NumpyKey==Node.NodeName)[0][0]\n",
    "        for Value in Node.getValueList():\n",
    "            print(Value,np.sum(NumpyWeight[np.where(NumpyRunValue[:,indexNumpyRunValue] == Value)[0]]) / TotalWeight)\n",
    "    print('============================')"
   ]
  },
  {
   "cell_type": "markdown",
   "metadata": {},
   "source": [
    "# Monty Hall  Example "
   ]
  },
  {
   "cell_type": "code",
   "execution_count": 21,
   "metadata": {},
   "outputs": [],
   "source": [
    "guest = ConditionalProbabilityTable( [ ['A', 1./3],[ 'B', 1./3 ],[ 'C', 1./3 ]], None, 'guest' )\n",
    "prize = ConditionalProbabilityTable( [ ['A', 1./3],[ 'B', 1./3 ],[ 'C', 1./3 ]], None, 'prize' )"
   ]
  },
  {
   "cell_type": "code",
   "execution_count": 22,
   "metadata": {},
   "outputs": [],
   "source": [
    "monty = ConditionalProbabilityTable( \n",
    "    [[ 'A', 'A', 'A', 0.0 ],\n",
    "     [ 'A', 'A', 'B', 0.5 ],\n",
    "     [ 'A', 'A', 'C', 0.5 ],\n",
    "     [ 'A', 'B', 'A', 0.0 ],\n",
    "     [ 'A', 'B', 'B', 0.0 ],\n",
    "     [ 'A', 'B', 'C', 1.0 ],\n",
    "     [ 'A', 'C', 'A', 0.0 ],\n",
    "     [ 'A', 'C', 'B', 1.0 ],\n",
    "     [ 'A', 'C', 'C', 0.0 ],\n",
    "     [ 'B', 'A', 'A', 0.0 ],\n",
    "     [ 'B', 'A', 'B', 0.0 ],\n",
    "     [ 'B', 'A', 'C', 1.0 ],\n",
    "     [ 'B', 'B', 'A', 0.5 ],\n",
    "     [ 'B', 'B', 'B', 0.0 ],\n",
    "     [ 'B', 'B', 'C', 0.5 ],\n",
    "     [ 'B', 'C', 'A', 1.0 ],\n",
    "     [ 'B', 'C', 'B', 0.0 ],\n",
    "     [ 'B', 'C', 'C', 0.0 ],\n",
    "     [ 'C', 'A', 'A', 0.0 ],\n",
    "     [ 'C', 'A', 'B', 1.0 ],\n",
    "     [ 'C', 'A', 'C', 0.0 ],\n",
    "     [ 'C', 'B', 'A', 1.0 ],\n",
    "     [ 'C', 'B', 'B', 0.0 ],\n",
    "     [ 'C', 'B', 'C', 0.0 ],\n",
    "     [ 'C', 'C', 'A', 0.5 ],\n",
    "     [ 'C', 'C', 'B', 0.5 ],\n",
    "     [ 'C', 'C', 'C', 0.0 ]], ['guest','prize'], 'monty' )"
   ]
  },
  {
   "cell_type": "code",
   "execution_count": 23,
   "metadata": {},
   "outputs": [],
   "source": [
    "Observations = { 'guest' : 'A' }"
   ]
  },
  {
   "cell_type": "code",
   "execution_count": 24,
   "metadata": {},
   "outputs": [],
   "source": [
    "NodeList = [guest,prize,monty]"
   ]
  },
  {
   "cell_type": "code",
   "execution_count": 25,
   "metadata": {},
   "outputs": [
    {
     "ename": "NameError",
     "evalue": "name 'random' is not defined",
     "output_type": "error",
     "traceback": [
      "\u001b[1;31m---------------------------------------------------------------------------\u001b[0m",
      "\u001b[1;31mNameError\u001b[0m                                 Traceback (most recent call last)",
      "\u001b[1;32m<ipython-input-25-60095d664213>\u001b[0m in \u001b[0;36m<module>\u001b[1;34m\u001b[0m\n\u001b[0;32m      6\u001b[0m     \u001b[0mParentLikelihoodWeight\u001b[0m \u001b[1;33m=\u001b[0m \u001b[1;33m{\u001b[0m\u001b[1;33m}\u001b[0m\u001b[1;33m\u001b[0m\u001b[1;33m\u001b[0m\u001b[0m\n\u001b[0;32m      7\u001b[0m     \u001b[0mRunningVar\u001b[0m\u001b[1;33m,\u001b[0m\u001b[0mParentLikelihoodWeight\u001b[0m \u001b[1;33m=\u001b[0m \u001b[0mguest\u001b[0m\u001b[1;33m.\u001b[0m\u001b[0mgetOutputWithLikehood\u001b[0m\u001b[1;33m(\u001b[0m\u001b[0mRunningVar\u001b[0m\u001b[1;33m,\u001b[0m\u001b[0mParentLikelihoodWeight\u001b[0m\u001b[1;33m,\u001b[0m\u001b[0mObservations\u001b[0m\u001b[1;33m)\u001b[0m\u001b[1;33m\u001b[0m\u001b[1;33m\u001b[0m\u001b[0m\n\u001b[1;32m----> 8\u001b[1;33m     \u001b[0mRunningVar\u001b[0m\u001b[1;33m,\u001b[0m\u001b[0mParentLikelihoodWeight\u001b[0m \u001b[1;33m=\u001b[0m \u001b[0mprize\u001b[0m\u001b[1;33m.\u001b[0m\u001b[0mgetOutputWithLikehood\u001b[0m\u001b[1;33m(\u001b[0m\u001b[0mRunningVar\u001b[0m\u001b[1;33m,\u001b[0m\u001b[0mParentLikelihoodWeight\u001b[0m\u001b[1;33m,\u001b[0m\u001b[0mObservations\u001b[0m\u001b[1;33m)\u001b[0m\u001b[1;33m\u001b[0m\u001b[1;33m\u001b[0m\u001b[0m\n\u001b[0m\u001b[0;32m      9\u001b[0m     \u001b[0mRunningVar\u001b[0m\u001b[1;33m,\u001b[0m\u001b[0mParentLikelihoodWeight\u001b[0m \u001b[1;33m=\u001b[0m \u001b[0mmonty\u001b[0m\u001b[1;33m.\u001b[0m\u001b[0mgetOutputWithLikehood\u001b[0m\u001b[1;33m(\u001b[0m\u001b[0mRunningVar\u001b[0m\u001b[1;33m,\u001b[0m\u001b[0mParentLikelihoodWeight\u001b[0m\u001b[1;33m,\u001b[0m\u001b[0mObservations\u001b[0m\u001b[1;33m)\u001b[0m\u001b[1;33m\u001b[0m\u001b[1;33m\u001b[0m\u001b[0m\n\u001b[0;32m     10\u001b[0m     \u001b[0mRunForwardList\u001b[0m\u001b[1;33m.\u001b[0m\u001b[0mappend\u001b[0m\u001b[1;33m(\u001b[0m\u001b[0mRunningVar\u001b[0m\u001b[1;33m)\u001b[0m\u001b[1;33m\u001b[0m\u001b[1;33m\u001b[0m\u001b[0m\n",
      "\u001b[1;32m<ipython-input-5-4a479d76c797>\u001b[0m in \u001b[0;36mgetOutputWithLikehood\u001b[1;34m(self, ParentState, ParentLikelihoodWeight, Observations)\u001b[0m\n\u001b[0;32m     56\u001b[0m                 \u001b[0mNodeProba\u001b[0m \u001b[1;33m=\u001b[0m \u001b[0mself\u001b[0m\u001b[1;33m.\u001b[0m\u001b[0mgetNodeProbability\u001b[0m\u001b[1;33m(\u001b[0m\u001b[0mParentState\u001b[0m\u001b[1;33m)\u001b[0m\u001b[1;33m\u001b[0m\u001b[1;33m\u001b[0m\u001b[0m\n\u001b[0;32m     57\u001b[0m                 \u001b[0msortedProba\u001b[0m \u001b[1;33m=\u001b[0m \u001b[0mNodeProba\u001b[0m\u001b[1;33m.\u001b[0m\u001b[0mT\u001b[0m\u001b[1;33m[\u001b[0m\u001b[0mNodeProba\u001b[0m\u001b[1;33m[\u001b[0m\u001b[1;36m1\u001b[0m\u001b[1;33m]\u001b[0m\u001b[1;33m.\u001b[0m\u001b[0margsort\u001b[0m\u001b[1;33m(\u001b[0m\u001b[1;33m)\u001b[0m\u001b[1;33m]\u001b[0m\u001b[1;33m.\u001b[0m\u001b[0mT\u001b[0m\u001b[1;33m\u001b[0m\u001b[1;33m\u001b[0m\u001b[0m\n\u001b[1;32m---> 58\u001b[1;33m             \u001b[0mRandomValue\u001b[0m \u001b[1;33m=\u001b[0m \u001b[0mrandom\u001b[0m\u001b[1;33m.\u001b[0m\u001b[0mrandom\u001b[0m\u001b[1;33m(\u001b[0m\u001b[1;33m)\u001b[0m\u001b[1;33m\u001b[0m\u001b[1;33m\u001b[0m\u001b[0m\n\u001b[0m\u001b[0;32m     59\u001b[0m             \u001b[1;32mfor\u001b[0m \u001b[0mindex\u001b[0m \u001b[1;32min\u001b[0m \u001b[0mrange\u001b[0m\u001b[1;33m(\u001b[0m\u001b[0mlen\u001b[0m\u001b[1;33m(\u001b[0m\u001b[0msortedProba\u001b[0m\u001b[1;33m)\u001b[0m\u001b[1;33m)\u001b[0m\u001b[1;33m:\u001b[0m\u001b[1;33m\u001b[0m\u001b[1;33m\u001b[0m\u001b[0m\n\u001b[0;32m     60\u001b[0m                 \u001b[1;32mif\u001b[0m \u001b[0mRandomValue\u001b[0m \u001b[1;33m<\u001b[0m \u001b[0msortedProba\u001b[0m\u001b[1;33m[\u001b[0m\u001b[1;36m1\u001b[0m\u001b[1;33m]\u001b[0m\u001b[1;33m[\u001b[0m\u001b[1;33m:\u001b[0m\u001b[0mindex\u001b[0m\u001b[1;33m+\u001b[0m\u001b[1;36m1\u001b[0m\u001b[1;33m]\u001b[0m\u001b[1;33m.\u001b[0m\u001b[0mastype\u001b[0m\u001b[1;33m(\u001b[0m\u001b[0mnp\u001b[0m\u001b[1;33m.\u001b[0m\u001b[0mfloat\u001b[0m\u001b[1;33m)\u001b[0m\u001b[1;33m.\u001b[0m\u001b[0msum\u001b[0m\u001b[1;33m(\u001b[0m\u001b[1;33m)\u001b[0m\u001b[1;33m:\u001b[0m\u001b[1;33m\u001b[0m\u001b[1;33m\u001b[0m\u001b[0m\n",
      "\u001b[1;31mNameError\u001b[0m: name 'random' is not defined"
     ]
    }
   ],
   "source": [
    "RunForwardList = []\n",
    "RunForwardWeight = []\n",
    "for i in range(100000):\n",
    "    w = 1\n",
    "    RunningVar = {}\n",
    "    ParentLikelihoodWeight = {}\n",
    "    RunningVar,ParentLikelihoodWeight = guest.getOutputWithLikehood(RunningVar,ParentLikelihoodWeight,Observations)\n",
    "    RunningVar,ParentLikelihoodWeight = prize.getOutputWithLikehood(RunningVar,ParentLikelihoodWeight,Observations)\n",
    "    RunningVar,ParentLikelihoodWeight = monty.getOutputWithLikehood(RunningVar,ParentLikelihoodWeight,Observations)\n",
    "    RunForwardList.append(RunningVar)\n",
    "    for key in Observations:\n",
    "        w *= ParentLikelihoodWeight[key]\n",
    "    RunForwardWeight.append(w)"
   ]
  },
  {
   "cell_type": "code",
   "execution_count": 26,
   "metadata": {},
   "outputs": [],
   "source": [
    "RunValueList = []\n",
    "WeightList = []\n",
    "KeyList = []\n",
    "for index_,RunForwardValue in enumerate(RunForwardList):\n",
    "    OneRow = []\n",
    "    for key in RunForwardValue: \n",
    "        if key not in Observations:\n",
    "            if index_ == 0:\n",
    "                KeyList.append(key)\n",
    "            OneRow.append(RunForwardValue[key])\n",
    "    RunValueList.append(OneRow)\n",
    "    WeightList.append(RunForwardWeight[index_])\n",
    "NumpyRunValue = np.array(RunValueList)\n",
    "NumpyKey = np.array(list(KeyList))\n",
    "NumpyWeight = np.array(WeightList)"
   ]
  },
  {
   "cell_type": "code",
   "execution_count": 27,
   "metadata": {
    "tags": []
   },
   "outputs": [
    {
     "name": "stdout",
     "output_type": "stream",
     "text": [
      "guest A\n",
      "============================\n",
      "prize\n"
     ]
    },
    {
     "ename": "IndexError",
     "evalue": "index 0 is out of bounds for axis 0 with size 0",
     "output_type": "error",
     "traceback": [
      "\u001b[1;31m---------------------------------------------------------------------------\u001b[0m",
      "\u001b[1;31mIndexError\u001b[0m                                Traceback (most recent call last)",
      "\u001b[1;32m<ipython-input-27-b9cb4ef3819b>\u001b[0m in \u001b[0;36m<module>\u001b[1;34m\u001b[0m\n\u001b[0;32m      5\u001b[0m     \u001b[1;32melse\u001b[0m\u001b[1;33m:\u001b[0m\u001b[1;33m\u001b[0m\u001b[1;33m\u001b[0m\u001b[0m\n\u001b[0;32m      6\u001b[0m         \u001b[0mprint\u001b[0m\u001b[1;33m(\u001b[0m\u001b[0mNode\u001b[0m\u001b[1;33m.\u001b[0m\u001b[0mNodeName\u001b[0m\u001b[1;33m)\u001b[0m\u001b[1;33m\u001b[0m\u001b[1;33m\u001b[0m\u001b[0m\n\u001b[1;32m----> 7\u001b[1;33m         \u001b[0mindexNumpyRunValue\u001b[0m \u001b[1;33m=\u001b[0m \u001b[0mnp\u001b[0m\u001b[1;33m.\u001b[0m\u001b[0mwhere\u001b[0m\u001b[1;33m(\u001b[0m\u001b[0mNumpyKey\u001b[0m\u001b[1;33m==\u001b[0m\u001b[0mNode\u001b[0m\u001b[1;33m.\u001b[0m\u001b[0mNodeName\u001b[0m\u001b[1;33m)\u001b[0m\u001b[1;33m[\u001b[0m\u001b[1;36m0\u001b[0m\u001b[1;33m]\u001b[0m\u001b[1;33m[\u001b[0m\u001b[1;36m0\u001b[0m\u001b[1;33m]\u001b[0m\u001b[1;33m\u001b[0m\u001b[1;33m\u001b[0m\u001b[0m\n\u001b[0m\u001b[0;32m      8\u001b[0m         \u001b[1;32mfor\u001b[0m \u001b[0mValue\u001b[0m \u001b[1;32min\u001b[0m \u001b[0mNode\u001b[0m\u001b[1;33m.\u001b[0m\u001b[0mgetValueList\u001b[0m\u001b[1;33m(\u001b[0m\u001b[1;33m)\u001b[0m\u001b[1;33m:\u001b[0m\u001b[1;33m\u001b[0m\u001b[1;33m\u001b[0m\u001b[0m\n\u001b[0;32m      9\u001b[0m             \u001b[0mprint\u001b[0m\u001b[1;33m(\u001b[0m\u001b[0mValue\u001b[0m\u001b[1;33m,\u001b[0m\u001b[0mnp\u001b[0m\u001b[1;33m.\u001b[0m\u001b[0msum\u001b[0m\u001b[1;33m(\u001b[0m\u001b[0mNumpyWeight\u001b[0m\u001b[1;33m[\u001b[0m\u001b[0mnp\u001b[0m\u001b[1;33m.\u001b[0m\u001b[0mwhere\u001b[0m\u001b[1;33m(\u001b[0m\u001b[0mNumpyRunValue\u001b[0m\u001b[1;33m[\u001b[0m\u001b[1;33m:\u001b[0m\u001b[1;33m,\u001b[0m\u001b[0mindexNumpyRunValue\u001b[0m\u001b[1;33m]\u001b[0m \u001b[1;33m==\u001b[0m \u001b[0mValue\u001b[0m\u001b[1;33m)\u001b[0m\u001b[1;33m[\u001b[0m\u001b[1;36m0\u001b[0m\u001b[1;33m]\u001b[0m\u001b[1;33m]\u001b[0m\u001b[1;33m)\u001b[0m \u001b[1;33m/\u001b[0m \u001b[0mTotalWeight\u001b[0m\u001b[1;33m)\u001b[0m\u001b[1;33m\u001b[0m\u001b[1;33m\u001b[0m\u001b[0m\n",
      "\u001b[1;31mIndexError\u001b[0m: index 0 is out of bounds for axis 0 with size 0"
     ]
    }
   ],
   "source": [
    "TotalWeight = np.sum(NumpyWeight)\n",
    "for Node in NodeList:\n",
    "    if Node.NodeName in Observations.keys():\n",
    "        print(Node.NodeName, Observations[Node.NodeName])\n",
    "    else:\n",
    "        print(Node.NodeName)\n",
    "        indexNumpyRunValue = np.where(NumpyKey==Node.NodeName)[0][0]\n",
    "        for Value in Node.getValueList():\n",
    "            print(Value,np.sum(NumpyWeight[np.where(NumpyRunValue[:,indexNumpyRunValue] == Value)[0]]) / TotalWeight)\n",
    "    print('============================')"
   ]
  },
  {
   "cell_type": "code",
   "execution_count": 35,
   "metadata": {
    "tags": []
   },
   "outputs": [
    {
     "name": "stdout",
     "output_type": "stream",
     "text": [
      "\n",
      "List a is not empty\n",
      "List b is empty\n"
     ]
    }
   ],
   "source": [
    "a = ['i']\n",
    "b = ['']\n",
    "print(b[0])\n",
    "if not a:\n",
    "    print(\"List a is empty\")\n",
    "else:\n",
    "    print(\"List a is not empty\")\n",
    "\n",
    "if b == ['']:\n",
    "    print(\"List b is empty\")\n",
    "else:\n",
    "    print(\"List b is not empty\")\n"
   ]
  },
  {
   "cell_type": "code",
   "execution_count": 14,
   "metadata": {
    "tags": []
   },
   "outputs": [
    {
     "name": "stdout",
     "output_type": "stream",
     "text": [
      "line:  2\n",
      "\n",
      "line:  G=A;I=Cao,D=Kho\n",
      "\n",
      "input:  ['G=A', 'I=Cao,D=Kho']\n",
      "prob:  G=A\n",
      "subProb:  G\n",
      "subP:  ['G']\n"
     ]
    },
    {
     "ename": "IndexError",
     "evalue": "list index out of range",
     "output_type": "error",
     "traceback": [
      "\u001b[1;31m---------------------------------------------------------------------------\u001b[0m",
      "\u001b[1;31mIndexError\u001b[0m                                Traceback (most recent call last)",
      "\u001b[1;32m<ipython-input-14-facb881352c4>\u001b[0m in \u001b[0;36m<module>\u001b[1;34m\u001b[0m\n\u001b[0;32m     16\u001b[0m             \u001b[0msubP\u001b[0m \u001b[1;33m=\u001b[0m \u001b[0msubProb\u001b[0m\u001b[1;33m.\u001b[0m\u001b[0msplit\u001b[0m\u001b[1;33m(\u001b[0m\u001b[1;34m'='\u001b[0m\u001b[1;33m)\u001b[0m\u001b[1;33m\u001b[0m\u001b[1;33m\u001b[0m\u001b[0m\n\u001b[0;32m     17\u001b[0m             \u001b[0mprint\u001b[0m\u001b[1;33m(\u001b[0m\u001b[1;34m\"subP: \"\u001b[0m\u001b[1;33m,\u001b[0m \u001b[0msubP\u001b[0m\u001b[1;33m)\u001b[0m\u001b[1;33m\u001b[0m\u001b[1;33m\u001b[0m\u001b[0m\n\u001b[1;32m---> 18\u001b[1;33m             \u001b[0mProbability\u001b[0m\u001b[1;33m.\u001b[0m\u001b[0mupdate\u001b[0m\u001b[1;33m(\u001b[0m\u001b[1;33m{\u001b[0m\u001b[0msubP\u001b[0m\u001b[1;33m[\u001b[0m\u001b[1;36m0\u001b[0m\u001b[1;33m]\u001b[0m\u001b[1;33m:\u001b[0m\u001b[0msubP\u001b[0m\u001b[1;33m[\u001b[0m\u001b[1;36m1\u001b[0m\u001b[1;33m]\u001b[0m\u001b[1;33m}\u001b[0m\u001b[1;33m)\u001b[0m\u001b[1;33m\u001b[0m\u001b[1;33m\u001b[0m\u001b[0m\n\u001b[0m\u001b[0;32m     19\u001b[0m         \u001b[0mcondition\u001b[0m \u001b[1;33m=\u001b[0m \u001b[0minput\u001b[0m\u001b[1;33m[\u001b[0m\u001b[1;36m1\u001b[0m\u001b[1;33m]\u001b[0m\u001b[1;33m.\u001b[0m\u001b[0msplit\u001b[0m\u001b[1;33m(\u001b[0m\u001b[1;34m','\u001b[0m\u001b[1;33m)\u001b[0m\u001b[1;33m\u001b[0m\u001b[1;33m\u001b[0m\u001b[0m\n\u001b[0;32m     20\u001b[0m         \u001b[0mprint\u001b[0m\u001b[1;33m(\u001b[0m\u001b[1;34m\"condition: \"\u001b[0m\u001b[1;33m,\u001b[0m \u001b[0mcondition\u001b[0m\u001b[1;33m)\u001b[0m\u001b[1;33m\u001b[0m\u001b[1;33m\u001b[0m\u001b[0m\n",
      "\u001b[1;31mIndexError\u001b[0m: list index out of range"
     ]
    }
   ],
   "source": [
    "file = open(\"test.txt\")\n",
    "for line in file:\n",
    "    ObservationList = dict()\n",
    "    Probability = dict()\n",
    "    print(\"line: \",line)\n",
    "    if len(line) == 2:\n",
    "        numVertex = line.split('\\n')[0]\n",
    "    else:\n",
    "        inputGraph = line.split('\\n')[0]\n",
    "        input = inputGraph.split(';')\n",
    "        print(\"input: \", input)\n",
    "        prob = str(input[0])\n",
    "        print(\"prob: \", prob)\n",
    "        for subProb in prob:\n",
    "            print(\"subProb: \",subProb)\n",
    "            subP = subProb.split('=')\n",
    "            print(\"subP: \", subP)\n",
    "            Probability.update({subP[0]:subP[1]})\n",
    "        condition = input[1].split(',')\n",
    "        print(\"condition: \", condition)\n",
    "        for subcondition in condition:\n",
    "            sub = subcondition.split('=')\n",
    "            print(\"subcondition: \",sub)\n",
    "            ObservationList.update({sub[0]:sub[1]})\n",
    "        print(\"Probability: \",Probability)\n",
    "        print(\"ObservationList: \",ObservationList)\n",
    "        print(\"=======\")\n"
   ]
  },
  {
   "cell_type": "code",
   "execution_count": null,
   "metadata": {},
   "outputs": [],
   "source": []
  }
 ],
 "metadata": {
  "kernelspec": {
   "display_name": "Python 3",
   "language": "python",
   "name": "python3"
  },
  "language_info": {
   "codemirror_mode": {
    "name": "ipython",
    "version": 3
   },
   "file_extension": ".py",
   "mimetype": "text/x-python",
   "name": "python",
   "nbconvert_exporter": "python",
   "pygments_lexer": "ipython3",
   "version": "3.7.6"
  }
 },
 "nbformat": 4,
 "nbformat_minor": 2
}
