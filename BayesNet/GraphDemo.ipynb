{
 "cells": [
  {
   "cell_type": "code",
   "execution_count": 9,
   "metadata": {},
   "outputs": [],
   "source": [
    "from IGraph import *\n",
    "from AbstractGraph import *\n",
    "from UGraphModel import *\n",
    "from DGraphModel import *\n",
    "from BayesNet import *"
   ]
  },
  {
   "cell_type": "code",
   "execution_count": 16,
   "metadata": {
    "scrolled": true
   },
   "outputs": [
    {
     "name": "stdout",
     "output_type": "stream",
     "text": [
      "=======================================================\n",
      "Vertices:\n",
      " V(0, in:1, out:2)\n",
      " V(1, in:2, out:1)\n",
      " V(2, in:3, out:0)\n",
      " V(3, in:0, out:4)\n",
      " V(4, in:2, out:1)\n",
      " V(5, in:1, out:0)\n",
      " V(6, in:0, out:3)\n",
      " V(7, in:3, out:0)\n",
      " V(8, in:2, out:2)\n",
      " V(9, in:0, out:1)\n",
      "------------------------------------------------------\n",
      "Edges:\n",
      " E(0, 1, 0)\n",
      " E(0, 5, 0)\n",
      " E(1, 7, 0)\n",
      " E(3, 2, 0)\n",
      " E(3, 4, 0)\n",
      " E(3, 7, 0)\n",
      " E(3, 8, 0)\n",
      " E(4, 8, 0)\n",
      " E(6, 0, 0)\n",
      " E(6, 1, 0)\n",
      " E(6, 2, 0)\n",
      " E(8, 2, 0)\n",
      " E(8, 7, 0)\n",
      " E(9, 4, 0)\n",
      "======================================================\n",
      "\n"
     ]
    }
   ],
   "source": [
    "model = DGraphModel()\n",
    "for idx in range(10):\n",
    "    model.add(str(idx))\n",
    "\n",
    "model.connect('0', '1')\n",
    "model.connect('0', '5')\n",
    "model.connect('1', '7')\n",
    "model.connect('3', '2')\n",
    "model.connect('3', '4')\n",
    "model.connect('3', '7')\n",
    "model.connect('3', '8')\n",
    "model.connect('4', '8')\n",
    "model.connect('6', '0')\n",
    "model.connect('6', '1')\n",
    "model.connect('6', '2')\n",
    "model.connect('8', '2')\n",
    "model.connect('8', '7')\n",
    "model.connect('9', '4')\n",
    "model.println()"
   ]
  },
  {
   "cell_type": "code",
   "execution_count": 24,
   "metadata": {},
   "outputs": [
    {
     "name": "stdout",
     "output_type": "stream",
     "text": [
      "topoBFS: ['3', '6', '9', '0', '4', '1', '5', '8', '2', '7']\n",
      "topoDFS: ['3', '6', '0', '5', '1', '9', '4', '8', '2', '7']\n"
     ]
    }
   ],
   "source": [
    "DFS = 0\n",
    "BFS = 1\n",
    "sorter = TopoSorter(model)\n",
    "topo = sorter.sort(BFS)\n",
    "print(\"topoBFS:\", topo)\n",
    "\n",
    "topo = sorter.sort(DFS)\n",
    "print(\"topoDFS:\", topo)"
   ]
  },
  {
   "cell_type": "code",
   "execution_count": 7,
   "metadata": {},
   "outputs": [],
   "source": [
    "a = np.array([[ 'True', 'True', 'True', 1.0 ],\n",
    "             [ 'True', 'True', 'False', 0.0 ],\n",
    "             [ 'True', 'False', 'True', 1.0 ],\n",
    "             [ 'True', 'False', 'False', 0.0 ],\n",
    "             [ 'False', 'True', 'True', 1.0 ],\n",
    "             [ 'False', 'True', 'False', 0.0 ],\n",
    "             [ 'False', 'False', 'True', 0.0 ],\n",
    "             [ 'False', 'False', 'False', 1.0 ]])"
   ]
  },
  {
   "cell_type": "code",
   "execution_count": 8,
   "metadata": {},
   "outputs": [],
   "source": [
    "import numpy as np"
   ]
  },
  {
   "cell_type": "code",
   "execution_count": 33,
   "metadata": {},
   "outputs": [
    {
     "data": {
      "text/plain": [
       "(array([0, 1]),)"
      ]
     },
     "execution_count": 33,
     "metadata": {},
     "output_type": "execute_result"
    }
   ],
   "source": [
    "np.where( ( a[0] == 'True' ) & ( a[1] == 'True' ) )"
   ]
  },
  {
   "cell_type": "code",
   "execution_count": 26,
   "metadata": {},
   "outputs": [
    {
     "data": {
      "text/plain": [
       "(array([0, 1, 4, 5]),)"
      ]
     },
     "execution_count": 26,
     "metadata": {},
     "output_type": "execute_result"
    }
   ],
   "source": [
    "np.where( a[1] == 'True' )"
   ]
  },
  {
   "cell_type": "code",
   "execution_count": 72,
   "metadata": {},
   "outputs": [
    {
     "data": {
      "text/plain": [
       "array([['True', 'True', 'False', 'False'],\n",
       "       ['True', 'False', 'True', 'False'],\n",
       "       ['1.0', '0.0', '1.0', '0.0']], dtype='<U5')"
      ]
     },
     "execution_count": 72,
     "metadata": {},
     "output_type": "execute_result"
    }
   ],
   "source": [
    "a[1:,[0, 1, 2, 3]]"
   ]
  },
  {
   "cell_type": "code",
   "execution_count": 1261,
   "metadata": {},
   "outputs": [],
   "source": [
    "class ConditionalProbabilityTable():\n",
    "    def __init__(self,initTable,initParents,initNodeName):\n",
    "        self.ProbabilityTable = np.array(initTable).T.astype(dtype='<U21')  \n",
    "        self.ParentsList = initParents\n",
    "        self.NodeName = initNodeName\n",
    "        if self.isDiscreteDistribution() == False:\n",
    "            self.ParentsNum = len(initParents)\n",
    "            if self.ProbabilityTable.shape[0]-2 != self.ParentsNum:\n",
    "                raise NameError(\"Init failed, number of parents is wrong!\")\n",
    "        \n",
    "    def getValueList(self):\n",
    "        return list(set(self.ProbabilityTable[-2]))\n",
    "\n",
    "    def isDiscreteDistribution(self):\n",
    "        if self.ParentsList == None:\n",
    "            return True\n",
    "        else:\n",
    "            False\n",
    "    \n",
    "    def getNodeProbability(self,ParentState):\n",
    "        RunTable = self.ProbabilityTable\n",
    "        for name in self.ParentsList:\n",
    "            if name in ParentState:\n",
    "                # Check Parent len\n",
    "                State = np.array(ParentState[name]).astype(dtype='<U21')\n",
    "                index = np.where( RunTable[0] == State )[0]\n",
    "                RunTable = RunTable[1:,index]  \n",
    "            else:\n",
    "                raise NameError(\"Parents state is not enough\")\n",
    "        return RunTable\n",
    "    \n",
    "    def getOutput(self,ParentState):\n",
    "        if self.isDiscreteDistribution():   \n",
    "            sortedProba = self.ProbabilityTable.T[self.ProbabilityTable[1].argsort()].T\n",
    "        else:\n",
    "            NodeProba = self.getNodeProbability(ParentState)\n",
    "            sortedProba = NodeProba.T[NodeProba[1].argsort()].T\n",
    "            \n",
    "        RandomValue = random.random()\n",
    "        #print(RandomValue)\n",
    "        #print(sortedProba)\n",
    "        for index in range(len(sortedProba)):\n",
    "            if RandomValue < sortedProba[1][:index+1].astype(np.float).sum():\n",
    "                ParentState[self.NodeName] = sortedProba[0,index]\n",
    "                return ParentState\n",
    "        ParentState[self.NodeName] = sortedProba[0,-1]\n",
    "        return ParentState\n",
    "\n",
    "    def getNodeProbabilityWithLikehood(self, ParentState, ParentLikelihoodWeight):\n",
    "        RunTable = self.ProbabilityTable\n",
    "        Likelihood = 1\n",
    "        for name in self.ParentsList:\n",
    "            if name in ParentState:\n",
    "                # Check Parent len\n",
    "                Likelihood *= ParentLikelihoodWeight[name]\n",
    "                State = np.array(ParentState[name]).astype(dtype='<U21')\n",
    "                index = np.where( RunTable[0] == State )[0]\n",
    "                RunTable = RunTable[1:,index]  \n",
    "            else:\n",
    "                raise NameError(\"Parents state is not enough\")\n",
    "        return RunTable,Likelihood\n",
    "        \n",
    "    def getOutputWithLikehood(self, ParentState, ParentLikelihoodWeight, Observations):\n",
    "        if self.NodeName not in Observations.keys():\n",
    "            if self.isDiscreteDistribution():   \n",
    "                sortedProba = self.ProbabilityTable.T[self.ProbabilityTable[1].argsort()].T\n",
    "            else:\n",
    "                NodeProba,Likelihood = self.getNodeProbabilityWithLikehood(ParentState,ParentLikelihoodWeight)\n",
    "                sortedProba = NodeProba.T[NodeProba[1].argsort()].T\n",
    "\n",
    "            RandomValue = random.random()\n",
    "            #print(RandomValue)\n",
    "            #print(sortedProba)\n",
    "            for index in range(len(sortedProba)):\n",
    "                if RandomValue < sortedProba[1][:index+1].astype(np.float).sum():\n",
    "                    ParentState[self.NodeName] = sortedProba[0,index]\n",
    "                    if self.isDiscreteDistribution(): \n",
    "                        ParentLikelihoodWeight[self.NodeName] = float(sortedProba[1,index])  \n",
    "                    else:\n",
    "                        ParentLikelihoodWeight[self.NodeName] = Likelihood\n",
    "                    return ParentState, ParentLikelihoodWeight\n",
    "            ParentState[self.NodeName] = sortedProba[0,-1]\n",
    "            if self.isDiscreteDistribution(): \n",
    "                ParentLikelihoodWeight[self.NodeName] = float(sortedProba[1,index])\n",
    "            else:\n",
    "                ParentLikelihoodWeight[self.NodeName] = Likelihood\n",
    "            return ParentState, ParentLikelihoodWeight\n",
    "        else:\n",
    "            if self.isDiscreteDistribution():   \n",
    "                sortedProba = self.ProbabilityTable.T[self.ProbabilityTable[1].argsort()].T\n",
    "            else:\n",
    "                NodeProba,Likelihood = self.getNodeProbabilityWithLikehood(ParentState,ParentLikelihoodWeight)\n",
    "                sortedProba = NodeProba.T[NodeProba[1].argsort()].T\n",
    "            #print(sortedProba)\n",
    "            #print(np.array(Observations[self.NodeName]).astype(dtype='<U21'))\n",
    "            index = np.where(sortedProba[0]==np.array(Observations[self.NodeName]).astype(dtype='<U21'))[0][0]\n",
    "            #print(\"=============\",index)\n",
    "            if self.isDiscreteDistribution(): \n",
    "                ParentLikelihoodWeight[self.NodeName] = float(sortedProba[1,index])\n",
    "            else:\n",
    "                ParentLikelihoodWeight[self.NodeName] = Likelihood*float(sortedProba[1,index])\n",
    "                \n",
    "            ParentState[self.NodeName] = sortedProba[0,index]\n",
    "            \n",
    "            return ParentState, ParentLikelihoodWeight"
   ]
  },
  {
   "cell_type": "code",
   "execution_count": 1262,
   "metadata": {},
   "outputs": [],
   "source": [
    "asia = ConditionalProbabilityTable( [ ['True', 0.5],[ 'False', 0.5 ]], None, 'asia' )"
   ]
  },
  {
   "cell_type": "code",
   "execution_count": 1263,
   "metadata": {},
   "outputs": [],
   "source": [
    "tuberculosis = ConditionalProbabilityTable(\n",
    "    [[ 'True', 'True', 0.2 ],\n",
    "     [ 'True', 'False', 0.8 ],\n",
    "     [ 'False', 'True', 0.01 ],\n",
    "     [ 'False', 'False', 0.99 ]], ['asia'],'tuberculosis')"
   ]
  },
  {
   "cell_type": "code",
   "execution_count": 1264,
   "metadata": {},
   "outputs": [],
   "source": [
    "smoking = ConditionalProbabilityTable( [ ['True', 0.5],[ 'False', 0.5 ]], None, 'smoking' )"
   ]
  },
  {
   "cell_type": "code",
   "execution_count": 1265,
   "metadata": {},
   "outputs": [],
   "source": [
    "lung = ConditionalProbabilityTable(\n",
    "    [[ 'True', 'True', 0.75 ],\n",
    "     [ 'True', 'False', 0.25 ],\n",
    "     [ 'False', 'True', 0.02 ],\n",
    "     [ 'False', 'False', 0.98 ]], ['smoking'], 'lung' )\n",
    "\n",
    "bronchitis = ConditionalProbabilityTable(\n",
    "    [[ 'True', 'True', 0.92 ],\n",
    "     [ 'True', 'False', 0.08 ],\n",
    "     [ 'False', 'True', 0.03 ],\n",
    "     [ 'False', 'False', 0.97 ]], ['smoking'], 'bronchitis' )\n",
    "\n",
    "tuberculosis_or_cancer = ConditionalProbabilityTable(\n",
    "    [[ 'True', 'True', 'True', 1.0 ],\n",
    "     [ 'True', 'True', 'False', 0.0 ],\n",
    "     [ 'True', 'False', 'True', 1.0 ],\n",
    "     [ 'True', 'False', 'False', 0.0 ],\n",
    "     [ 'False', 'True', 'True', 1.0 ],\n",
    "     [ 'False', 'True', 'False', 0.0 ],\n",
    "     [ 'False', 'False', 'True', 0.0 ],\n",
    "     [ 'False', 'False', 'False', 1.0 ]], ['tuberculosis', 'lung'], 'tuberculosis_or_cancer' )"
   ]
  },
  {
   "cell_type": "code",
   "execution_count": 1266,
   "metadata": {},
   "outputs": [],
   "source": [
    "xray = ConditionalProbabilityTable(\n",
    "    [[ 'True', 'True', 0.885 ],\n",
    "     [ 'True', 'False', 0.115 ],\n",
    "     [ 'False', 'True', 0.04 ],\n",
    "     [ 'False', 'False', 0.96 ]], ['tuberculosis_or_cancer'] , 'xray')"
   ]
  },
  {
   "cell_type": "code",
   "execution_count": 1267,
   "metadata": {},
   "outputs": [],
   "source": [
    "dyspnea = ConditionalProbabilityTable(\n",
    "    [[ 'True', 'True', 'True', 0.96 ],\n",
    "     [ 'True', 'True', 'False', 0.04 ],\n",
    "     [ 'True', 'False', 'True', 0.89 ],\n",
    "     [ 'True', 'False', 'False', 0.11 ],\n",
    "     [ 'False', 'True', 'True', 0.96 ],\n",
    "     [ 'False', 'True', 'False', 0.04 ],\n",
    "     [ 'False', 'False', 'True', 0.89 ],\n",
    "     [ 'False', 'False', 'False', 0.11 ]], ['tuberculosis_or_cancer', 'bronchitis'],'dyspnea')"
   ]
  },
  {
   "cell_type": "code",
   "execution_count": 1101,
   "metadata": {},
   "outputs": [],
   "source": [
    "NodeList = [asia,smoking,tuberculosis,lung,tuberculosis_or_cancer,bronchitis,xray,dyspnea]"
   ]
  },
  {
   "cell_type": "code",
   "execution_count": 1145,
   "metadata": {},
   "outputs": [
    {
     "data": {
      "text/plain": [
       "{'asia': 'True',\n",
       " 'smoking': 'True',\n",
       " 'tuberculosis': 'False',\n",
       " 'lung': 'False',\n",
       " 'tuberculosis_or_cancer': 'False',\n",
       " 'bronchitis': 'True',\n",
       " 'xray': 'False',\n",
       " 'dyspnea': 'True'}"
      ]
     },
     "execution_count": 1145,
     "metadata": {},
     "output_type": "execute_result"
    }
   ],
   "source": [
    "RunningVar"
   ]
  },
  {
   "cell_type": "code",
   "execution_count": 1134,
   "metadata": {},
   "outputs": [],
   "source": [
    "RunForwardList = []\n",
    "for i in range(300000):\n",
    "    RunningVar = {}\n",
    "    RunningVar = asia.getOutput(RunningVar)\n",
    "    RunningVar = smoking.getOutput(RunningVar)\n",
    "    RunningVar = tuberculosis.getOutput(RunningVar)\n",
    "    RunningVar = lung.getOutput(RunningVar)\n",
    "    RunningVar = tuberculosis_or_cancer.getOutput(RunningVar)\n",
    "    RunningVar = bronchitis.getOutput(RunningVar)\n",
    "    RunningVar = xray.getOutput(RunningVar)\n",
    "    RunningVar = dyspnea.getOutput(RunningVar)\n",
    "    RunForwardList.append(RunningVar)"
   ]
  },
  {
   "cell_type": "code",
   "execution_count": 1135,
   "metadata": {},
   "outputs": [],
   "source": [
    "Observations = { 'tuberculosis' : 'True', 'smoking' : 'False', 'bronchitis' : 'True' }"
   ]
  },
  {
   "cell_type": "code",
   "execution_count": 1136,
   "metadata": {},
   "outputs": [],
   "source": [
    "NodeNameList = ['asia','smoking','tuberculosis','lung','tuberculosis_or_cancer','bronchitis','xray','dyspnea']"
   ]
  },
  {
   "cell_type": "code",
   "execution_count": 1137,
   "metadata": {},
   "outputs": [],
   "source": [
    "RunValueList = []\n",
    "KeyList = RunForwardList[0].keys()\n",
    "for RunForwardValue in RunForwardList:\n",
    "    OneRow = []\n",
    "    ObservationsCheck = True\n",
    "    for key in Observations:\n",
    "        if Observations[key] != RunForwardValue[key]:\n",
    "            ObservationsCheck = False\n",
    "    if ObservationsCheck == True:\n",
    "        for key in RunForwardValue: \n",
    "            OneRow.append(RunForwardValue[key])\n",
    "        RunValueList.append(OneRow)\n",
    "NumpyRunValue = np.array(RunValueList)\n",
    "NumpyKey = np.array(list(KeyList))"
   ]
  },
  {
   "cell_type": "code",
   "execution_count": 1138,
   "metadata": {},
   "outputs": [],
   "source": [
    "NumpyKey = np.array(list(KeyList))"
   ]
  },
  {
   "cell_type": "code",
   "execution_count": 1139,
   "metadata": {
    "scrolled": true
   },
   "outputs": [
    {
     "name": "stdout",
     "output_type": "stream",
     "text": [
      "asia\n",
      "True 0.9562624254473161\n",
      "False 0.0437375745526839\n",
      "============================\n",
      "smoking False\n",
      "============================\n",
      "tuberculosis True\n",
      "============================\n",
      "lung\n",
      "True 0.02385685884691849\n",
      "False 0.9761431411530815\n",
      "============================\n",
      "tuberculosis_or_cancer\n",
      "True 1.0\n",
      "False 0.0\n",
      "============================\n",
      "bronchitis True\n",
      "============================\n",
      "xray\n",
      "True 0.8846918489065606\n",
      "False 0.11530815109343936\n",
      "============================\n",
      "dyspnea\n",
      "True 0.9602385685884692\n",
      "False 0.039761431411530816\n",
      "============================\n"
     ]
    }
   ],
   "source": [
    "for Node in NodeList:\n",
    "    if Node.NodeName in Observations.keys():\n",
    "        print(Node.NodeName, Observations[Node.NodeName])\n",
    "    else:\n",
    "        print(Node.NodeName)\n",
    "        indexNumpyRunValue = np.where(NumpyKey==Node.NodeName)[0][0]\n",
    "        for Value in Node.getValueList():\n",
    "            print(Value,len(np.where(NumpyRunValue[:,indexNumpyRunValue] == Value)[0])/NumpyRunValue.shape[0])\n",
    "    print('============================')"
   ]
  },
  {
   "cell_type": "code",
   "execution_count": null,
   "metadata": {},
   "outputs": [],
   "source": []
  },
  {
   "cell_type": "code",
   "execution_count": 1155,
   "metadata": {},
   "outputs": [],
   "source": [
    "# Likelihood"
   ]
  },
  {
   "cell_type": "code",
   "execution_count": null,
   "metadata": {},
   "outputs": [],
   "source": [
    "RunForwardList = []\n",
    "for i in range(300000):\n",
    "    RunningVar = {}\n",
    "    ParentLikelihoodWeight = {}\n",
    "    Observations = { 'tuberculosis' : 'True', 'smoking' : 'False', 'bronchitis' : 'True' }\n",
    "    RunningVar = asia.getOutput(RunningVar,ParentLikelihoodWeight)\n",
    "    RunningVar = smoking.getOutput(RunningVar)\n",
    "    RunningVar = tuberculosis.getOutput(RunningVar)\n",
    "    RunningVar = lung.getOutput(RunningVar)\n",
    "    RunningVar = tuberculosis_or_cancer.getOutput(RunningVar)\n",
    "    RunningVar = bronchitis.getOutput(RunningVar)\n",
    "    RunningVar = xray.getOutput(RunningVar)\n",
    "    RunningVar = dyspnea.getOutput(RunningVar)\n",
    "    RunForwardList.append(RunningVar)"
   ]
  },
  {
   "cell_type": "code",
   "execution_count": 1317,
   "metadata": {},
   "outputs": [],
   "source": [
    "RunningVar = {}\n",
    "ParentLikelihoodWeight = {}\n",
    "Observations = { 'tuberculosis' : 'True', 'smoking' : 'False', 'bronchitis' : 'True' }\n",
    "RunningVar,ParentLikelihoodWeight = asia.getOutputWithLikehood(RunningVar,ParentLikelihoodWeight,Observations)\n",
    "RunningVar,ParentLikelihoodWeight = smoking.getOutputWithLikehood(RunningVar,ParentLikelihoodWeight,Observations)\n",
    "RunningVar,ParentLikelihoodWeight = tuberculosis.getOutputWithLikehood(RunningVar,ParentLikelihoodWeight,Observations)\n",
    "RunningVar,ParentLikelihoodWeight = lung.getOutputWithLikehood(RunningVar,ParentLikelihoodWeight,Observations)\n",
    "RunningVar,ParentLikelihoodWeight = tuberculosis_or_cancer.getOutputWithLikehood(RunningVar,ParentLikelihoodWeight,Observations)\n",
    "RunningVar,ParentLikelihoodWeight = bronchitis.getOutputWithLikehood(RunningVar,ParentLikelihoodWeight,Observations)\n",
    "RunningVar,ParentLikelihoodWeight = xray.getOutputWithLikehood(RunningVar,ParentLikelihoodWeight,Observations)\n",
    "RunningVar,ParentLikelihoodWeight = dyspnea.getOutputWithLikehood(RunningVar,ParentLikelihoodWeight,Observations)"
   ]
  },
  {
   "cell_type": "code",
   "execution_count": 1318,
   "metadata": {},
   "outputs": [
    {
     "data": {
      "text/plain": [
       "({'asia': 'False',\n",
       "  'smoking': 'False',\n",
       "  'tuberculosis': 'True',\n",
       "  'lung': 'False',\n",
       "  'tuberculosis_or_cancer': 'True',\n",
       "  'bronchitis': 'True',\n",
       "  'xray': 'True',\n",
       "  'dyspnea': 'False'},\n",
       " {'asia': 0.5,\n",
       "  'smoking': 0.5,\n",
       "  'tuberculosis': 0.005,\n",
       "  'lung': 0.5,\n",
       "  'tuberculosis_or_cancer': 0.0025,\n",
       "  'bronchitis': 0.015,\n",
       "  'xray': 0.0025,\n",
       "  'dyspnea': 3.75e-05})"
      ]
     },
     "execution_count": 1318,
     "metadata": {},
     "output_type": "execute_result"
    }
   ],
   "source": [
    "RunningVar,ParentLikelihoodWeight"
   ]
  },
  {
   "cell_type": "code",
   "execution_count": null,
   "metadata": {},
   "outputs": [],
   "source": []
  },
  {
   "cell_type": "code",
   "execution_count": null,
   "metadata": {},
   "outputs": [],
   "source": []
  },
  {
   "cell_type": "code",
   "execution_count": null,
   "metadata": {},
   "outputs": [],
   "source": []
  },
  {
   "cell_type": "code",
   "execution_count": null,
   "metadata": {},
   "outputs": [],
   "source": []
  },
  {
   "cell_type": "code",
   "execution_count": null,
   "metadata": {},
   "outputs": [],
   "source": []
  },
  {
   "cell_type": "code",
   "execution_count": 930,
   "metadata": {},
   "outputs": [],
   "source": [
    "running_list = []"
   ]
  },
  {
   "cell_type": "code",
   "execution_count": 944,
   "metadata": {},
   "outputs": [],
   "source": [
    "import pandas as pd"
   ]
  },
  {
   "cell_type": "code",
   "execution_count": null,
   "metadata": {},
   "outputs": [],
   "source": []
  },
  {
   "cell_type": "code",
   "execution_count": 1255,
   "metadata": {},
   "outputs": [],
   "source": [
    "test = ConditionalProbabilityTable(\n",
    "    [[ 1, True, 'A', 0.3 ],\n",
    "     [ 1, True, 'B', 0.4 ],\n",
    "     [ 1, True, 'C', 0.3 ],\n",
    "     [ 1, False, 'A', 0.2 ],\n",
    "     [ 1, False, 'B', 0.4 ],\n",
    "     [ 1, False, 'C', 0.4 ],\n",
    "     [ 2, True, 'A', 0.1 ],\n",
    "     [ 2, True, 'B', 0.9 ],\n",
    "     [ 2, True, 'C', 0.0 ],\n",
    "     [ 2, False, 'A', 0.0 ],\n",
    "     [ 2, False, 'B', 0.4 ],\n",
    "     [ 2, False, 'C', 0.6]], ['khang', 'chau'], 'tretrau' )"
   ]
  },
  {
   "cell_type": "code",
   "execution_count": 1199,
   "metadata": {
    "scrolled": true
   },
   "outputs": [],
   "source": [
    "a = test.getOutput({'khang': 1, 'khi':'D' , 'chau':False, 'cho': 'C'})"
   ]
  },
  {
   "cell_type": "code",
   "execution_count": 1246,
   "metadata": {},
   "outputs": [
    {
     "data": {
      "text/plain": [
       "['2.0', '1.0', '3.0']"
      ]
     },
     "execution_count": 1246,
     "metadata": {},
     "output_type": "execute_result"
    }
   ],
   "source": [
    "list(set(test.ProbabilityTable[-2]))"
   ]
  },
  {
   "cell_type": "code",
   "execution_count": 1259,
   "metadata": {},
   "outputs": [],
   "source": [
    "test = ConditionalProbabilityTable(   \n",
    "    [[1, 0.333 ],\n",
    "     [2, 0.4 ],\n",
    "     [3, 0.3 ],], None, 'heo' )"
   ]
  },
  {
   "cell_type": "code",
   "execution_count": 1260,
   "metadata": {
    "scrolled": true
   },
   "outputs": [
    {
     "name": "stdout",
     "output_type": "stream",
     "text": [
      "[['3.0' '1.0' '2.0']\n",
      " ['0.3' '0.333' '0.4']]\n",
      "1.0\n",
      "============= 1\n"
     ]
    }
   ],
   "source": [
    "b = test.getOutputWithLikehood({'khang': 1, 'khi':'D' , 'chau':False, 'cho': 'C'},{},{'heo':'1.0'})"
   ]
  },
  {
   "cell_type": "code",
   "execution_count": 1249,
   "metadata": {},
   "outputs": [
    {
     "data": {
      "text/plain": [
       "{'khang': 1, 'khi': 'D', 'chau': False, 'cho': 'C', 'heo': '1.0'}"
      ]
     },
     "execution_count": 1249,
     "metadata": {},
     "output_type": "execute_result"
    }
   ],
   "source": [
    "b[0]"
   ]
  },
  {
   "cell_type": "code",
   "execution_count": 1254,
   "metadata": {},
   "outputs": [
    {
     "data": {
      "text/plain": [
       "array(['1.2', '2.0'], dtype='<U21')"
      ]
     },
     "execution_count": 1254,
     "metadata": {},
     "output_type": "execute_result"
    }
   ],
   "source": [
    "np.array([1.2,2]).astype(dtype='<U21')"
   ]
  },
  {
   "cell_type": "code",
   "execution_count": null,
   "metadata": {},
   "outputs": [],
   "source": []
  },
  {
   "cell_type": "code",
   "execution_count": null,
   "metadata": {},
   "outputs": [],
   "source": []
  },
  {
   "cell_type": "code",
   "execution_count": null,
   "metadata": {},
   "outputs": [],
   "source": []
  },
  {
   "cell_type": "code",
   "execution_count": null,
   "metadata": {},
   "outputs": [],
   "source": []
  },
  {
   "cell_type": "code",
   "execution_count": 1223,
   "metadata": {},
   "outputs": [],
   "source": [
    "l = np.array([[ 'True', 'True', 0.2 ],\n",
    "     [ 'True', 'False', 0.8 ],\n",
    "     [ 'False', 'True', 0.01 ],\n",
    "     [ 'False', 'False', 0.99 ]]).T"
   ]
  },
  {
   "cell_type": "code",
   "execution_count": 1227,
   "metadata": {},
   "outputs": [
    {
     "data": {
      "text/plain": [
       "array([0, 1])"
      ]
     },
     "execution_count": 1227,
     "metadata": {},
     "output_type": "execute_result"
    }
   ],
   "source": [
    "l[np.where( l[0] == 'True'  )[0]]"
   ]
  },
  {
   "cell_type": "code",
   "execution_count": 1231,
   "metadata": {},
   "outputs": [
    {
     "data": {
      "text/plain": [
       "array([['True', 'True'],\n",
       "       ['True', 'False'],\n",
       "       ['0.2', '0.8']], dtype='<U5')"
      ]
     },
     "execution_count": 1231,
     "metadata": {},
     "output_type": "execute_result"
    }
   ],
   "source": [
    "l[:,np.where( l[0] == 'True'  )[0]]"
   ]
  },
  {
   "cell_type": "code",
   "execution_count": 1236,
   "metadata": {},
   "outputs": [
    {
     "data": {
      "text/plain": [
       "array([['False', 'True', 'False'],\n",
       "       ['0.8', '0.01', '0.99']], dtype='<U5')"
      ]
     },
     "execution_count": 1236,
     "metadata": {},
     "output_type": "execute_result"
    }
   ],
   "source": [
    "l[1:,1:]"
   ]
  },
  {
   "cell_type": "code",
   "execution_count": 509,
   "metadata": {},
   "outputs": [],
   "source": [
    "k = np.array([[ 'True', 'True', 'True', 0.96 ],\n",
    "     [ 'True', 'True', 'False', 0.04 ],\n",
    "     [ 'True', 'False', 'True', 0.89 ],\n",
    "     [ 'True', 'False', 'False', 0.11 ],\n",
    "     [ 'False', 'True', 'True', 0.96 ],\n",
    "     [ 'False', 'True', 'False', 0.04 ],\n",
    "     [ 'False', 'False', 'True', 0.89 ],\n",
    "     [ 'False', 'False', 'False', 0.11 ]])"
   ]
  },
  {
   "cell_type": "code",
   "execution_count": 655,
   "metadata": {},
   "outputs": [
    {
     "data": {
      "text/plain": [
       "array('1', dtype='<U21')"
      ]
     },
     "execution_count": 655,
     "metadata": {},
     "output_type": "execute_result"
    }
   ],
   "source": [
    "np.array(1).astype(dtype='<U21')"
   ]
  },
  {
   "cell_type": "code",
   "execution_count": 386,
   "metadata": {},
   "outputs": [],
   "source": [
    "k['s'] =1"
   ]
  },
  {
   "cell_type": "code",
   "execution_count": 387,
   "metadata": {},
   "outputs": [
    {
     "data": {
      "text/plain": [
       "True"
      ]
     },
     "execution_count": 387,
     "metadata": {},
     "output_type": "execute_result"
    }
   ],
   "source": [
    "'s' in k"
   ]
  },
  {
   "cell_type": "code",
   "execution_count": null,
   "metadata": {},
   "outputs": [],
   "source": [
    "list(map(list, zip(*l)))"
   ]
  },
  {
   "cell_type": "code",
   "execution_count": 584,
   "metadata": {},
   "outputs": [
    {
     "data": {
      "text/plain": [
       "[[1, 4, 2, 0.4],\n",
       " [1, 4, 3, 0.4],\n",
       " [2, 3, 1, 0.1],\n",
       " [2, 3, 2, 0.9],\n",
       " [2, 3, 3, 0.0],\n",
       " [2, 4, 1, 0.0],\n",
       " [2, 4, 2, 0.4],\n",
       " [2, 4, 3, 0.6]]"
      ]
     },
     "execution_count": 584,
     "metadata": {},
     "output_type": "execute_result"
    }
   ],
   "source": [
    "l[4:]"
   ]
  },
  {
   "cell_type": "code",
   "execution_count": null,
   "metadata": {},
   "outputs": [],
   "source": []
  }
 ],
 "metadata": {
  "kernelspec": {
   "display_name": "Python 3",
   "language": "python",
   "name": "python3"
  },
  "language_info": {
   "codemirror_mode": {
    "name": "ipython",
    "version": 3
   },
   "file_extension": ".py",
   "mimetype": "text/x-python",
   "name": "python",
   "nbconvert_exporter": "python",
   "pygments_lexer": "ipython3",
   "version": "3.7.6"
  }
 },
 "nbformat": 4,
 "nbformat_minor": 2
}
