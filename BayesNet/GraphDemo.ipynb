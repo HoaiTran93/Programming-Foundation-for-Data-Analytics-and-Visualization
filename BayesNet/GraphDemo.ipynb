{
 "cells": [
  {
   "cell_type": "code",
   "execution_count": 1,
   "metadata": {},
   "outputs": [],
   "source": [
    "from IGraph import *\n",
    "from AbstractGraph import *\n",
    "from UGraphModel import *\n",
    "from DGraphModel import *"
   ]
  },
  {
   "cell_type": "code",
   "execution_count": 2,
   "metadata": {},
   "outputs": [
    {
     "output_type": "stream",
     "name": "stdout",
     "text": "=======================================================\nVertices:\n V(HCM, in:3, out:3)\n V(LongAn, in:1, out:1)\n V(BinhDuong, in:1, out:1)\n V(DongNai, in:2, out:2)\n V(BinhThuan, in:1, out:1)\n------------------------------------------------------\nEdges:\n E(HCM, LongAn, 0)\n E(HCM, BinhDuong, 0)\n E(HCM, DongNai, 0)\n E(LongAn, HCM, 0)\n E(BinhDuong, HCM, 0)\n E(DongNai, HCM, 0)\n E(DongNai, BinhThuan, 0)\n E(BinhThuan, DongNai, 0)\n======================================================\n\n"
    }
   ],
   "source": [
    "graph = UGraphModel()\n",
    "graph.add(\"HCM\")\n",
    "graph.add(\"LongAn\")\n",
    "graph.add(\"BinhDuong\")\n",
    "graph.add(\"DongNai\")\n",
    "graph.add(\"BinhThuan\")\n",
    "graph.connect(\"HCM\", \"LongAn\")\n",
    "graph.connect(\"HCM\", \"BinhDuong\")\n",
    "graph.connect(\"HCM\", \"DongNai\")\n",
    "graph.connect(\"DongNai\", \"BinhThuan\")\n",
    "graph.println()"
   ]
  },
  {
   "cell_type": "code",
   "execution_count": 3,
   "metadata": {},
   "outputs": [
    {
     "output_type": "stream",
     "name": "stdout",
     "text": "Build Model\n=======================================================\nVertices:\n V(A, in:2, out:2)\n V(B, in:3, out:3)\n V(C, in:4, out:4)\n V(D, in:4, out:4)\n V(E, in:3, out:3)\n V(F, in:2, out:2)\n------------------------------------------------------\nEdges:\n E(A, B, 6)\n E(A, C, 3)\n E(B, A, 6)\n E(B, C, 2)\n E(B, D, 5)\n E(C, A, 3)\n E(C, B, 2)\n E(C, D, 3)\n E(C, E, 4)\n E(D, B, 5)\n E(D, C, 3)\n E(D, E, 2)\n E(D, F, 3)\n E(E, C, 4)\n E(E, D, 2)\n E(E, F, 5)\n E(F, D, 3)\n E(F, E, 5)\n======================================================\n\nDisconnect C with remaining vertexes\n=======================================================\nVertices:\n V(A, in:1, out:1)\n V(B, in:2, out:2)\n V(C, in:0, out:0)\n V(D, in:3, out:3)\n V(E, in:2, out:2)\n V(F, in:2, out:2)\n------------------------------------------------------\nEdges:\n E(A, B, 6)\n E(B, A, 6)\n E(B, D, 5)\n E(D, B, 5)\n E(D, E, 2)\n E(D, F, 3)\n E(E, D, 2)\n E(E, F, 5)\n E(F, D, 3)\n E(F, E, 5)\n======================================================\n\nRemove vertex A\n=======================================================\nVertices:\n V(B, in:1, out:1)\n V(C, in:0, out:0)\n V(D, in:3, out:3)\n V(E, in:2, out:2)\n V(F, in:2, out:2)\n------------------------------------------------------\nEdges:\n E(B, D, 5)\n E(D, B, 5)\n E(D, E, 2)\n E(D, F, 3)\n E(E, D, 2)\n E(E, F, 5)\n E(F, D, 3)\n E(F, E, 5)\n======================================================\n\n"
    }
   ],
   "source": [
    "model = UGraphModel()\n",
    "print(\"Build Model\")\n",
    "model.add('A')\n",
    "model.add('B')\n",
    "model.add('C')\n",
    "model.add('D')\n",
    "model.add('E')\n",
    "model.add('F')\n",
    "model.connect('A', 'B', 6)\n",
    "model.connect('A', 'C', 3)\n",
    "\n",
    "model.connect('B', 'C', 2)\n",
    "model.connect('B', 'D', 5)\n",
    "\n",
    "model.connect('C', 'D', 3)\n",
    "model.connect('C', 'E', 4)\n",
    "\n",
    "model.connect('D', 'E', 2)\n",
    "model.connect('D', 'F', 3)\n",
    "\n",
    "model.connect('E', 'F', 5)\n",
    "\n",
    "model.println()\n",
    "\n",
    "print(\"Disconnect C with remaining vertexes\")\n",
    "model.disconnect('C', 'A')\n",
    "model.disconnect('C', 'B')\n",
    "model.disconnect('C', 'D')\n",
    "model.disconnect('C', 'E')\n",
    "\n",
    "model.println()\n",
    "\n",
    "print(\"Remove vertex A\")\n",
    "model.remove('A')\n",
    "model.println()"
   ]
  },
  {
   "cell_type": "code",
   "execution_count": 4,
   "metadata": {},
   "outputs": [
    {
     "output_type": "stream",
     "name": "stdout",
     "text": "=======================================================\nVertices:\n V(0, in:1, out:2)\n V(1, in:2, out:1)\n V(2, in:3, out:0)\n V(3, in:0, out:4)\n V(4, in:2, out:1)\n V(5, in:1, out:0)\n V(6, in:0, out:3)\n V(7, in:3, out:0)\n V(8, in:2, out:2)\n V(9, in:0, out:1)\n------------------------------------------------------\nEdges:\n E(0, 1, 0)\n E(0, 5, 0)\n E(1, 7, 0)\n E(3, 2, 0)\n E(3, 4, 0)\n E(3, 7, 0)\n E(3, 8, 0)\n E(4, 8, 0)\n E(6, 0, 0)\n E(6, 1, 0)\n E(6, 2, 0)\n E(8, 2, 0)\n E(8, 7, 0)\n E(9, 4, 0)\n======================================================\n\n"
    }
   ],
   "source": [
    "grapD = DGraphModel()\n",
    "for idx in range(10):\n",
    "    grapD.add(str(idx))\n",
    "\n",
    "grapD.connect('0', '1')\n",
    "grapD.connect('0', '5')\n",
    "grapD.connect('1', '7')\n",
    "grapD.connect('3', '2')\n",
    "grapD.connect('3', '4')\n",
    "grapD.connect('3', '7')\n",
    "grapD.connect('3', '8')\n",
    "grapD.connect('4', '8')\n",
    "grapD.connect('6', '0')\n",
    "grapD.connect('6', '1')\n",
    "grapD.connect('6', '2')\n",
    "grapD.connect('8', '2')\n",
    "grapD.connect('8', '7')\n",
    "grapD.connect('9', '4')\n",
    "grapD.println()"
   ]
  },
  {
   "cell_type": "code",
   "execution_count": 5,
   "metadata": {},
   "outputs": [
    {
     "output_type": "stream",
     "name": "stdout",
     "text": "Build model\n=======================================================\nVertices:\n V(A, in:2, out:2)\n V(B, in:3, out:3)\n V(C, in:4, out:4)\n V(D, in:4, out:4)\n V(E, in:3, out:3)\n V(F, in:2, out:2)\n------------------------------------------------------\nEdges:\n E(A, B, 6)\n E(A, C, 3)\n E(B, A, 6)\n E(B, C, 2)\n E(B, D, 5)\n E(C, A, 3)\n E(C, B, 2)\n E(C, D, 3)\n E(C, E, 4)\n E(D, B, 5)\n E(D, C, 3)\n E(D, E, 2)\n E(D, F, 3)\n E(E, C, 4)\n E(E, D, 2)\n E(E, F, 5)\n E(F, D, 3)\n E(F, E, 5)\n======================================================\n\nDisconnect vertex C with remaining vertexes\n=======================================================\nVertices:\n V(A, in:1, out:1)\n V(B, in:2, out:2)\n V(C, in:0, out:0)\n V(D, in:3, out:3)\n V(E, in:2, out:2)\n V(F, in:2, out:2)\n------------------------------------------------------\nEdges:\n E(A, B, 6)\n E(B, A, 6)\n E(B, D, 5)\n E(D, B, 5)\n E(D, E, 2)\n E(D, F, 3)\n E(E, D, 2)\n E(E, F, 5)\n E(F, D, 3)\n E(F, E, 5)\n======================================================\n\nRemove vertex A\n=======================================================\nVertices:\n V(B, in:1, out:1)\n V(C, in:0, out:0)\n V(D, in:3, out:3)\n V(E, in:2, out:2)\n V(F, in:2, out:2)\n------------------------------------------------------\nEdges:\n E(B, D, 5)\n E(D, B, 5)\n E(D, E, 2)\n E(D, F, 3)\n E(E, D, 2)\n E(E, F, 5)\n E(F, D, 3)\n E(F, E, 5)\n======================================================\n\n"
    }
   ],
   "source": [
    "model = UGraphModel()\n",
    "print(\"Build model\")\n",
    "model.add('A')\n",
    "model.add('B')\n",
    "model.add('C')\n",
    "model.add('D')\n",
    "model.add('E')\n",
    "model.add('F')\n",
    "model.connect('A', 'B', 6)\n",
    "model.connect('A', 'C', 3)\n",
    "\n",
    "model.connect('B', 'C', 2)\n",
    "model.connect('B', 'D', 5)\n",
    "\n",
    "model.connect('C', 'D', 3)\n",
    "model.connect('C', 'E', 4)\n",
    "\n",
    "model.connect('D', 'E', 2)\n",
    "model.connect('D', 'F', 3)\n",
    "\n",
    "model.connect('E', 'F', 5)\n",
    "\n",
    "model.println()\n",
    "\n",
    "print(\"Disconnect vertex C with remaining vertexes\")\n",
    "model.disconnect('C', 'A')\n",
    "model.disconnect('C', 'B')\n",
    "model.disconnect('C', 'D')\n",
    "model.disconnect('C', 'E')\n",
    "model.println()\n",
    "\n",
    "print(\"Remove vertex A\")\n",
    "model.remove('A')\n",
    "model.println()"
   ]
  },
  {
   "cell_type": "code",
   "execution_count": 6,
   "metadata": {},
   "outputs": [
    {
     "output_type": "stream",
     "name": "stdout",
     "text": "=======================================================\nVertices:\n V(0, in:1, out:2)\n V(1, in:2, out:1)\n V(2, in:3, out:0)\n V(3, in:0, out:4)\n V(4, in:2, out:1)\n V(5, in:1, out:0)\n V(6, in:0, out:3)\n V(7, in:3, out:0)\n V(8, in:2, out:2)\n V(9, in:0, out:1)\n------------------------------------------------------\nEdges:\n E(0, 1, 0)\n E(0, 5, 0)\n E(1, 7, 0)\n E(3, 2, 0)\n E(3, 4, 0)\n E(3, 7, 0)\n E(3, 8, 0)\n E(4, 8, 0)\n E(6, 0, 0)\n E(6, 1, 0)\n E(6, 2, 0)\n E(8, 2, 0)\n E(8, 7, 0)\n E(9, 4, 0)\n======================================================\n\n"
    }
   ],
   "source": [
    "model = DGraphModel()\n",
    "for idx in range(10):\n",
    "    model.add(str(idx))\n",
    "\n",
    "model.connect('0', '1')\n",
    "model.connect('0', '5')\n",
    "model.connect('1', '7')\n",
    "model.connect('3', '2')\n",
    "model.connect('3', '4')\n",
    "model.connect('3', '7')\n",
    "model.connect('3', '8')\n",
    "model.connect('4', '8')\n",
    "model.connect('6', '0')\n",
    "model.connect('6', '1')\n",
    "model.connect('6', '2')\n",
    "model.connect('8', '2')\n",
    "model.connect('8', '7')\n",
    "model.connect('9', '4')\n",
    "model.println()"
   ]
  },
  {
   "cell_type": "code",
   "execution_count": 7,
   "metadata": {},
   "outputs": [
    {
     "output_type": "stream",
     "name": "stdout",
     "text": "topoBFS: ['3', '6', '9', '0', '4', '1', '5', '8', '2', '7']\ntopoDFS: ['3', '6', '9']\n"
    }
   ],
   "source": [
    "DFS = 0\n",
    "BFS = 1\n",
    "sorter = TopoSorter(model)\n",
    "topo = sorter.sort(BFS)\n",
    "print(\"topoBFS:\", topo)\n",
    "\n",
    "topo = sorter.sort(DFS)\n",
    "print(\"topoDFS:\", topo)"
   ]
  }
 ],
 "metadata": {
  "kernelspec": {
   "display_name": "Python 3",
   "language": "python",
   "name": "python3"
  },
  "language_info": {
   "codemirror_mode": {
    "name": "ipython",
    "version": 3
   },
   "file_extension": ".py",
   "mimetype": "text/x-python",
   "name": "python",
   "nbconvert_exporter": "python",
   "pygments_lexer": "ipython3",
   "version": "3.7.3-final"
  }
 },
 "nbformat": 4,
 "nbformat_minor": 2
}