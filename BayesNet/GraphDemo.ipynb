{
 "cells": [
  {
   "cell_type": "code",
   "execution_count": 1,
   "metadata": {},
   "outputs": [],
   "source": [
    "from IGraph import *\n",
    "from AbstractGraph import *\n",
    "from UGraphModel import *\n",
    "from DGraphModel import *\n",
    "#from BayesNet import *"
   ]
  },
  {
   "cell_type": "code",
   "execution_count": 2,
   "metadata": {},
   "outputs": [
    {
     "output_type": "error",
     "ename": "TypeError",
     "evalue": "add() missing 1 required positional argument: 'tableProb'",
     "traceback": [
      "\u001b[1;31m---------------------------------------------------------------------------\u001b[0m",
      "\u001b[1;31mTypeError\u001b[0m                                 Traceback (most recent call last)",
      "\u001b[1;32m<ipython-input-2-68135da9fc32>\u001b[0m in \u001b[0;36m<module>\u001b[1;34m\u001b[0m\n\u001b[0;32m      1\u001b[0m \u001b[0mmodel\u001b[0m \u001b[1;33m=\u001b[0m \u001b[0mDGraphModel\u001b[0m\u001b[1;33m(\u001b[0m\u001b[1;33m)\u001b[0m\u001b[1;33m\u001b[0m\u001b[1;33m\u001b[0m\u001b[0m\n\u001b[0;32m      2\u001b[0m \u001b[1;32mfor\u001b[0m \u001b[0midx\u001b[0m \u001b[1;32min\u001b[0m \u001b[0mrange\u001b[0m\u001b[1;33m(\u001b[0m\u001b[1;36m10\u001b[0m\u001b[1;33m)\u001b[0m\u001b[1;33m:\u001b[0m\u001b[1;33m\u001b[0m\u001b[1;33m\u001b[0m\u001b[0m\n\u001b[1;32m----> 3\u001b[1;33m     \u001b[0mmodel\u001b[0m\u001b[1;33m.\u001b[0m\u001b[0madd\u001b[0m\u001b[1;33m(\u001b[0m\u001b[0mstr\u001b[0m\u001b[1;33m(\u001b[0m\u001b[0midx\u001b[0m\u001b[1;33m)\u001b[0m\u001b[1;33m)\u001b[0m\u001b[1;33m\u001b[0m\u001b[1;33m\u001b[0m\u001b[0m\n\u001b[0m\u001b[0;32m      4\u001b[0m \u001b[1;33m\u001b[0m\u001b[0m\n\u001b[0;32m      5\u001b[0m \u001b[0mmodel\u001b[0m\u001b[1;33m.\u001b[0m\u001b[0mconnect\u001b[0m\u001b[1;33m(\u001b[0m\u001b[1;34m'0'\u001b[0m\u001b[1;33m,\u001b[0m \u001b[1;34m'1'\u001b[0m\u001b[1;33m)\u001b[0m\u001b[1;33m\u001b[0m\u001b[1;33m\u001b[0m\u001b[0m\n",
      "\u001b[1;31mTypeError\u001b[0m: add() missing 1 required positional argument: 'tableProb'"
     ]
    }
   ],
   "source": [
    "model = DGraphModel()\n",
    "for idx in range(10):\n",
    "    model.add(str(idx))\n",
    "\n",
    "model.connect('0', '1')\n",
    "model.connect('0', '5')\n",
    "model.connect('1', '7')\n",
    "model.connect('3', '2')\n",
    "model.connect('3', '4')\n",
    "model.connect('3', '7')\n",
    "model.connect('3', '8')\n",
    "model.connect('4', '8')\n",
    "model.connect('6', '0')\n",
    "model.connect('6', '1')\n",
    "model.connect('6', '2')\n",
    "model.connect('8', '2')\n",
    "model.connect('8', '7')\n",
    "model.connect('9', '4')\n",
    "model.println()"
   ]
  },
  {
   "cell_type": "code",
   "execution_count": 3,
   "metadata": {
    "tags": []
   },
   "outputs": [
    {
     "output_type": "stream",
     "name": "stdout",
     "text": "topoBFS: []\ntopoDFS: []\n"
    }
   ],
   "source": [
    "DFS = 0\n",
    "BFS = 1\n",
    "sorter = TopoSorter(model)\n",
    "topo = sorter.sort(BFS)\n",
    "print(\"topoBFS:\", topo)\n",
    "\n",
    "topo = sorter.sort(DFS)\n",
    "print(\"topoDFS:\", topo)"
   ]
  },
  {
   "cell_type": "code",
   "execution_count": 4,
   "metadata": {},
   "outputs": [],
   "source": [
    "import numpy as np"
   ]
  },
  {
   "cell_type": "code",
   "execution_count": 5,
   "metadata": {},
   "outputs": [],
   "source": [
    "class ConditionalProbabilityTable():\n",
    "    def __init__(self,initTable,initParents,initNodeName):\n",
    "        self.ProbabilityTable = np.array(initTable).T.astype(dtype='<U21')  \n",
    "        self.ParentsList = initParents\n",
    "        self.NodeName = initNodeName\n",
    "        if self.isDiscreteDistribution() == False:\n",
    "            self.ParentsNum = len(initParents)\n",
    "            if self.ProbabilityTable.shape[0]-2 != self.ParentsNum:\n",
    "                raise NameError(\"Init failed, number of parents is wrong!\")\n",
    "        \n",
    "    def getValueList(self):\n",
    "        return list(set(self.ProbabilityTable[-2]))\n",
    "\n",
    "    def isDiscreteDistribution(self):\n",
    "        if self.ParentsList == None:\n",
    "            return True\n",
    "        else:\n",
    "            False\n",
    "    \n",
    "    def getNodeProbability(self,ParentState):\n",
    "        RunTable = self.ProbabilityTable\n",
    "        for name in self.ParentsList:\n",
    "            if name in ParentState:\n",
    "                State = np.array(ParentState[name]).astype(dtype='<U21')\n",
    "                index = np.where( RunTable[0] == State )[0]\n",
    "                RunTable = RunTable[1:,index]  \n",
    "            else:\n",
    "                raise NameError(\"Parents state is not enough\")\n",
    "        return RunTable\n",
    "    \n",
    "    def getOutput(self,ParentState):\n",
    "        if self.isDiscreteDistribution():   \n",
    "            sortedProba = self.ProbabilityTable.T[self.ProbabilityTable[1].argsort()].T\n",
    "            print(\"sortedProba1: \",sortedProba)\n",
    "        else:\n",
    "            NodeProba = self.getNodeProbability(ParentState)\n",
    "            print(\"NodeProba: \",NodeProba)\n",
    "            sortedProba = NodeProba.T[NodeProba[1].argsort()].T     \n",
    "            print(\"sortedProba2: \",sortedProba)       \n",
    "        RandomValue = np.random.random()\n",
    "        for index in range(len(sortedProba)):\n",
    "            if RandomValue < sortedProba[1][:index+1].astype(np.float).sum():\n",
    "                ParentState[self.NodeName] = sortedProba[0,index]\n",
    "                print(\"ParentState1: \", ParentState)\n",
    "                return ParentState\n",
    "        ParentState[self.NodeName] = sortedProba[0,-1]\n",
    "        print(\"ParentState2: \", ParentState)\n",
    "        return ParentState\n",
    "\n",
    "        \n",
    "    def getOutputWithLikehood(self, ParentState, ParentLikelihoodWeight, Observations):\n",
    "        if self.NodeName not in Observations.keys():\n",
    "            if self.isDiscreteDistribution():   \n",
    "                sortedProba = self.ProbabilityTable.T[self.ProbabilityTable[1].argsort()].T\n",
    "            else:\n",
    "                NodeProba = self.getNodeProbability(ParentState)\n",
    "                sortedProba = NodeProba.T[NodeProba[1].argsort()].T\n",
    "            RandomValue = np.random.random()\n",
    "            for index in range(len(sortedProba)):\n",
    "                if RandomValue < sortedProba[1][:index+1].astype(np.float).sum():\n",
    "                    ParentState[self.NodeName] = sortedProba[0,index]    \n",
    "                    return ParentState, ParentLikelihoodWeight\n",
    "            ParentState[self.NodeName] = sortedProba[0,-1]\n",
    "            return ParentState, ParentLikelihoodWeight\n",
    "        else:\n",
    "            if self.isDiscreteDistribution():   \n",
    "                sortedProba = self.ProbabilityTable.T[self.ProbabilityTable[1].argsort()].T\n",
    "            else:\n",
    "                NodeProba = self.getNodeProbability(ParentState)\n",
    "                sortedProba = NodeProba.T[NodeProba[1].argsort()].T\n",
    "            index = np.where(sortedProba[0]==np.array(Observations[self.NodeName]).astype(dtype='<U21'))[0][0]\n",
    "            ParentState[self.NodeName] = sortedProba[0,index]\n",
    "            ParentLikelihoodWeight[self.NodeName] = float(sortedProba[1,index])\n",
    "            return ParentState, ParentLikelihoodWeight"
   ]
  },
  {
   "cell_type": "markdown",
   "metadata": {},
   "source": [
    "# Asia example"
   ]
  },
  {
   "cell_type": "code",
   "execution_count": 6,
   "metadata": {},
   "outputs": [],
   "source": [
    "asia = ConditionalProbabilityTable( [ ['True', 0.5],[ 'False', 0.5 ]], None, 'asia' )"
   ]
  },
  {
   "cell_type": "code",
   "execution_count": 7,
   "metadata": {},
   "outputs": [],
   "source": [
    "tuberculosis = ConditionalProbabilityTable(\n",
    "    [[ 'True', 'True', 0.2 ],\n",
    "     [ 'True', 'False', 0.8 ],\n",
    "     [ 'False', 'True', 0.01 ],\n",
    "     [ 'False', 'False', 0.99 ]], ['asia'],'tuberculosis')"
   ]
  },
  {
   "cell_type": "code",
   "execution_count": 8,
   "metadata": {},
   "outputs": [],
   "source": [
    "smoking = ConditionalProbabilityTable( [ ['True', 0.5],[ 'False', 0.5 ]], None, 'smoking' )"
   ]
  },
  {
   "cell_type": "code",
   "execution_count": 9,
   "metadata": {},
   "outputs": [],
   "source": [
    "lung = ConditionalProbabilityTable(\n",
    "    [[ 'True', 'True', 0.75 ],\n",
    "     [ 'True', 'False', 0.25 ],\n",
    "     [ 'False', 'True', 0.02 ],\n",
    "     [ 'False', 'False', 0.98 ]], ['smoking'], 'lung' )\n",
    "\n",
    "bronchitis = ConditionalProbabilityTable(\n",
    "    [[ 'True', 'True', 0.92 ],\n",
    "     [ 'True', 'False', 0.08 ],\n",
    "     [ 'False', 'True', 0.03 ],\n",
    "     [ 'False', 'False', 0.97 ]], ['smoking'], 'bronchitis' )\n",
    "\n",
    "tuberculosis_or_cancer = ConditionalProbabilityTable(\n",
    "    [[ 'True', 'True', 'True', 1.0 ],\n",
    "     [ 'True', 'True', 'False', 0.0 ],\n",
    "     [ 'True', 'False', 'True', 1.0 ],\n",
    "     [ 'True', 'False', 'False', 0.0 ],\n",
    "     [ 'False', 'True', 'True', 1.0 ],\n",
    "     [ 'False', 'True', 'False', 0.0 ],\n",
    "     [ 'False', 'False', 'True', 0.0 ],\n",
    "     [ 'False', 'False', 'False', 1.0 ]], ['tuberculosis', 'lung'], 'tuberculosis_or_cancer' )"
   ]
  },
  {
   "cell_type": "code",
   "execution_count": 10,
   "metadata": {},
   "outputs": [],
   "source": [
    "xray = ConditionalProbabilityTable(\n",
    "    [[ 'True', 'True', 0.885 ],\n",
    "     [ 'True', 'False', 0.115 ],\n",
    "     [ 'False', 'True', 0.04 ],\n",
    "     [ 'False', 'False', 0.96 ]], ['tuberculosis_or_cancer'] , 'xray')"
   ]
  },
  {
   "cell_type": "code",
   "execution_count": 11,
   "metadata": {},
   "outputs": [],
   "source": [
    "dyspnea = ConditionalProbabilityTable(\n",
    "    [[ 'True', 'True', 'True', 0.96 ],\n",
    "     [ 'True', 'True', 'False', 0.04 ],\n",
    "     [ 'True', 'False', 'True', 0.89 ],\n",
    "     [ 'True', 'False', 'False', 0.11 ],\n",
    "     [ 'False', 'True', 'True', 0.96 ],\n",
    "     [ 'False', 'True', 'False', 0.04 ],\n",
    "     [ 'False', 'False', 'True', 0.89 ],\n",
    "     [ 'False', 'False', 'False', 0.11 ]], ['tuberculosis_or_cancer', 'bronchitis'],'dyspnea')"
   ]
  },
  {
   "cell_type": "code",
   "execution_count": 37,
   "metadata": {
    "tags": []
   },
   "outputs": [
    {
     "output_type": "stream",
     "name": "stdout",
     "text": "<class '__main__.ConditionalProbabilityTable'>\n"
    }
   ],
   "source": [
    "NodeList = [asia,smoking,tuberculosis,lung,tuberculosis_or_cancer,bronchitis,xray,dyspnea]\n",
    "print(type(NodeList[0]))"
   ]
  },
  {
   "cell_type": "markdown",
   "metadata": {},
   "source": [
    "# Normal Sampling"
   ]
  },
  {
   "cell_type": "code",
   "execution_count": 13,
   "metadata": {
    "tags": []
   },
   "outputs": [
    {
     "output_type": "stream",
     "name": "stdout",
     "text": "asia\nsortedProba1:  [['True' 'False']\n ['0.5' '0.5']]\nParentState1:  {'asia': 'False'}\nsmoking\nsortedProba1:  [['True' 'False']\n ['0.5' '0.5']]\nParentState1:  {'asia': 'False', 'smoking': 'False'}\ntuberculosis\nNodeProba:  [['True' 'False']\n ['0.01' '0.99']]\nsortedProba2:  [['True' 'False']\n ['0.01' '0.99']]\nParentState1:  {'asia': 'False', 'smoking': 'False', 'tuberculosis': 'False'}\nlung\nNodeProba:  [['True' 'False']\n ['0.02' '0.98']]\nsortedProba2:  [['True' 'False']\n ['0.02' '0.98']]\nParentState1:  {'asia': 'False', 'smoking': 'False', 'tuberculosis': 'False', 'lung': 'False'}\ntuberculosis_or_cancer\nNodeProba:  [['True' 'False']\n ['0.0' '1.0']]\nsortedProba2:  [['True' 'False']\n ['0.0' '1.0']]\nParentState1:  {'asia': 'False', 'smoking': 'False', 'tuberculosis': 'False', 'lung': 'False', 'tuberculosis_or_cancer': 'False'}\nbronchitis\nNodeProba:  [['True' 'False']\n ['0.03' '0.97']]\nsortedProba2:  [['True' 'False']\n ['0.03' '0.97']]\nParentState1:  {'asia': 'False', 'smoking': 'False', 'tuberculosis': 'False', 'lung': 'False', 'tuberculosis_or_cancer': 'False', 'bronchitis': 'False'}\nxray\nNodeProba:  [['True' 'False']\n ['0.04' '0.96']]\nsortedProba2:  [['True' 'False']\n ['0.04' '0.96']]\nParentState1:  {'asia': 'False', 'smoking': 'False', 'tuberculosis': 'False', 'lung': 'False', 'tuberculosis_or_cancer': 'False', 'bronchitis': 'False', 'xray': 'False'}\ndyspnea\nNodeProba:  [['True' 'False']\n ['0.89' '0.11']]\nsortedProba2:  [['False' 'True']\n ['0.11' '0.89']]\nParentState1:  {'asia': 'False', 'smoking': 'False', 'tuberculosis': 'False', 'lung': 'False', 'tuberculosis_or_cancer': 'False', 'bronchitis': 'False', 'xray': 'False', 'dyspnea': 'True'}\n"
    }
   ],
   "source": [
    "RunForwardList = []\n",
    "for i in range(1):\n",
    "    RunningVar = {}\n",
    "    print(\"asia\")\n",
    "    RunningVar = asia.getOutput(RunningVar)\n",
    "    print(\"smoking\")\n",
    "    RunningVar = smoking.getOutput(RunningVar)\n",
    "    print(\"tuberculosis\")\n",
    "    RunningVar = tuberculosis.getOutput(RunningVar)\n",
    "    print(\"lung\")\n",
    "    RunningVar = lung.getOutput(RunningVar)\n",
    "    print(\"tuberculosis_or_cancer\")\n",
    "    RunningVar = tuberculosis_or_cancer.getOutput(RunningVar)\n",
    "    print(\"bronchitis\")\n",
    "    RunningVar = bronchitis.getOutput(RunningVar)\n",
    "    print(\"xray\")\n",
    "    RunningVar = xray.getOutput(RunningVar)\n",
    "    print(\"dyspnea\")\n",
    "    RunningVar = dyspnea.getOutput(RunningVar)\n",
    "    RunForwardList.append(RunningVar)"
   ]
  },
  {
   "cell_type": "code",
   "execution_count": 14,
   "metadata": {
    "tags": []
   },
   "outputs": [
    {
     "output_type": "stream",
     "name": "stdout",
     "text": "<class 'dict'>\n"
    }
   ],
   "source": [
    "Observations = { 'tuberculosis' : 'True', 'smoking' : 'False', 'bronchitis' : 'True' }\n",
    "print(type(Observations))"
   ]
  },
  {
   "cell_type": "code",
   "execution_count": 15,
   "metadata": {},
   "outputs": [],
   "source": [
    "NodeNameList = ['asia','smoking','tuberculosis','lung','tuberculosis_or_cancer','bronchitis','xray','dyspnea']"
   ]
  },
  {
   "cell_type": "code",
   "execution_count": 16,
   "metadata": {},
   "outputs": [],
   "source": [
    "RunValueList = []\n",
    "KeyList = RunForwardList[0].keys()\n",
    "for RunForwardValue in RunForwardList:\n",
    "    OneRow = []\n",
    "    ObservationsCheck = True\n",
    "    for key in Observations:\n",
    "        if Observations[key] != RunForwardValue[key]:\n",
    "            ObservationsCheck = False\n",
    "    if ObservationsCheck == True:\n",
    "        for key in RunForwardValue: \n",
    "            OneRow.append(RunForwardValue[key])\n",
    "        RunValueList.append(OneRow)\n",
    "NumpyRunValue = np.array(RunValueList)\n",
    "NumpyKey = np.array(list(KeyList))"
   ]
  },
  {
   "cell_type": "code",
   "execution_count": 17,
   "metadata": {
    "tags": []
   },
   "outputs": [
    {
     "output_type": "stream",
     "name": "stdout",
     "text": "asia\n"
    },
    {
     "output_type": "error",
     "ename": "IndexError",
     "evalue": "too many indices for array",
     "traceback": [
      "\u001b[1;31m---------------------------------------------------------------------------\u001b[0m",
      "\u001b[1;31mIndexError\u001b[0m                                Traceback (most recent call last)",
      "\u001b[1;32m<ipython-input-17-ee72dfeb2b53>\u001b[0m in \u001b[0;36m<module>\u001b[1;34m\u001b[0m\n\u001b[0;32m      6\u001b[0m         \u001b[0mindexNumpyRunValue\u001b[0m \u001b[1;33m=\u001b[0m \u001b[0mnp\u001b[0m\u001b[1;33m.\u001b[0m\u001b[0mwhere\u001b[0m\u001b[1;33m(\u001b[0m\u001b[0mNumpyKey\u001b[0m\u001b[1;33m==\u001b[0m\u001b[0mNode\u001b[0m\u001b[1;33m.\u001b[0m\u001b[0mNodeName\u001b[0m\u001b[1;33m)\u001b[0m\u001b[1;33m[\u001b[0m\u001b[1;36m0\u001b[0m\u001b[1;33m]\u001b[0m\u001b[1;33m[\u001b[0m\u001b[1;36m0\u001b[0m\u001b[1;33m]\u001b[0m\u001b[1;33m\u001b[0m\u001b[1;33m\u001b[0m\u001b[0m\n\u001b[0;32m      7\u001b[0m         \u001b[1;32mfor\u001b[0m \u001b[0mValue\u001b[0m \u001b[1;32min\u001b[0m \u001b[0mNode\u001b[0m\u001b[1;33m.\u001b[0m\u001b[0mgetValueList\u001b[0m\u001b[1;33m(\u001b[0m\u001b[1;33m)\u001b[0m\u001b[1;33m:\u001b[0m\u001b[1;33m\u001b[0m\u001b[1;33m\u001b[0m\u001b[0m\n\u001b[1;32m----> 8\u001b[1;33m             \u001b[0mprint\u001b[0m\u001b[1;33m(\u001b[0m\u001b[0mValue\u001b[0m\u001b[1;33m,\u001b[0m\u001b[0mlen\u001b[0m\u001b[1;33m(\u001b[0m\u001b[0mnp\u001b[0m\u001b[1;33m.\u001b[0m\u001b[0mwhere\u001b[0m\u001b[1;33m(\u001b[0m\u001b[0mNumpyRunValue\u001b[0m\u001b[1;33m[\u001b[0m\u001b[1;33m:\u001b[0m\u001b[1;33m,\u001b[0m\u001b[0mindexNumpyRunValue\u001b[0m\u001b[1;33m]\u001b[0m \u001b[1;33m==\u001b[0m \u001b[0mValue\u001b[0m\u001b[1;33m)\u001b[0m\u001b[1;33m[\u001b[0m\u001b[1;36m0\u001b[0m\u001b[1;33m]\u001b[0m\u001b[1;33m)\u001b[0m\u001b[1;33m/\u001b[0m\u001b[0mNumpyRunValue\u001b[0m\u001b[1;33m.\u001b[0m\u001b[0mshape\u001b[0m\u001b[1;33m[\u001b[0m\u001b[1;36m0\u001b[0m\u001b[1;33m]\u001b[0m\u001b[1;33m)\u001b[0m\u001b[1;33m\u001b[0m\u001b[1;33m\u001b[0m\u001b[0m\n\u001b[0m\u001b[0;32m      9\u001b[0m     \u001b[0mprint\u001b[0m\u001b[1;33m(\u001b[0m\u001b[1;34m'============================'\u001b[0m\u001b[1;33m)\u001b[0m\u001b[1;33m\u001b[0m\u001b[1;33m\u001b[0m\u001b[0m\n",
      "\u001b[1;31mIndexError\u001b[0m: too many indices for array"
     ]
    }
   ],
   "source": [
    "for Node in NodeList:\n",
    "    if Node.NodeName in Observations.keys():\n",
    "        print(Node.NodeName, Observations[Node.NodeName])\n",
    "    else:\n",
    "        print(Node.NodeName)\n",
    "        indexNumpyRunValue = np.where(NumpyKey==Node.NodeName)[0][0]\n",
    "        for Value in Node.getValueList():\n",
    "            print(Value,len(np.where(NumpyRunValue[:,indexNumpyRunValue] == Value)[0])/NumpyRunValue.shape[0])\n",
    "    print('============================')"
   ]
  },
  {
   "cell_type": "code",
   "execution_count": null,
   "metadata": {},
   "outputs": [],
   "source": [
    ""
   ]
  },
  {
   "cell_type": "markdown",
   "metadata": {},
   "source": [
    "# Likelihood"
   ]
  },
  {
   "cell_type": "code",
   "execution_count": 18,
   "metadata": {},
   "outputs": [
    {
     "output_type": "error",
     "ename": "NameError",
     "evalue": "name 'random' is not defined",
     "traceback": [
      "\u001b[1;31m---------------------------------------------------------------------------\u001b[0m",
      "\u001b[1;31mNameError\u001b[0m                                 Traceback (most recent call last)",
      "\u001b[1;32m<ipython-input-18-ef4b59c1a16d>\u001b[0m in \u001b[0;36m<module>\u001b[1;34m\u001b[0m\n\u001b[0;32m      6\u001b[0m     \u001b[0mParentLikelihoodWeight\u001b[0m \u001b[1;33m=\u001b[0m \u001b[1;33m{\u001b[0m\u001b[1;33m}\u001b[0m\u001b[1;33m\u001b[0m\u001b[1;33m\u001b[0m\u001b[0m\n\u001b[0;32m      7\u001b[0m     \u001b[0mObservations\u001b[0m \u001b[1;33m=\u001b[0m \u001b[1;33m{\u001b[0m \u001b[1;34m'tuberculosis'\u001b[0m \u001b[1;33m:\u001b[0m \u001b[1;34m'True'\u001b[0m\u001b[1;33m,\u001b[0m \u001b[1;34m'smoking'\u001b[0m \u001b[1;33m:\u001b[0m \u001b[1;34m'False'\u001b[0m\u001b[1;33m,\u001b[0m \u001b[1;34m'bronchitis'\u001b[0m \u001b[1;33m:\u001b[0m \u001b[1;34m'True'\u001b[0m \u001b[1;33m}\u001b[0m\u001b[1;33m\u001b[0m\u001b[1;33m\u001b[0m\u001b[0m\n\u001b[1;32m----> 8\u001b[1;33m     \u001b[0mRunningVar\u001b[0m\u001b[1;33m,\u001b[0m\u001b[0mParentLikelihoodWeight\u001b[0m \u001b[1;33m=\u001b[0m \u001b[0masia\u001b[0m\u001b[1;33m.\u001b[0m\u001b[0mgetOutputWithLikehood\u001b[0m\u001b[1;33m(\u001b[0m\u001b[0mRunningVar\u001b[0m\u001b[1;33m,\u001b[0m\u001b[0mParentLikelihoodWeight\u001b[0m\u001b[1;33m,\u001b[0m\u001b[0mObservations\u001b[0m\u001b[1;33m)\u001b[0m\u001b[1;33m\u001b[0m\u001b[1;33m\u001b[0m\u001b[0m\n\u001b[0m\u001b[0;32m      9\u001b[0m     \u001b[0mRunningVar\u001b[0m\u001b[1;33m,\u001b[0m\u001b[0mParentLikelihoodWeight\u001b[0m \u001b[1;33m=\u001b[0m \u001b[0msmoking\u001b[0m\u001b[1;33m.\u001b[0m\u001b[0mgetOutputWithLikehood\u001b[0m\u001b[1;33m(\u001b[0m\u001b[0mRunningVar\u001b[0m\u001b[1;33m,\u001b[0m\u001b[0mParentLikelihoodWeight\u001b[0m\u001b[1;33m,\u001b[0m\u001b[0mObservations\u001b[0m\u001b[1;33m)\u001b[0m\u001b[1;33m\u001b[0m\u001b[1;33m\u001b[0m\u001b[0m\n\u001b[0;32m     10\u001b[0m     \u001b[0mRunningVar\u001b[0m\u001b[1;33m,\u001b[0m\u001b[0mParentLikelihoodWeight\u001b[0m \u001b[1;33m=\u001b[0m \u001b[0mtuberculosis\u001b[0m\u001b[1;33m.\u001b[0m\u001b[0mgetOutputWithLikehood\u001b[0m\u001b[1;33m(\u001b[0m\u001b[0mRunningVar\u001b[0m\u001b[1;33m,\u001b[0m\u001b[0mParentLikelihoodWeight\u001b[0m\u001b[1;33m,\u001b[0m\u001b[0mObservations\u001b[0m\u001b[1;33m)\u001b[0m\u001b[1;33m\u001b[0m\u001b[1;33m\u001b[0m\u001b[0m\n",
      "\u001b[1;32m<ipython-input-5-4a479d76c797>\u001b[0m in \u001b[0;36mgetOutputWithLikehood\u001b[1;34m(self, ParentState, ParentLikelihoodWeight, Observations)\u001b[0m\n\u001b[0;32m     56\u001b[0m                 \u001b[0mNodeProba\u001b[0m \u001b[1;33m=\u001b[0m \u001b[0mself\u001b[0m\u001b[1;33m.\u001b[0m\u001b[0mgetNodeProbability\u001b[0m\u001b[1;33m(\u001b[0m\u001b[0mParentState\u001b[0m\u001b[1;33m)\u001b[0m\u001b[1;33m\u001b[0m\u001b[1;33m\u001b[0m\u001b[0m\n\u001b[0;32m     57\u001b[0m                 \u001b[0msortedProba\u001b[0m \u001b[1;33m=\u001b[0m \u001b[0mNodeProba\u001b[0m\u001b[1;33m.\u001b[0m\u001b[0mT\u001b[0m\u001b[1;33m[\u001b[0m\u001b[0mNodeProba\u001b[0m\u001b[1;33m[\u001b[0m\u001b[1;36m1\u001b[0m\u001b[1;33m]\u001b[0m\u001b[1;33m.\u001b[0m\u001b[0margsort\u001b[0m\u001b[1;33m(\u001b[0m\u001b[1;33m)\u001b[0m\u001b[1;33m]\u001b[0m\u001b[1;33m.\u001b[0m\u001b[0mT\u001b[0m\u001b[1;33m\u001b[0m\u001b[1;33m\u001b[0m\u001b[0m\n\u001b[1;32m---> 58\u001b[1;33m             \u001b[0mRandomValue\u001b[0m \u001b[1;33m=\u001b[0m \u001b[0mrandom\u001b[0m\u001b[1;33m.\u001b[0m\u001b[0mrandom\u001b[0m\u001b[1;33m(\u001b[0m\u001b[1;33m)\u001b[0m\u001b[1;33m\u001b[0m\u001b[1;33m\u001b[0m\u001b[0m\n\u001b[0m\u001b[0;32m     59\u001b[0m             \u001b[1;32mfor\u001b[0m \u001b[0mindex\u001b[0m \u001b[1;32min\u001b[0m \u001b[0mrange\u001b[0m\u001b[1;33m(\u001b[0m\u001b[0mlen\u001b[0m\u001b[1;33m(\u001b[0m\u001b[0msortedProba\u001b[0m\u001b[1;33m)\u001b[0m\u001b[1;33m)\u001b[0m\u001b[1;33m:\u001b[0m\u001b[1;33m\u001b[0m\u001b[1;33m\u001b[0m\u001b[0m\n\u001b[0;32m     60\u001b[0m                 \u001b[1;32mif\u001b[0m \u001b[0mRandomValue\u001b[0m \u001b[1;33m<\u001b[0m \u001b[0msortedProba\u001b[0m\u001b[1;33m[\u001b[0m\u001b[1;36m1\u001b[0m\u001b[1;33m]\u001b[0m\u001b[1;33m[\u001b[0m\u001b[1;33m:\u001b[0m\u001b[0mindex\u001b[0m\u001b[1;33m+\u001b[0m\u001b[1;36m1\u001b[0m\u001b[1;33m]\u001b[0m\u001b[1;33m.\u001b[0m\u001b[0mastype\u001b[0m\u001b[1;33m(\u001b[0m\u001b[0mnp\u001b[0m\u001b[1;33m.\u001b[0m\u001b[0mfloat\u001b[0m\u001b[1;33m)\u001b[0m\u001b[1;33m.\u001b[0m\u001b[0msum\u001b[0m\u001b[1;33m(\u001b[0m\u001b[1;33m)\u001b[0m\u001b[1;33m:\u001b[0m\u001b[1;33m\u001b[0m\u001b[1;33m\u001b[0m\u001b[0m\n",
      "\u001b[1;31mNameError\u001b[0m: name 'random' is not defined"
     ]
    }
   ],
   "source": [
    "RunForwardList = []\n",
    "RunForwardWeight = []\n",
    "for i in range(100000):\n",
    "    w = 1\n",
    "    RunningVar = {}\n",
    "    ParentLikelihoodWeight = {}\n",
    "    Observations = { 'tuberculosis' : 'True', 'smoking' : 'False', 'bronchitis' : 'True' }\n",
    "    RunningVar,ParentLikelihoodWeight = asia.getOutputWithLikehood(RunningVar,ParentLikelihoodWeight,Observations)\n",
    "    RunningVar,ParentLikelihoodWeight = smoking.getOutputWithLikehood(RunningVar,ParentLikelihoodWeight,Observations)\n",
    "    RunningVar,ParentLikelihoodWeight = tuberculosis.getOutputWithLikehood(RunningVar,ParentLikelihoodWeight,Observations)\n",
    "    RunningVar,ParentLikelihoodWeight = lung.getOutputWithLikehood(RunningVar,ParentLikelihoodWeight,Observations)\n",
    "    RunningVar,ParentLikelihoodWeight = tuberculosis_or_cancer.getOutputWithLikehood(RunningVar,ParentLikelihoodWeight,Observations)\n",
    "    RunningVar,ParentLikelihoodWeight = bronchitis.getOutputWithLikehood(RunningVar,ParentLikelihoodWeight,Observations)\n",
    "    RunningVar,ParentLikelihoodWeight = xray.getOutputWithLikehood(RunningVar,ParentLikelihoodWeight,Observations)\n",
    "    RunningVar,ParentLikelihoodWeight = dyspnea.getOutputWithLikehood(RunningVar,ParentLikelihoodWeight,Observations)\n",
    "    RunForwardList.append(RunningVar)\n",
    "    for key in Observations:\n",
    "        w *= ParentLikelihoodWeight[key]\n",
    "    RunForwardWeight.append(w)"
   ]
  },
  {
   "cell_type": "code",
   "execution_count": 19,
   "metadata": {},
   "outputs": [],
   "source": [
    "RunValueList = []\n",
    "WeightList = []\n",
    "KeyList = []\n",
    "for index_,RunForwardValue in enumerate(RunForwardList):\n",
    "    OneRow = []\n",
    "    for key in RunForwardValue: \n",
    "        if key not in Observations:\n",
    "            if index_ == 0:\n",
    "                KeyList.append(key)\n",
    "            OneRow.append(RunForwardValue[key])\n",
    "    RunValueList.append(OneRow)\n",
    "    WeightList.append(RunForwardWeight[index_])\n",
    "NumpyRunValue = np.array(RunValueList)\n",
    "NumpyKey = np.array(list(KeyList))\n",
    "NumpyWeight = np.array(WeightList)"
   ]
  },
  {
   "cell_type": "code",
   "execution_count": 20,
   "metadata": {
    "tags": []
   },
   "outputs": [
    {
     "output_type": "stream",
     "name": "stdout",
     "text": "asia\n"
    },
    {
     "output_type": "error",
     "ename": "IndexError",
     "evalue": "index 0 is out of bounds for axis 0 with size 0",
     "traceback": [
      "\u001b[1;31m---------------------------------------------------------------------------\u001b[0m",
      "\u001b[1;31mIndexError\u001b[0m                                Traceback (most recent call last)",
      "\u001b[1;32m<ipython-input-20-b9cb4ef3819b>\u001b[0m in \u001b[0;36m<module>\u001b[1;34m\u001b[0m\n\u001b[0;32m      5\u001b[0m     \u001b[1;32melse\u001b[0m\u001b[1;33m:\u001b[0m\u001b[1;33m\u001b[0m\u001b[1;33m\u001b[0m\u001b[0m\n\u001b[0;32m      6\u001b[0m         \u001b[0mprint\u001b[0m\u001b[1;33m(\u001b[0m\u001b[0mNode\u001b[0m\u001b[1;33m.\u001b[0m\u001b[0mNodeName\u001b[0m\u001b[1;33m)\u001b[0m\u001b[1;33m\u001b[0m\u001b[1;33m\u001b[0m\u001b[0m\n\u001b[1;32m----> 7\u001b[1;33m         \u001b[0mindexNumpyRunValue\u001b[0m \u001b[1;33m=\u001b[0m \u001b[0mnp\u001b[0m\u001b[1;33m.\u001b[0m\u001b[0mwhere\u001b[0m\u001b[1;33m(\u001b[0m\u001b[0mNumpyKey\u001b[0m\u001b[1;33m==\u001b[0m\u001b[0mNode\u001b[0m\u001b[1;33m.\u001b[0m\u001b[0mNodeName\u001b[0m\u001b[1;33m)\u001b[0m\u001b[1;33m[\u001b[0m\u001b[1;36m0\u001b[0m\u001b[1;33m]\u001b[0m\u001b[1;33m[\u001b[0m\u001b[1;36m0\u001b[0m\u001b[1;33m]\u001b[0m\u001b[1;33m\u001b[0m\u001b[1;33m\u001b[0m\u001b[0m\n\u001b[0m\u001b[0;32m      8\u001b[0m         \u001b[1;32mfor\u001b[0m \u001b[0mValue\u001b[0m \u001b[1;32min\u001b[0m \u001b[0mNode\u001b[0m\u001b[1;33m.\u001b[0m\u001b[0mgetValueList\u001b[0m\u001b[1;33m(\u001b[0m\u001b[1;33m)\u001b[0m\u001b[1;33m:\u001b[0m\u001b[1;33m\u001b[0m\u001b[1;33m\u001b[0m\u001b[0m\n\u001b[0;32m      9\u001b[0m             \u001b[0mprint\u001b[0m\u001b[1;33m(\u001b[0m\u001b[0mValue\u001b[0m\u001b[1;33m,\u001b[0m\u001b[0mnp\u001b[0m\u001b[1;33m.\u001b[0m\u001b[0msum\u001b[0m\u001b[1;33m(\u001b[0m\u001b[0mNumpyWeight\u001b[0m\u001b[1;33m[\u001b[0m\u001b[0mnp\u001b[0m\u001b[1;33m.\u001b[0m\u001b[0mwhere\u001b[0m\u001b[1;33m(\u001b[0m\u001b[0mNumpyRunValue\u001b[0m\u001b[1;33m[\u001b[0m\u001b[1;33m:\u001b[0m\u001b[1;33m,\u001b[0m\u001b[0mindexNumpyRunValue\u001b[0m\u001b[1;33m]\u001b[0m \u001b[1;33m==\u001b[0m \u001b[0mValue\u001b[0m\u001b[1;33m)\u001b[0m\u001b[1;33m[\u001b[0m\u001b[1;36m0\u001b[0m\u001b[1;33m]\u001b[0m\u001b[1;33m]\u001b[0m\u001b[1;33m)\u001b[0m \u001b[1;33m/\u001b[0m \u001b[0mTotalWeight\u001b[0m\u001b[1;33m)\u001b[0m\u001b[1;33m\u001b[0m\u001b[1;33m\u001b[0m\u001b[0m\n",
      "\u001b[1;31mIndexError\u001b[0m: index 0 is out of bounds for axis 0 with size 0"
     ]
    }
   ],
   "source": [
    "TotalWeight = np.sum(NumpyWeight)\n",
    "for Node in NodeList:\n",
    "    if Node.NodeName in Observations.keys():\n",
    "        print(Node.NodeName, Observations[Node.NodeName])\n",
    "    else:\n",
    "        print(Node.NodeName)\n",
    "        indexNumpyRunValue = np.where(NumpyKey==Node.NodeName)[0][0]\n",
    "        for Value in Node.getValueList():\n",
    "            print(Value,np.sum(NumpyWeight[np.where(NumpyRunValue[:,indexNumpyRunValue] == Value)[0]]) / TotalWeight)\n",
    "    print('============================')"
   ]
  },
  {
   "cell_type": "markdown",
   "metadata": {},
   "source": [
    "# Monty Hall  Example "
   ]
  },
  {
   "cell_type": "code",
   "execution_count": 21,
   "metadata": {},
   "outputs": [],
   "source": [
    "guest = ConditionalProbabilityTable( [ ['A', 1./3],[ 'B', 1./3 ],[ 'C', 1./3 ]], None, 'guest' )\n",
    "prize = ConditionalProbabilityTable( [ ['A', 1./3],[ 'B', 1./3 ],[ 'C', 1./3 ]], None, 'prize' )"
   ]
  },
  {
   "cell_type": "code",
   "execution_count": 22,
   "metadata": {},
   "outputs": [],
   "source": [
    "monty = ConditionalProbabilityTable( \n",
    "    [[ 'A', 'A', 'A', 0.0 ],\n",
    "     [ 'A', 'A', 'B', 0.5 ],\n",
    "     [ 'A', 'A', 'C', 0.5 ],\n",
    "     [ 'A', 'B', 'A', 0.0 ],\n",
    "     [ 'A', 'B', 'B', 0.0 ],\n",
    "     [ 'A', 'B', 'C', 1.0 ],\n",
    "     [ 'A', 'C', 'A', 0.0 ],\n",
    "     [ 'A', 'C', 'B', 1.0 ],\n",
    "     [ 'A', 'C', 'C', 0.0 ],\n",
    "     [ 'B', 'A', 'A', 0.0 ],\n",
    "     [ 'B', 'A', 'B', 0.0 ],\n",
    "     [ 'B', 'A', 'C', 1.0 ],\n",
    "     [ 'B', 'B', 'A', 0.5 ],\n",
    "     [ 'B', 'B', 'B', 0.0 ],\n",
    "     [ 'B', 'B', 'C', 0.5 ],\n",
    "     [ 'B', 'C', 'A', 1.0 ],\n",
    "     [ 'B', 'C', 'B', 0.0 ],\n",
    "     [ 'B', 'C', 'C', 0.0 ],\n",
    "     [ 'C', 'A', 'A', 0.0 ],\n",
    "     [ 'C', 'A', 'B', 1.0 ],\n",
    "     [ 'C', 'A', 'C', 0.0 ],\n",
    "     [ 'C', 'B', 'A', 1.0 ],\n",
    "     [ 'C', 'B', 'B', 0.0 ],\n",
    "     [ 'C', 'B', 'C', 0.0 ],\n",
    "     [ 'C', 'C', 'A', 0.5 ],\n",
    "     [ 'C', 'C', 'B', 0.5 ],\n",
    "     [ 'C', 'C', 'C', 0.0 ]], ['guest','prize'], 'monty' )"
   ]
  },
  {
   "cell_type": "code",
   "execution_count": 23,
   "metadata": {},
   "outputs": [],
   "source": [
    "Observations = { 'guest' : 'A' }"
   ]
  },
  {
   "cell_type": "code",
   "execution_count": 24,
   "metadata": {},
   "outputs": [],
   "source": [
    "NodeList = [guest,prize,monty]"
   ]
  },
  {
   "cell_type": "code",
   "execution_count": 25,
   "metadata": {},
   "outputs": [
    {
     "output_type": "error",
     "ename": "NameError",
     "evalue": "name 'random' is not defined",
     "traceback": [
      "\u001b[1;31m---------------------------------------------------------------------------\u001b[0m",
      "\u001b[1;31mNameError\u001b[0m                                 Traceback (most recent call last)",
      "\u001b[1;32m<ipython-input-25-60095d664213>\u001b[0m in \u001b[0;36m<module>\u001b[1;34m\u001b[0m\n\u001b[0;32m      6\u001b[0m     \u001b[0mParentLikelihoodWeight\u001b[0m \u001b[1;33m=\u001b[0m \u001b[1;33m{\u001b[0m\u001b[1;33m}\u001b[0m\u001b[1;33m\u001b[0m\u001b[1;33m\u001b[0m\u001b[0m\n\u001b[0;32m      7\u001b[0m     \u001b[0mRunningVar\u001b[0m\u001b[1;33m,\u001b[0m\u001b[0mParentLikelihoodWeight\u001b[0m \u001b[1;33m=\u001b[0m \u001b[0mguest\u001b[0m\u001b[1;33m.\u001b[0m\u001b[0mgetOutputWithLikehood\u001b[0m\u001b[1;33m(\u001b[0m\u001b[0mRunningVar\u001b[0m\u001b[1;33m,\u001b[0m\u001b[0mParentLikelihoodWeight\u001b[0m\u001b[1;33m,\u001b[0m\u001b[0mObservations\u001b[0m\u001b[1;33m)\u001b[0m\u001b[1;33m\u001b[0m\u001b[1;33m\u001b[0m\u001b[0m\n\u001b[1;32m----> 8\u001b[1;33m     \u001b[0mRunningVar\u001b[0m\u001b[1;33m,\u001b[0m\u001b[0mParentLikelihoodWeight\u001b[0m \u001b[1;33m=\u001b[0m \u001b[0mprize\u001b[0m\u001b[1;33m.\u001b[0m\u001b[0mgetOutputWithLikehood\u001b[0m\u001b[1;33m(\u001b[0m\u001b[0mRunningVar\u001b[0m\u001b[1;33m,\u001b[0m\u001b[0mParentLikelihoodWeight\u001b[0m\u001b[1;33m,\u001b[0m\u001b[0mObservations\u001b[0m\u001b[1;33m)\u001b[0m\u001b[1;33m\u001b[0m\u001b[1;33m\u001b[0m\u001b[0m\n\u001b[0m\u001b[0;32m      9\u001b[0m     \u001b[0mRunningVar\u001b[0m\u001b[1;33m,\u001b[0m\u001b[0mParentLikelihoodWeight\u001b[0m \u001b[1;33m=\u001b[0m \u001b[0mmonty\u001b[0m\u001b[1;33m.\u001b[0m\u001b[0mgetOutputWithLikehood\u001b[0m\u001b[1;33m(\u001b[0m\u001b[0mRunningVar\u001b[0m\u001b[1;33m,\u001b[0m\u001b[0mParentLikelihoodWeight\u001b[0m\u001b[1;33m,\u001b[0m\u001b[0mObservations\u001b[0m\u001b[1;33m)\u001b[0m\u001b[1;33m\u001b[0m\u001b[1;33m\u001b[0m\u001b[0m\n\u001b[0;32m     10\u001b[0m     \u001b[0mRunForwardList\u001b[0m\u001b[1;33m.\u001b[0m\u001b[0mappend\u001b[0m\u001b[1;33m(\u001b[0m\u001b[0mRunningVar\u001b[0m\u001b[1;33m)\u001b[0m\u001b[1;33m\u001b[0m\u001b[1;33m\u001b[0m\u001b[0m\n",
      "\u001b[1;32m<ipython-input-5-4a479d76c797>\u001b[0m in \u001b[0;36mgetOutputWithLikehood\u001b[1;34m(self, ParentState, ParentLikelihoodWeight, Observations)\u001b[0m\n\u001b[0;32m     56\u001b[0m                 \u001b[0mNodeProba\u001b[0m \u001b[1;33m=\u001b[0m \u001b[0mself\u001b[0m\u001b[1;33m.\u001b[0m\u001b[0mgetNodeProbability\u001b[0m\u001b[1;33m(\u001b[0m\u001b[0mParentState\u001b[0m\u001b[1;33m)\u001b[0m\u001b[1;33m\u001b[0m\u001b[1;33m\u001b[0m\u001b[0m\n\u001b[0;32m     57\u001b[0m                 \u001b[0msortedProba\u001b[0m \u001b[1;33m=\u001b[0m \u001b[0mNodeProba\u001b[0m\u001b[1;33m.\u001b[0m\u001b[0mT\u001b[0m\u001b[1;33m[\u001b[0m\u001b[0mNodeProba\u001b[0m\u001b[1;33m[\u001b[0m\u001b[1;36m1\u001b[0m\u001b[1;33m]\u001b[0m\u001b[1;33m.\u001b[0m\u001b[0margsort\u001b[0m\u001b[1;33m(\u001b[0m\u001b[1;33m)\u001b[0m\u001b[1;33m]\u001b[0m\u001b[1;33m.\u001b[0m\u001b[0mT\u001b[0m\u001b[1;33m\u001b[0m\u001b[1;33m\u001b[0m\u001b[0m\n\u001b[1;32m---> 58\u001b[1;33m             \u001b[0mRandomValue\u001b[0m \u001b[1;33m=\u001b[0m \u001b[0mrandom\u001b[0m\u001b[1;33m.\u001b[0m\u001b[0mrandom\u001b[0m\u001b[1;33m(\u001b[0m\u001b[1;33m)\u001b[0m\u001b[1;33m\u001b[0m\u001b[1;33m\u001b[0m\u001b[0m\n\u001b[0m\u001b[0;32m     59\u001b[0m             \u001b[1;32mfor\u001b[0m \u001b[0mindex\u001b[0m \u001b[1;32min\u001b[0m \u001b[0mrange\u001b[0m\u001b[1;33m(\u001b[0m\u001b[0mlen\u001b[0m\u001b[1;33m(\u001b[0m\u001b[0msortedProba\u001b[0m\u001b[1;33m)\u001b[0m\u001b[1;33m)\u001b[0m\u001b[1;33m:\u001b[0m\u001b[1;33m\u001b[0m\u001b[1;33m\u001b[0m\u001b[0m\n\u001b[0;32m     60\u001b[0m                 \u001b[1;32mif\u001b[0m \u001b[0mRandomValue\u001b[0m \u001b[1;33m<\u001b[0m \u001b[0msortedProba\u001b[0m\u001b[1;33m[\u001b[0m\u001b[1;36m1\u001b[0m\u001b[1;33m]\u001b[0m\u001b[1;33m[\u001b[0m\u001b[1;33m:\u001b[0m\u001b[0mindex\u001b[0m\u001b[1;33m+\u001b[0m\u001b[1;36m1\u001b[0m\u001b[1;33m]\u001b[0m\u001b[1;33m.\u001b[0m\u001b[0mastype\u001b[0m\u001b[1;33m(\u001b[0m\u001b[0mnp\u001b[0m\u001b[1;33m.\u001b[0m\u001b[0mfloat\u001b[0m\u001b[1;33m)\u001b[0m\u001b[1;33m.\u001b[0m\u001b[0msum\u001b[0m\u001b[1;33m(\u001b[0m\u001b[1;33m)\u001b[0m\u001b[1;33m:\u001b[0m\u001b[1;33m\u001b[0m\u001b[1;33m\u001b[0m\u001b[0m\n",
      "\u001b[1;31mNameError\u001b[0m: name 'random' is not defined"
     ]
    }
   ],
   "source": [
    "RunForwardList = []\n",
    "RunForwardWeight = []\n",
    "for i in range(100000):\n",
    "    w = 1\n",
    "    RunningVar = {}\n",
    "    ParentLikelihoodWeight = {}\n",
    "    RunningVar,ParentLikelihoodWeight = guest.getOutputWithLikehood(RunningVar,ParentLikelihoodWeight,Observations)\n",
    "    RunningVar,ParentLikelihoodWeight = prize.getOutputWithLikehood(RunningVar,ParentLikelihoodWeight,Observations)\n",
    "    RunningVar,ParentLikelihoodWeight = monty.getOutputWithLikehood(RunningVar,ParentLikelihoodWeight,Observations)\n",
    "    RunForwardList.append(RunningVar)\n",
    "    for key in Observations:\n",
    "        w *= ParentLikelihoodWeight[key]\n",
    "    RunForwardWeight.append(w)"
   ]
  },
  {
   "cell_type": "code",
   "execution_count": 26,
   "metadata": {},
   "outputs": [],
   "source": [
    "RunValueList = []\n",
    "WeightList = []\n",
    "KeyList = []\n",
    "for index_,RunForwardValue in enumerate(RunForwardList):\n",
    "    OneRow = []\n",
    "    for key in RunForwardValue: \n",
    "        if key not in Observations:\n",
    "            if index_ == 0:\n",
    "                KeyList.append(key)\n",
    "            OneRow.append(RunForwardValue[key])\n",
    "    RunValueList.append(OneRow)\n",
    "    WeightList.append(RunForwardWeight[index_])\n",
    "NumpyRunValue = np.array(RunValueList)\n",
    "NumpyKey = np.array(list(KeyList))\n",
    "NumpyWeight = np.array(WeightList)"
   ]
  },
  {
   "cell_type": "code",
   "execution_count": 27,
   "metadata": {
    "tags": []
   },
   "outputs": [
    {
     "output_type": "stream",
     "name": "stdout",
     "text": "guest A\n============================\nprize\n"
    },
    {
     "output_type": "error",
     "ename": "IndexError",
     "evalue": "index 0 is out of bounds for axis 0 with size 0",
     "traceback": [
      "\u001b[1;31m---------------------------------------------------------------------------\u001b[0m",
      "\u001b[1;31mIndexError\u001b[0m                                Traceback (most recent call last)",
      "\u001b[1;32m<ipython-input-27-b9cb4ef3819b>\u001b[0m in \u001b[0;36m<module>\u001b[1;34m\u001b[0m\n\u001b[0;32m      5\u001b[0m     \u001b[1;32melse\u001b[0m\u001b[1;33m:\u001b[0m\u001b[1;33m\u001b[0m\u001b[1;33m\u001b[0m\u001b[0m\n\u001b[0;32m      6\u001b[0m         \u001b[0mprint\u001b[0m\u001b[1;33m(\u001b[0m\u001b[0mNode\u001b[0m\u001b[1;33m.\u001b[0m\u001b[0mNodeName\u001b[0m\u001b[1;33m)\u001b[0m\u001b[1;33m\u001b[0m\u001b[1;33m\u001b[0m\u001b[0m\n\u001b[1;32m----> 7\u001b[1;33m         \u001b[0mindexNumpyRunValue\u001b[0m \u001b[1;33m=\u001b[0m \u001b[0mnp\u001b[0m\u001b[1;33m.\u001b[0m\u001b[0mwhere\u001b[0m\u001b[1;33m(\u001b[0m\u001b[0mNumpyKey\u001b[0m\u001b[1;33m==\u001b[0m\u001b[0mNode\u001b[0m\u001b[1;33m.\u001b[0m\u001b[0mNodeName\u001b[0m\u001b[1;33m)\u001b[0m\u001b[1;33m[\u001b[0m\u001b[1;36m0\u001b[0m\u001b[1;33m]\u001b[0m\u001b[1;33m[\u001b[0m\u001b[1;36m0\u001b[0m\u001b[1;33m]\u001b[0m\u001b[1;33m\u001b[0m\u001b[1;33m\u001b[0m\u001b[0m\n\u001b[0m\u001b[0;32m      8\u001b[0m         \u001b[1;32mfor\u001b[0m \u001b[0mValue\u001b[0m \u001b[1;32min\u001b[0m \u001b[0mNode\u001b[0m\u001b[1;33m.\u001b[0m\u001b[0mgetValueList\u001b[0m\u001b[1;33m(\u001b[0m\u001b[1;33m)\u001b[0m\u001b[1;33m:\u001b[0m\u001b[1;33m\u001b[0m\u001b[1;33m\u001b[0m\u001b[0m\n\u001b[0;32m      9\u001b[0m             \u001b[0mprint\u001b[0m\u001b[1;33m(\u001b[0m\u001b[0mValue\u001b[0m\u001b[1;33m,\u001b[0m\u001b[0mnp\u001b[0m\u001b[1;33m.\u001b[0m\u001b[0msum\u001b[0m\u001b[1;33m(\u001b[0m\u001b[0mNumpyWeight\u001b[0m\u001b[1;33m[\u001b[0m\u001b[0mnp\u001b[0m\u001b[1;33m.\u001b[0m\u001b[0mwhere\u001b[0m\u001b[1;33m(\u001b[0m\u001b[0mNumpyRunValue\u001b[0m\u001b[1;33m[\u001b[0m\u001b[1;33m:\u001b[0m\u001b[1;33m,\u001b[0m\u001b[0mindexNumpyRunValue\u001b[0m\u001b[1;33m]\u001b[0m \u001b[1;33m==\u001b[0m \u001b[0mValue\u001b[0m\u001b[1;33m)\u001b[0m\u001b[1;33m[\u001b[0m\u001b[1;36m0\u001b[0m\u001b[1;33m]\u001b[0m\u001b[1;33m]\u001b[0m\u001b[1;33m)\u001b[0m \u001b[1;33m/\u001b[0m \u001b[0mTotalWeight\u001b[0m\u001b[1;33m)\u001b[0m\u001b[1;33m\u001b[0m\u001b[1;33m\u001b[0m\u001b[0m\n",
      "\u001b[1;31mIndexError\u001b[0m: index 0 is out of bounds for axis 0 with size 0"
     ]
    }
   ],
   "source": [
    "TotalWeight = np.sum(NumpyWeight)\n",
    "for Node in NodeList:\n",
    "    if Node.NodeName in Observations.keys():\n",
    "        print(Node.NodeName, Observations[Node.NodeName])\n",
    "    else:\n",
    "        print(Node.NodeName)\n",
    "        indexNumpyRunValue = np.where(NumpyKey==Node.NodeName)[0][0]\n",
    "        for Value in Node.getValueList():\n",
    "            print(Value,np.sum(NumpyWeight[np.where(NumpyRunValue[:,indexNumpyRunValue] == Value)[0]]) / TotalWeight)\n",
    "    print('============================')"
   ]
  },
  {
   "cell_type": "code",
   "execution_count": 35,
   "metadata": {
    "tags": []
   },
   "outputs": [
    {
     "output_type": "stream",
     "name": "stdout",
     "text": "\nList a is not empty\nList b is empty\n"
    }
   ],
   "source": [
    "a = ['i']\n",
    "b = ['']\n",
    "print(b[0])\n",
    "if not a:\n",
    "    print(\"List a is empty\")\n",
    "else:\n",
    "    print(\"List a is not empty\")\n",
    "\n",
    "if b == ['']:\n",
    "    print(\"List b is empty\")\n",
    "else:\n",
    "    print(\"List b is not empty\")\n"
   ]
  },
  {
   "cell_type": "code",
   "execution_count": 6,
   "metadata": {
    "tags": []
   },
   "outputs": [
    {
     "output_type": "stream",
     "name": "stdout",
     "text": "line:  3\n\nline:  G=A;I=Cao,D=Kho\n\ninput:  ['G=A', 'I=Cao,D=Kho']\nprob:  G=A\nsubProb:  G=A\nsubP:  ['G', 'A']\ncondition:  ['I=Cao', 'D=Kho']\nsubcondition:  ['I', 'Cao']\nsubcondition:  ['D', 'Kho']\nProbability:  {'G': 'A'}\nObservationList:  {'I': 'Cao', 'D': 'Kho'}\n=======\nline:  G=A,L=Cao;I=Cao,D=Kho\n\ninput:  ['G=A,L=Cao', 'I=Cao,D=Kho']\nprob:  G=A,L=Cao\nsubProb:  G=A\nsubP:  ['G', 'A']\nsubProb:  L=Cao\nsubP:  ['L', 'Cao']\ncondition:  ['I=Cao', 'D=Kho']\nsubcondition:  ['I', 'Cao']\nsubcondition:  ['D', 'Kho']\nProbability:  {'G': 'A', 'L': 'Cao'}\nObservationList:  {'I': 'Cao', 'D': 'Kho'}\n=======\nline:  G=B,S=Cao; \n\ninput:  ['G=B,S=Cao', ' ']\nprob:  G=B,S=Cao\nsubProb:  G=B\nsubP:  ['G', 'B']\nsubProb:  S=Cao\nsubP:  ['S', 'Cao']\ncondition:  [' ']\nProbability:  {'G': 'B', 'S': 'Cao'}\nObservationList:  []\n=======\n"
    }
   ],
   "source": [
    "file = open(\"test.txt\")\n",
    "for line in file:\n",
    "    ObservationList = dict()\n",
    "    Probability = dict()\n",
    "    print(\"line: \",line)\n",
    "    if len(line) == 2:\n",
    "        numVertex = line.split('\\n')[0]\n",
    "    else:\n",
    "        inputGraph = line.split('\\n')[0]\n",
    "        input = inputGraph.split(';')\n",
    "        print(\"input: \", input)\n",
    "        prob = str(input[0])\n",
    "        print(\"prob: \", prob)\n",
    "        for subProb in prob.split(','):\n",
    "            print(\"subProb: \",subProb)\n",
    "            subP = subProb.split('=')\n",
    "            print(\"subP: \", subP)\n",
    "            Probability.update({subP[0]:subP[1]})\n",
    "        condition = input[1].split(',')\n",
    "        print(\"condition: \", condition)\n",
    "        for subcondition in condition:\n",
    "            if subcondition == ' ':\n",
    "                ObservationList = []\n",
    "                break\n",
    "            sub = subcondition.split('=')\n",
    "            print(\"subcondition: \",sub)\n",
    "            ObservationList.update({sub[0]:sub[1]})\n",
    "        print(\"Probability: \",Probability)\n",
    "        print(\"ObservationList: \",ObservationList)\n",
    "        print(\"=======\")\n"
   ]
  },
  {
   "cell_type": "code",
   "execution_count": 21,
   "metadata": {
    "tags": []
   },
   "outputs": [
    {
     "output_type": "stream",
     "name": "stdout",
     "text": "['2 \\n', '\\n', ' \\n', 'G=A;I=Cao,D=Kho  \\n', 'G=A,L=Manh;I=Cao,D=Kho    \\n', 'G=B,S=Cao;\\n', '\\n', '  ']\n['2', '', '', 'G=A;I=Cao,D=Kho', 'G=A,L=Manh;I=Cao,D=Kho', 'G=B,S=Cao;', '', '']\n['2', 'G=A;I=Cao,D=Kho', 'G=A,L=Manh;I=Cao,D=Kho', 'G=B,S=Cao;']\n"
    }
   ],
   "source": [
    "file = open(\"test.txt\")\n",
    "lines = file.readlines()\n",
    "print(lines)\n",
    "for i in range(len(lines)):\n",
    "    lines[i] = lines[i].strip()\n",
    "\n",
    "print(lines)\n",
    "while lines.count('') > 0:\n",
    "    lines.remove('')\n",
    "\n",
    "print(lines)"
   ]
  },
  {
   "cell_type": "code",
   "execution_count": 6,
   "metadata": {
    "tags": []
   },
   "outputs": [
    {
     "output_type": "stream",
     "name": "stdout",
     "text": "2\n\nG=A;I=Cao,D=Kho\n\nG=A,L=Manh;I=Cao,D=Kho\n\nG=B,S=Cao; \n\n\n"
    }
   ],
   "source": [
    "print(string_without_empty_lines)"
   ]
  },
  {
   "cell_type": "code",
   "execution_count": 180,
   "metadata": {},
   "outputs": [],
   "source": [
    "import numpy as np\n",
    "\n",
    "def uniqueElement(observation):\n",
    "    # intilize a null list\n",
    "    unique_list = []\n",
    "    # traverse for all elements\n",
    "    for x in observation:\n",
    "        # check if exists in unique_list or not\n",
    "        if x not in unique_list:\n",
    "            unique_list.append(x)\n",
    "    return unique_list\n",
    "\n",
    "def get_value(factor, key):\n",
    "    newd = dict()\n",
    "    for i in range(len(factor)):\n",
    "        newd.update({tuple([factor[i][j] for j in range(len(factor[i])-1)]):factor[i][-1]})\n",
    "    return newd.get(key)\n",
    "\n",
    "def swapCommon(factor,key,begin):\n",
    "    if type(factor[0][-1]) is float:\n",
    "        if begin: #swap common to the first row\n",
    "            print(len(factor))\n",
    "            for row in range(len(factor)):\n",
    "                tmp = factor[row][0]\n",
    "                factor[row][0] = factor[row][key]\n",
    "                factor[row][key] = tmp\n",
    "        else: # swap common to the latest row\n",
    "            print(len(factor))\n",
    "            for row in range(len(factor)):\n",
    "                tmp = factor[row][-2]\n",
    "                factor[row][-2] = factor[row][key]\n",
    "                factor[row][key] = tmp\n",
    "    else:\n",
    "        if begin: #swap common to the first row\n",
    "            print(len(factor))\n",
    "            tmp = factor[0]\n",
    "            factor[0] = factor[key]\n",
    "            factor[key] = tmp\n",
    "        else: # swap common to the latest row\n",
    "            print(len(factor))\n",
    "            tmp = factor[-1]\n",
    "            factor[-1] = factor[key]\n",
    "            factor[key] = tmp\n",
    "\n",
    "def parsing_combinationProb(listProb):\n",
    "        #print(\"tableValue: \", tableValue)\n",
    "        output = []\n",
    "        n = len(listProb)\n",
    "        total = 1\n",
    "        for i in range(n):\n",
    "            total *= len(listProb[i])\n",
    "        index = np.zeros(n)\n",
    "        index[-1] = -1\n",
    "\n",
    "        count = 0\n",
    "        while count < total:\n",
    "            if index[n-1] != len(listProb[n-1]) - 1:\n",
    "                index[n-1] += 1\n",
    "            else:\n",
    "                index[n-1] = 0\n",
    "                preceding = n - 1\n",
    "                while True:\n",
    "                    preceding -= 1\n",
    "                    if index[preceding] != len(listProb[preceding]) - 1:\n",
    "                        index[preceding] += 1\n",
    "                        break\n",
    "                    else:\n",
    "                        index[preceding] = 0\n",
    "            aResult = []\n",
    "            for i in range(n):\n",
    "                aResult.append(listProb[i][int(index[i])])\n",
    "            #print(\"count: \", count)\n",
    "            output.append(aResult)\n",
    "            count += 1\n",
    "        #print(output)\n",
    "        return output\n"
   ]
  },
  {
   "cell_type": "code",
   "execution_count": 181,
   "metadata": {},
   "outputs": [
    {
     "output_type": "execute_result",
     "data": {
      "text/plain": "[['True', 'True', 0.885],\n ['True', 'False', 0.115],\n ['False', 'True', 0.04],\n ['False', 'False', 0.96]]"
     },
     "metadata": {},
     "execution_count": 181
    }
   ],
   "source": [
    "xray=[[ 'True', 'True', 0.885 ],\n",
    "     [ 'True', 'False', 0.115 ],\n",
    "     [ 'False', 'True', 0.04 ],\n",
    "     [ 'False', 'False', 0.96 ]]\n",
    "xray"
   ]
  },
  {
   "cell_type": "code",
   "execution_count": 182,
   "metadata": {
    "tags": []
   },
   "outputs": [
    {
     "output_type": "stream",
     "name": "stdout",
     "text": "0.115\n"
    }
   ],
   "source": [
    "tt = ('True','False')\n",
    "print(get_value(xray,tt))"
   ]
  },
  {
   "cell_type": "code",
   "execution_count": 183,
   "metadata": {},
   "outputs": [],
   "source": [
    "kaka = [[ 'Small', 'Guitar', 'A', 0.0 ],\n",
    "        [ 'Small', 'Guitar', 'B', 0.5 ],\n",
    "        [ 'Small', 'Guitar', 'C', 0.5 ],\n",
    "        [ 'Small', 'Bass', 'A', 0.0 ],\n",
    "        [ 'Small', 'Bass', 'B', 0.0 ],\n",
    "        [ 'Small', 'Bass', 'C', 1.0 ],\n",
    "        [ 'Small', 'Drum', 'A', 0.0 ],\n",
    "        [ 'Small', 'Drum', 'B', 1.0 ],\n",
    "        [ 'Small', 'Drum', 'C', 0.0 ],\n",
    "        [ 'Medium', 'Guitar', 'A', 0.0 ],\n",
    "        [ 'Medium', 'Guitar', 'B', 0.0 ],\n",
    "        [ 'Medium', 'Guitar', 'C', 1.0 ],\n",
    "        [ 'Medium', 'Bass', 'A', 0.5 ],\n",
    "        [ 'Medium', 'Bass', 'B', 0.0 ],\n",
    "        [ 'Medium', 'Bass', 'C', 0.5 ],\n",
    "        [ 'Medium', 'Drum', 'A', 1.0 ],\n",
    "        [ 'Medium', 'Drum', 'B', 0.0 ],\n",
    "        [ 'Medium', 'Drum', 'C', 0.0 ],\n",
    "        [ 'Big', 'Guitar', 'A', 0.0 ],\n",
    "        [ 'Big', 'Guitar', 'B', 1.0 ],\n",
    "        [ 'Big', 'Guitar', 'C', 0.0 ],\n",
    "        [ 'Big', 'Bass', 'A', 1.0 ],\n",
    "        [ 'Big', 'Bass', 'B', 0.0 ],\n",
    "        [ 'Big', 'Bass', 'C', 0.0 ],\n",
    "        [ 'Big', 'Drum', 'A', 0.5 ],\n",
    "        [ 'Big', 'Drum', 'B', 0.5 ],\n",
    "        [ 'Big', 'Drum', 'C', 0.0 ]]\n",
    "order_kaka = ['I', 'S', 'G']\n",
    "\n",
    "xray=[[ 'Low', 'A', 0.885 ],\n",
    "     [ 'Low', 'B', 0.115 ],\n",
    "     [ 'Low', 'C', 0.04 ],\n",
    "     [ 'High', 'A', 0.96 ],\n",
    "     [ 'High', 'B', 0.96 ],\n",
    "     [ 'High', 'C', 0.96 ]]\n",
    "order_xray = ['K', 'G']"
   ]
  },
  {
   "cell_type": "code",
   "execution_count": 184,
   "metadata": {
    "tags": []
   },
   "outputs": [
    {
     "output_type": "stream",
     "name": "stdout",
     "text": "comon_var:  ['G']\nf1:  ['I', 'S']\nf2:  ['K']\nall_vars:  ['I', 'S', 'G', 'K']\nnum_vars:  4\n"
    }
   ],
   "source": [
    "f1_vars = order_kaka\n",
    "f2_vars = order_xray\n",
    "# first, find all the common variables between the two factors:\n",
    "common_vars = []\n",
    "f1 = []\n",
    "f2 = []\n",
    "for char in f1_vars:\n",
    "    if char in f2_vars:\n",
    "        common_vars.append(char)\n",
    "    else:\n",
    "        f1.append(char)\n",
    "\n",
    "for char in f2_vars:\n",
    "    if char not in f1_vars:\n",
    "        f2.append(char)\n",
    "\n",
    "all_vars = f1+common_vars+f2\n",
    "num_vars = len(all_vars)\n",
    "print(\"comon_var: \", common_vars)\n",
    "print(\"f1: \", f1)\n",
    "print(\"f2: \", f2)\n",
    "print(\"all_vars: \", all_vars)\n",
    "print(\"num_vars: \", num_vars)"
   ]
  },
  {
   "cell_type": "code",
   "execution_count": 201,
   "metadata": {
    "tags": []
   },
   "outputs": [
    {
     "output_type": "stream",
     "name": "stdout",
     "text": "['I', 'S', 'G']\n['K']\n3\n2\n"
    }
   ],
   "source": [
    "#swap common var in original table\n",
    "f1_str = all_vars[:len(f1_vars)]\n",
    "f2_str = all_vars[len(f2_vars):]\n",
    "print(f1_str)\n",
    "print(f2_str[1:])\n",
    "print(len(f1_vars))\n",
    "print(len(f2_vars))"
   ]
  },
  {
   "cell_type": "code",
   "execution_count": 186,
   "metadata": {
    "tags": []
   },
   "outputs": [
    {
     "output_type": "stream",
     "name": "stdout",
     "text": "2\n1\n"
    }
   ],
   "source": [
    "index_common_f1 = order_kaka.index(common_vars[0])\n",
    "index_common_f2 = order_xray.index(common_vars[0])\n",
    "print(index_common_f1)\n",
    "print(index_common_f2)"
   ]
  },
  {
   "cell_type": "code",
   "execution_count": 187,
   "metadata": {
    "tags": []
   },
   "outputs": [
    {
     "output_type": "stream",
     "name": "stdout",
     "text": "27\n3\n6\n2\n"
    }
   ],
   "source": [
    "swapCommon(kaka,index_common_f1,False)\n",
    "swapCommon(order_kaka,index_common_f1,False)\n",
    "swapCommon(xray,index_common_f2,True)\n",
    "swapCommon(order_xray,index_common_f2,True)"
   ]
  },
  {
   "cell_type": "code",
   "execution_count": 188,
   "metadata": {
    "tags": []
   },
   "outputs": [
    {
     "output_type": "stream",
     "name": "stdout",
     "text": "['G', 'K']\n"
    }
   ],
   "source": [
    "print(order_xray)"
   ]
  },
  {
   "cell_type": "code",
   "execution_count": 189,
   "metadata": {
    "tags": []
   },
   "outputs": [
    {
     "output_type": "stream",
     "name": "stdout",
     "text": "[['A', 'Low', 0.885], ['B', 'Low', 0.115], ['C', 'Low', 0.04], ['A', 'High', 0.96], ['B', 'High', 0.96], ['C', 'High', 0.96]]\n"
    }
   ],
   "source": [
    "print(xray)"
   ]
  },
  {
   "cell_type": "code",
   "execution_count": 190,
   "metadata": {},
   "outputs": [],
   "source": [
    "listI = uniqueElement([kaka[i][order_kaka.index('I')] for i in range(len(kaka))])\n",
    "listS = uniqueElement([kaka[i][order_kaka.index('S')] for i in range(len(kaka))])\n",
    "listG = uniqueElement([kaka[i][order_kaka.index('G')] for i in range(len(kaka))])\n",
    "listK = uniqueElement([xray[i][order_xray.index('K')] for i in range(len(xray))])"
   ]
  },
  {
   "cell_type": "code",
   "execution_count": 191,
   "metadata": {
    "tags": []
   },
   "outputs": [
    {
     "output_type": "stream",
     "name": "stdout",
     "text": "listI: ['Small', 'Medium', 'Big']\nlistS: ['Guitar', 'Bass', 'Drum']\nlistG: ['A', 'B', 'C']\nlistK: ['Low', 'High']\n"
    }
   ],
   "source": [
    "print(\"listI:\",listI)\n",
    "print(\"listS:\",listS)\n",
    "print(\"listG:\",listG)\n",
    "print(\"listK:\",listK)"
   ]
  },
  {
   "cell_type": "code",
   "execution_count": 192,
   "metadata": {},
   "outputs": [
    {
     "output_type": "execute_result",
     "data": {
      "text/plain": "[['Small', 'Medium', 'Big'],\n ['Guitar', 'Bass', 'Drum'],\n ['A', 'B', 'C'],\n ['Low', 'High']]"
     },
     "metadata": {},
     "execution_count": 192
    }
   ],
   "source": [
    "listmerge = []\n",
    "listmerge.append(listI)\n",
    "listmerge.append(listS)\n",
    "listmerge.append(listG)\n",
    "listmerge.append(listK)\n",
    "listmerge"
   ]
  },
  {
   "cell_type": "code",
   "execution_count": 199,
   "metadata": {},
   "outputs": [
    {
     "output_type": "execute_result",
     "data": {
      "text/plain": "[['Small', 'Guitar', 'A', 'Low'],\n ['Small', 'Guitar', 'A', 'High'],\n ['Small', 'Guitar', 'B', 'Low'],\n ['Small', 'Guitar', 'B', 'High'],\n ['Small', 'Guitar', 'C', 'Low'],\n ['Small', 'Guitar', 'C', 'High'],\n ['Small', 'Bass', 'A', 'Low'],\n ['Small', 'Bass', 'A', 'High'],\n ['Small', 'Bass', 'B', 'Low'],\n ['Small', 'Bass', 'B', 'High'],\n ['Small', 'Bass', 'C', 'Low'],\n ['Small', 'Bass', 'C', 'High'],\n ['Small', 'Drum', 'A', 'Low'],\n ['Small', 'Drum', 'A', 'High'],\n ['Small', 'Drum', 'B', 'Low'],\n ['Small', 'Drum', 'B', 'High'],\n ['Small', 'Drum', 'C', 'Low'],\n ['Small', 'Drum', 'C', 'High'],\n ['Medium', 'Guitar', 'A', 'Low'],\n ['Medium', 'Guitar', 'A', 'High'],\n ['Medium', 'Guitar', 'B', 'Low'],\n ['Medium', 'Guitar', 'B', 'High'],\n ['Medium', 'Guitar', 'C', 'Low'],\n ['Medium', 'Guitar', 'C', 'High'],\n ['Medium', 'Bass', 'A', 'Low'],\n ['Medium', 'Bass', 'A', 'High'],\n ['Medium', 'Bass', 'B', 'Low'],\n ['Medium', 'Bass', 'B', 'High'],\n ['Medium', 'Bass', 'C', 'Low'],\n ['Medium', 'Bass', 'C', 'High'],\n ['Medium', 'Drum', 'A', 'Low'],\n ['Medium', 'Drum', 'A', 'High'],\n ['Medium', 'Drum', 'B', 'Low'],\n ['Medium', 'Drum', 'B', 'High'],\n ['Medium', 'Drum', 'C', 'Low'],\n ['Medium', 'Drum', 'C', 'High'],\n ['Big', 'Guitar', 'A', 'Low'],\n ['Big', 'Guitar', 'A', 'High'],\n ['Big', 'Guitar', 'B', 'Low'],\n ['Big', 'Guitar', 'B', 'High'],\n ['Big', 'Guitar', 'C', 'Low'],\n ['Big', 'Guitar', 'C', 'High'],\n ['Big', 'Bass', 'A', 'Low'],\n ['Big', 'Bass', 'A', 'High'],\n ['Big', 'Bass', 'B', 'Low'],\n ['Big', 'Bass', 'B', 'High'],\n ['Big', 'Bass', 'C', 'Low'],\n ['Big', 'Bass', 'C', 'High'],\n ['Big', 'Drum', 'A', 'Low'],\n ['Big', 'Drum', 'A', 'High'],\n ['Big', 'Drum', 'B', 'Low'],\n ['Big', 'Drum', 'B', 'High'],\n ['Big', 'Drum', 'C', 'Low'],\n ['Big', 'Drum', 'C', 'High']]"
     },
     "metadata": {},
     "execution_count": 199
    }
   ],
   "source": [
    "result = parsing_combinationProb(listmerge)\n",
    "result"
   ]
  },
  {
   "cell_type": "code",
   "execution_count": 200,
   "metadata": {
    "tags": []
   },
   "outputs": [
    {
     "output_type": "execute_result",
     "data": {
      "text/plain": "[['Small', 'Guitar', 'A', 'Low', 0.0],\n ['Small', 'Guitar', 'A', 'High', 0.0],\n ['Small', 'Guitar', 'B', 'Low', 0.0575],\n ['Small', 'Guitar', 'B', 'High', 0.48],\n ['Small', 'Guitar', 'C', 'Low', 0.02],\n ['Small', 'Guitar', 'C', 'High', 0.48],\n ['Small', 'Bass', 'A', 'Low', 0.0],\n ['Small', 'Bass', 'A', 'High', 0.0],\n ['Small', 'Bass', 'B', 'Low', 0.0],\n ['Small', 'Bass', 'B', 'High', 0.0],\n ['Small', 'Bass', 'C', 'Low', 0.04],\n ['Small', 'Bass', 'C', 'High', 0.96],\n ['Small', 'Drum', 'A', 'Low', 0.0],\n ['Small', 'Drum', 'A', 'High', 0.0],\n ['Small', 'Drum', 'B', 'Low', 0.115],\n ['Small', 'Drum', 'B', 'High', 0.96],\n ['Small', 'Drum', 'C', 'Low', 0.0],\n ['Small', 'Drum', 'C', 'High', 0.0],\n ['Medium', 'Guitar', 'A', 'Low', 0.0],\n ['Medium', 'Guitar', 'A', 'High', 0.0],\n ['Medium', 'Guitar', 'B', 'Low', 0.0],\n ['Medium', 'Guitar', 'B', 'High', 0.0],\n ['Medium', 'Guitar', 'C', 'Low', 0.04],\n ['Medium', 'Guitar', 'C', 'High', 0.96],\n ['Medium', 'Bass', 'A', 'Low', 0.4425],\n ['Medium', 'Bass', 'A', 'High', 0.48],\n ['Medium', 'Bass', 'B', 'Low', 0.0],\n ['Medium', 'Bass', 'B', 'High', 0.0],\n ['Medium', 'Bass', 'C', 'Low', 0.02],\n ['Medium', 'Bass', 'C', 'High', 0.48],\n ['Medium', 'Drum', 'A', 'Low', 0.885],\n ['Medium', 'Drum', 'A', 'High', 0.96],\n ['Medium', 'Drum', 'B', 'Low', 0.0],\n ['Medium', 'Drum', 'B', 'High', 0.0],\n ['Medium', 'Drum', 'C', 'Low', 0.0],\n ['Medium', 'Drum', 'C', 'High', 0.0],\n ['Big', 'Guitar', 'A', 'Low', 0.0],\n ['Big', 'Guitar', 'A', 'High', 0.0],\n ['Big', 'Guitar', 'B', 'Low', 0.115],\n ['Big', 'Guitar', 'B', 'High', 0.96],\n ['Big', 'Guitar', 'C', 'Low', 0.0],\n ['Big', 'Guitar', 'C', 'High', 0.0],\n ['Big', 'Bass', 'A', 'Low', 0.885],\n ['Big', 'Bass', 'A', 'High', 0.96],\n ['Big', 'Bass', 'B', 'Low', 0.0],\n ['Big', 'Bass', 'B', 'High', 0.0],\n ['Big', 'Bass', 'C', 'Low', 0.0],\n ['Big', 'Bass', 'C', 'High', 0.0],\n ['Big', 'Drum', 'A', 'Low', 0.4425],\n ['Big', 'Drum', 'A', 'High', 0.48],\n ['Big', 'Drum', 'B', 'Low', 0.0575],\n ['Big', 'Drum', 'B', 'High', 0.48],\n ['Big', 'Drum', 'C', 'Low', 0.0],\n ['Big', 'Drum', 'C', 'High', 0.0]]"
     },
     "metadata": {},
     "execution_count": 200
    }
   ],
   "source": [
    "for row in range(len(result)):\n",
    "    key1 = result[row][:len(f1_vars)]\n",
    "    key2 = result[row][len(f2_vars):]\n",
    "    #print(\"key1: \",key1)\n",
    "    #print(\"key2: \",key2)\n",
    "    value1 = get_value(kaka,tuple(key1))\n",
    "    value2 = get_value(xray,tuple(key2))\n",
    "    #print(\"value1: \",value1)\n",
    "    #print(\"value2: \",value2)\n",
    "    product = value1 * value2\n",
    "    result[row].append(product)\n",
    "result"
   ]
  },
  {
   "cell_type": "code",
   "execution_count": 1,
   "metadata": {},
   "outputs": [],
   "source": [
    "from FactorUtilities import *\n",
    "\n",
    "ft = FactorUtilities()\n",
    "\n",
    "kaka = [[ 'Small', 'Guitar', 'A', 0.0 ],\n",
    "        [ 'Small', 'Guitar', 'B', 0.5 ],\n",
    "        [ 'Small', 'Guitar', 'C', 0.5 ],\n",
    "        [ 'Small', 'Bass', 'A', 0.0 ],\n",
    "        [ 'Small', 'Bass', 'B', 0.0 ],\n",
    "        [ 'Small', 'Bass', 'C', 1.0 ],\n",
    "        [ 'Small', 'Drum', 'A', 0.0 ],\n",
    "        [ 'Small', 'Drum', 'B', 1.0 ],\n",
    "        [ 'Small', 'Drum', 'C', 0.0 ],\n",
    "        [ 'Medium', 'Guitar', 'A', 0.0 ],\n",
    "        [ 'Medium', 'Guitar', 'B', 0.0 ],\n",
    "        [ 'Medium', 'Guitar', 'C', 1.0 ],\n",
    "        [ 'Medium', 'Bass', 'A', 0.5 ],\n",
    "        [ 'Medium', 'Bass', 'B', 0.0 ],\n",
    "        [ 'Medium', 'Bass', 'C', 0.5 ],\n",
    "        [ 'Medium', 'Drum', 'A', 1.0 ],\n",
    "        [ 'Medium', 'Drum', 'B', 0.0 ],\n",
    "        [ 'Medium', 'Drum', 'C', 0.0 ],\n",
    "        [ 'Big', 'Guitar', 'A', 0.0 ],\n",
    "        [ 'Big', 'Guitar', 'B', 1.0 ],\n",
    "        [ 'Big', 'Guitar', 'C', 0.0 ],\n",
    "        [ 'Big', 'Bass', 'A', 1.0 ],\n",
    "        [ 'Big', 'Bass', 'B', 0.0 ],\n",
    "        [ 'Big', 'Bass', 'C', 0.0 ],\n",
    "        [ 'Big', 'Drum', 'A', 0.5 ],\n",
    "        [ 'Big', 'Drum', 'B', 0.5 ],\n",
    "        [ 'Big', 'Drum', 'C', 0.0 ]]\n",
    "order_kaka = ['I', 'S', 'G']\n",
    "\n",
    "xray=[[ 'Low', 'A', 0.885 ],\n",
    "     [ 'Low', 'B', 0.115 ],\n",
    "     [ 'Low', 'C', 0.04 ],\n",
    "     [ 'High', 'A', 0.96 ],\n",
    "     [ 'High', 'B', 0.96 ],\n",
    "     [ 'High', 'C', 0.96 ]]\n",
    "order_xray = ['K', 'G']"
   ]
  },
  {
   "cell_type": "code",
   "execution_count": 2,
   "metadata": {
    "tags": []
   },
   "outputs": [
    {
     "output_type": "execute_result",
     "data": {
      "text/plain": "[['Small', 'Guitar', 'A', 'Low', 0.0],\n ['Small', 'Guitar', 'A', 'High', 0.0],\n ['Small', 'Guitar', 'B', 'Low', 0.0575],\n ['Small', 'Guitar', 'B', 'High', 0.48],\n ['Small', 'Guitar', 'C', 'Low', 0.02],\n ['Small', 'Guitar', 'C', 'High', 0.48],\n ['Small', 'Bass', 'A', 'Low', 0.0],\n ['Small', 'Bass', 'A', 'High', 0.0],\n ['Small', 'Bass', 'B', 'Low', 0.0],\n ['Small', 'Bass', 'B', 'High', 0.0],\n ['Small', 'Bass', 'C', 'Low', 0.04],\n ['Small', 'Bass', 'C', 'High', 0.96],\n ['Small', 'Drum', 'A', 'Low', 0.0],\n ['Small', 'Drum', 'A', 'High', 0.0],\n ['Small', 'Drum', 'B', 'Low', 0.115],\n ['Small', 'Drum', 'B', 'High', 0.96],\n ['Small', 'Drum', 'C', 'Low', 0.0],\n ['Small', 'Drum', 'C', 'High', 0.0],\n ['Medium', 'Guitar', 'A', 'Low', 0.0],\n ['Medium', 'Guitar', 'A', 'High', 0.0],\n ['Medium', 'Guitar', 'B', 'Low', 0.0],\n ['Medium', 'Guitar', 'B', 'High', 0.0],\n ['Medium', 'Guitar', 'C', 'Low', 0.04],\n ['Medium', 'Guitar', 'C', 'High', 0.96],\n ['Medium', 'Bass', 'A', 'Low', 0.4425],\n ['Medium', 'Bass', 'A', 'High', 0.48],\n ['Medium', 'Bass', 'B', 'Low', 0.0],\n ['Medium', 'Bass', 'B', 'High', 0.0],\n ['Medium', 'Bass', 'C', 'Low', 0.02],\n ['Medium', 'Bass', 'C', 'High', 0.48],\n ['Medium', 'Drum', 'A', 'Low', 0.885],\n ['Medium', 'Drum', 'A', 'High', 0.96],\n ['Medium', 'Drum', 'B', 'Low', 0.0],\n ['Medium', 'Drum', 'B', 'High', 0.0],\n ['Medium', 'Drum', 'C', 'Low', 0.0],\n ['Medium', 'Drum', 'C', 'High', 0.0],\n ['Big', 'Guitar', 'A', 'Low', 0.0],\n ['Big', 'Guitar', 'A', 'High', 0.0],\n ['Big', 'Guitar', 'B', 'Low', 0.115],\n ['Big', 'Guitar', 'B', 'High', 0.96],\n ['Big', 'Guitar', 'C', 'Low', 0.0],\n ['Big', 'Guitar', 'C', 'High', 0.0],\n ['Big', 'Bass', 'A', 'Low', 0.885],\n ['Big', 'Bass', 'A', 'High', 0.96],\n ['Big', 'Bass', 'B', 'Low', 0.0],\n ['Big', 'Bass', 'B', 'High', 0.0],\n ['Big', 'Bass', 'C', 'Low', 0.0],\n ['Big', 'Bass', 'C', 'High', 0.0],\n ['Big', 'Drum', 'A', 'Low', 0.4425],\n ['Big', 'Drum', 'A', 'High', 0.48],\n ['Big', 'Drum', 'B', 'Low', 0.0575],\n ['Big', 'Drum', 'B', 'High', 0.48],\n ['Big', 'Drum', 'C', 'Low', 0.0],\n ['Big', 'Drum', 'C', 'High', 0.0]]"
     },
     "metadata": {},
     "execution_count": 2
    }
   ],
   "source": [
    "rl = ft.multiply(kaka,order_kaka,xray,order_xray)\n",
    "rl"
   ]
  },
  {
   "cell_type": "code",
   "execution_count": 3,
   "metadata": {},
   "outputs": [],
   "source": [
    "kaka = [[ 'Small', 'Guitar', 'A', 0.0 ],\n",
    "        [ 'Small', 'Guitar', 'B', 0.5 ],\n",
    "        [ 'Small', 'Guitar', 'C', 0.5 ],\n",
    "        [ 'Small', 'Bass', 'A', 0.0 ],\n",
    "        [ 'Small', 'Bass', 'B', 0.0 ],\n",
    "        [ 'Small', 'Bass', 'C', 1.0 ],\n",
    "        [ 'Small', 'Drum', 'A', 0.0 ],\n",
    "        [ 'Small', 'Drum', 'B', 1.0 ],\n",
    "        [ 'Small', 'Drum', 'C', 0.0 ],\n",
    "        [ 'Medium', 'Guitar', 'A', 0.0 ],\n",
    "        [ 'Medium', 'Guitar', 'B', 0.0 ],\n",
    "        [ 'Medium', 'Guitar', 'C', 1.0 ],\n",
    "        [ 'Medium', 'Bass', 'A', 0.5 ],\n",
    "        [ 'Medium', 'Bass', 'B', 0.0 ],\n",
    "        [ 'Medium', 'Bass', 'C', 0.5 ],\n",
    "        [ 'Medium', 'Drum', 'A', 1.0 ],\n",
    "        [ 'Medium', 'Drum', 'B', 0.0 ],\n",
    "        [ 'Medium', 'Drum', 'C', 0.0 ],\n",
    "        [ 'Big', 'Guitar', 'A', 0.0 ],\n",
    "        [ 'Big', 'Guitar', 'B', 1.0 ],\n",
    "        [ 'Big', 'Guitar', 'C', 0.0 ],\n",
    "        [ 'Big', 'Bass', 'A', 1.0 ],\n",
    "        [ 'Big', 'Bass', 'B', 0.0 ],\n",
    "        [ 'Big', 'Bass', 'C', 0.0 ],\n",
    "        [ 'Big', 'Drum', 'A', 0.5 ],\n",
    "        [ 'Big', 'Drum', 'B', 0.5 ],\n",
    "        [ 'Big', 'Drum', 'C', 0.0 ]]\n",
    "\n",
    "kaka1 = [[ 'Small', 'Guitar', 'A', 0.0 ],\n",
    "        [ 'Small', 'Guitar', 'B', 0.5 ],\n",
    "        [ 'Small', 'Guitar', 'C', 0.5 ],\n",
    "        [ 'Small', 'Bass', 'A', 0.0 ],\n",
    "        [ 'Small', 'Bass', 'B', 0.0 ],\n",
    "        [ 'Small', 'Bass', 'C', 1.0 ],\n",
    "        [ 'Small', 'Drum', 'A', 0.0 ],\n",
    "        [ 'Small', 'Drum', 'B', 1.0 ],\n",
    "        [ 'Small', 'Drum', 'C', 0.0 ],\n",
    "        [ 'Medium', 'Guitar', 'A', 0.0 ],\n",
    "        [ 'Medium', 'Guitar', 'B', 0.0 ],\n",
    "        [ 'Medium', 'Guitar', 'C', 1.0 ],\n",
    "        [ 'Medium', 'Bass', 'A', 0.5 ],\n",
    "        [ 'Medium', 'Bass', 'B', 0.0 ],\n",
    "        [ 'Medium', 'Bass', 'C', 0.5 ],\n",
    "        [ 'Medium', 'Drum', 'A', 1.0 ],\n",
    "        [ 'Medium', 'Drum', 'B', 0.0 ],\n",
    "        [ 'Medium', 'Drum', 'C', 0.0 ],\n",
    "        [ 'Big', 'Guitar', 'A', 0.0 ],\n",
    "        [ 'Big', 'Guitar', 'B', 1.0 ],\n",
    "        [ 'Big', 'Guitar', 'C', 0.0 ],\n",
    "        [ 'Big', 'Bass', 'A', 1.0 ],\n",
    "        [ 'Big', 'Bass', 'B', 0.0 ],\n",
    "        [ 'Big', 'Bass', 'C', 0.0 ],\n",
    "        [ 'Big', 'Drum', 'A', 0.5 ],\n",
    "        [ 'Big', 'Drum', 'B', 0.5 ],\n",
    "        [ 'Big', 'Drum', 'C', 0.0 ]]\n",
    "\n",
    "order_kaka = ['I', 'S', 'G']"
   ]
  },
  {
   "cell_type": "code",
   "execution_count": 4,
   "metadata": {},
   "outputs": [],
   "source": [
    "import copy \n",
    "\n",
    "def removeColumn(factor, order_factor, variable):\n",
    "    index_column = order_factor.index(variable)\n",
    "    order_factor.pop(index_column)\n",
    "    for row in range(len(factor)):\n",
    "        factor[row].pop(index_column)\n",
    "\n",
    "def removeValue(factor):\n",
    "    for row in range(len(factor)):\n",
    "        factor[row].pop(-1)\n"
   ]
  },
  {
   "cell_type": "code",
   "execution_count": 5,
   "metadata": {},
   "outputs": [
    {
     "output_type": "execute_result",
     "data": {
      "text/plain": "[['Small', 'A'],\n ['Small', 'B'],\n ['Small', 'C'],\n ['Small', 'A'],\n ['Small', 'B'],\n ['Small', 'C'],\n ['Small', 'A'],\n ['Small', 'B'],\n ['Small', 'C'],\n ['Medium', 'A'],\n ['Medium', 'B'],\n ['Medium', 'C'],\n ['Medium', 'A'],\n ['Medium', 'B'],\n ['Medium', 'C'],\n ['Medium', 'A'],\n ['Medium', 'B'],\n ['Medium', 'C'],\n ['Big', 'A'],\n ['Big', 'B'],\n ['Big', 'C'],\n ['Big', 'A'],\n ['Big', 'B'],\n ['Big', 'C'],\n ['Big', 'A'],\n ['Big', 'B'],\n ['Big', 'C']]"
     },
     "metadata": {},
     "execution_count": 5
    }
   ],
   "source": [
    "new_factor = kaka.copy()\n",
    "removeColumn(new_factor,order_kaka,'S')\n",
    "removeValue(new_factor)\n",
    "new_factor"
   ]
  },
  {
   "cell_type": "code",
   "execution_count": 6,
   "metadata": {},
   "outputs": [
    {
     "output_type": "execute_result",
     "data": {
      "text/plain": "[['Small', 'A'],\n ['Small', 'B'],\n ['Small', 'C'],\n ['Small', 'A'],\n ['Small', 'B'],\n ['Small', 'C'],\n ['Small', 'A'],\n ['Small', 'B'],\n ['Small', 'C'],\n ['Medium', 'A'],\n ['Medium', 'B'],\n ['Medium', 'C'],\n ['Medium', 'A'],\n ['Medium', 'B'],\n ['Medium', 'C'],\n ['Medium', 'A'],\n ['Medium', 'B'],\n ['Medium', 'C'],\n ['Big', 'A'],\n ['Big', 'B'],\n ['Big', 'C'],\n ['Big', 'A'],\n ['Big', 'B'],\n ['Big', 'C'],\n ['Big', 'A'],\n ['Big', 'B'],\n ['Big', 'C']]"
     },
     "metadata": {},
     "execution_count": 6
    }
   ],
   "source": [
    "kaka"
   ]
  },
  {
   "cell_type": "code",
   "execution_count": 7,
   "metadata": {
    "tags": []
   },
   "outputs": [
    {
     "output_type": "stream",
     "name": "stdout",
     "text": "entry:  ['Small', 'A']\nnewProbList:  [['Small', 'A']]\nnewValueList:  [0.0]\ncount_index: 1\nentry:  ['Small', 'B']\nnewProbList:  [['Small', 'A'], ['Small', 'B']]\nnewValueList:  [0.0, 0.5]\ncount_index: 2\nentry:  ['Small', 'C']\nnewProbList:  [['Small', 'A'], ['Small', 'B'], ['Small', 'C']]\nnewValueList:  [0.0, 0.5, 0.5]\ncount_index: 3\nentry:  ['Small', 'A']\nnewProbList:  [['Small', 'A'], ['Small', 'B'], ['Small', 'C']]\nnewValueList:  [0.0, 0.5, 0.5]\ncount_index: 3\nentry:  ['Small', 'B']\nnewProbList:  [['Small', 'A'], ['Small', 'B'], ['Small', 'C']]\nnewValueList:  [0.0, 0.5, 0.5]\ncount_index: 3\nentry:  ['Small', 'C']\nnewProbList:  [['Small', 'A'], ['Small', 'B'], ['Small', 'C']]\nnewValueList:  [0.0, 0.5, 1.5]\ncount_index: 3\nentry:  ['Small', 'A']\nnewProbList:  [['Small', 'A'], ['Small', 'B'], ['Small', 'C']]\nnewValueList:  [0.0, 0.5, 1.5]\ncount_index: 3\nentry:  ['Small', 'B']\nnewProbList:  [['Small', 'A'], ['Small', 'B'], ['Small', 'C']]\nnewValueList:  [0.0, 0.5, 2.5]\ncount_index: 3\nentry:  ['Small', 'C']\nnewProbList:  [['Small', 'A'], ['Small', 'B'], ['Small', 'C']]\nnewValueList:  [0.0, 0.5, 2.5]\ncount_index: 3\nentry:  ['Medium', 'A']\nnewProbList:  [['Small', 'A'], ['Small', 'B'], ['Small', 'C'], ['Medium', 'A']]\nnewValueList:  [0.0, 0.5, 2.5, 0.0]\ncount_index: 4\nentry:  ['Medium', 'B']\nnewProbList:  [['Small', 'A'], ['Small', 'B'], ['Small', 'C'], ['Medium', 'A'], ['Medium', 'B']]\nnewValueList:  [0.0, 0.5, 2.5, 0.0, 0.0]\ncount_index: 5\nentry:  ['Medium', 'C']\nnewProbList:  [['Small', 'A'], ['Small', 'B'], ['Small', 'C'], ['Medium', 'A'], ['Medium', 'B'], ['Medium', 'C']]\nnewValueList:  [0.0, 0.5, 2.5, 0.0, 0.0, 1.0]\ncount_index: 6\nentry:  ['Medium', 'A']\nnewProbList:  [['Small', 'A'], ['Small', 'B'], ['Small', 'C'], ['Medium', 'A'], ['Medium', 'B'], ['Medium', 'C']]\nnewValueList:  [0.0, 0.5, 2.5, 0.0, 0.0, 1.5]\ncount_index: 6\nentry:  ['Medium', 'B']\nnewProbList:  [['Small', 'A'], ['Small', 'B'], ['Small', 'C'], ['Medium', 'A'], ['Medium', 'B'], ['Medium', 'C']]\nnewValueList:  [0.0, 0.5, 2.5, 0.0, 0.0, 1.5]\ncount_index: 6\nentry:  ['Medium', 'C']\nnewProbList:  [['Small', 'A'], ['Small', 'B'], ['Small', 'C'], ['Medium', 'A'], ['Medium', 'B'], ['Medium', 'C']]\nnewValueList:  [0.0, 0.5, 2.5, 0.0, 0.0, 2.0]\ncount_index: 6\nentry:  ['Medium', 'A']\nnewProbList:  [['Small', 'A'], ['Small', 'B'], ['Small', 'C'], ['Medium', 'A'], ['Medium', 'B'], ['Medium', 'C']]\nnewValueList:  [0.0, 0.5, 2.5, 0.0, 0.0, 3.0]\ncount_index: 6\nentry:  ['Medium', 'B']\nnewProbList:  [['Small', 'A'], ['Small', 'B'], ['Small', 'C'], ['Medium', 'A'], ['Medium', 'B'], ['Medium', 'C']]\nnewValueList:  [0.0, 0.5, 2.5, 0.0, 0.0, 3.0]\ncount_index: 6\nentry:  ['Medium', 'C']\nnewProbList:  [['Small', 'A'], ['Small', 'B'], ['Small', 'C'], ['Medium', 'A'], ['Medium', 'B'], ['Medium', 'C']]\nnewValueList:  [0.0, 0.5, 2.5, 0.0, 0.0, 3.0]\ncount_index: 6\nentry:  ['Big', 'A']\nnewProbList:  [['Small', 'A'], ['Small', 'B'], ['Small', 'C'], ['Medium', 'A'], ['Medium', 'B'], ['Medium', 'C'], ['Big', 'A']]\nnewValueList:  [0.0, 0.5, 2.5, 0.0, 0.0, 3.0, 0.0]\ncount_index: 7\nentry:  ['Big', 'B']\nnewProbList:  [['Small', 'A'], ['Small', 'B'], ['Small', 'C'], ['Medium', 'A'], ['Medium', 'B'], ['Medium', 'C'], ['Big', 'A'], ['Big', 'B']]\nnewValueList:  [0.0, 0.5, 2.5, 0.0, 0.0, 3.0, 0.0, 1.0]\ncount_index: 8\nentry:  ['Big', 'C']\nnewProbList:  [['Small', 'A'], ['Small', 'B'], ['Small', 'C'], ['Medium', 'A'], ['Medium', 'B'], ['Medium', 'C'], ['Big', 'A'], ['Big', 'B'], ['Big', 'C']]\nnewValueList:  [0.0, 0.5, 2.5, 0.0, 0.0, 3.0, 0.0, 1.0, 0.0]\ncount_index: 9\nentry:  ['Big', 'A']\nnewProbList:  [['Small', 'A'], ['Small', 'B'], ['Small', 'C'], ['Medium', 'A'], ['Medium', 'B'], ['Medium', 'C'], ['Big', 'A'], ['Big', 'B'], ['Big', 'C']]\nnewValueList:  [0.0, 0.5, 2.5, 0.0, 0.0, 3.0, 0.0, 1.0, 1.0]\ncount_index: 9\nentry:  ['Big', 'B']\nnewProbList:  [['Small', 'A'], ['Small', 'B'], ['Small', 'C'], ['Medium', 'A'], ['Medium', 'B'], ['Medium', 'C'], ['Big', 'A'], ['Big', 'B'], ['Big', 'C']]\nnewValueList:  [0.0, 0.5, 2.5, 0.0, 0.0, 3.0, 0.0, 1.0, 1.0]\ncount_index: 9\nentry:  ['Big', 'C']\nnewProbList:  [['Small', 'A'], ['Small', 'B'], ['Small', 'C'], ['Medium', 'A'], ['Medium', 'B'], ['Medium', 'C'], ['Big', 'A'], ['Big', 'B'], ['Big', 'C']]\nnewValueList:  [0.0, 0.5, 2.5, 0.0, 0.0, 3.0, 0.0, 1.0, 1.0]\ncount_index: 9\nentry:  ['Big', 'A']\nnewProbList:  [['Small', 'A'], ['Small', 'B'], ['Small', 'C'], ['Medium', 'A'], ['Medium', 'B'], ['Medium', 'C'], ['Big', 'A'], ['Big', 'B'], ['Big', 'C']]\nnewValueList:  [0.0, 0.5, 2.5, 0.0, 0.0, 3.0, 0.0, 1.0, 1.5]\ncount_index: 9\nentry:  ['Big', 'B']\nnewProbList:  [['Small', 'A'], ['Small', 'B'], ['Small', 'C'], ['Medium', 'A'], ['Medium', 'B'], ['Medium', 'C'], ['Big', 'A'], ['Big', 'B'], ['Big', 'C']]\nnewValueList:  [0.0, 0.5, 2.5, 0.0, 0.0, 3.0, 0.0, 1.0, 2.0]\ncount_index: 9\nentry:  ['Big', 'C']\nnewProbList:  [['Small', 'A'], ['Small', 'B'], ['Small', 'C'], ['Medium', 'A'], ['Medium', 'B'], ['Medium', 'C'], ['Big', 'A'], ['Big', 'B'], ['Big', 'C']]\nnewValueList:  [0.0, 0.5, 2.5, 0.0, 0.0, 3.0, 0.0, 1.0, 2.0]\ncount_index: 9\n"
    },
    {
     "output_type": "execute_result",
     "data": {
      "text/plain": "[['Small', 'A', 0.0],\n ['Small', 'B', 0.5],\n ['Small', 'C', 2.5],\n ['Medium', 'A', 0.0],\n ['Medium', 'B', 0.0],\n ['Medium', 'C', 3.0],\n ['Big', 'A', 0.0],\n ['Big', 'B', 1.0],\n ['Big', 'C', 2.0]]"
     },
     "metadata": {},
     "execution_count": 7
    }
   ],
   "source": [
    "newProbList = []\n",
    "newValueList = []\n",
    "count_index = 0\n",
    "for row in range(len(new_factor)):\n",
    "    entry = new_factor[row]\n",
    "    print(\"entry: \", entry)\n",
    "    if entry not in newProbList:\n",
    "        newProbList.append(entry)\n",
    "        newValueList.append(kaka1[row][-1])\n",
    "        count_index += 1\n",
    "    else:\n",
    "        newValueList[count_index-1] = newValueList[count_index-1] + kaka1[row][-1]\n",
    "    print(\"newProbList: \", newProbList)\n",
    "    print(\"newValueList: \", newValueList)\n",
    "    print(\"count_index:\", count_index)\n",
    "\n",
    "for row in range(len(newProbList)):\n",
    "    newProbList[row].append(newValueList[row])\n",
    "\n",
    "newProbList\n"
   ]
  },
  {
   "cell_type": "code",
   "execution_count": 8,
   "metadata": {},
   "outputs": [],
   "source": [
    "kaka = [[ 'Small', 'Guitar', 'A', 0.0 ],\n",
    "        [ 'Small', 'Guitar', 'B', 0.5 ],\n",
    "        [ 'Small', 'Guitar', 'C', 0.5 ],\n",
    "        [ 'Small', 'Bass', 'A', 0.0 ],\n",
    "        [ 'Small', 'Bass', 'B', 0.0 ],\n",
    "        [ 'Small', 'Bass', 'C', 1.0 ],\n",
    "        [ 'Small', 'Drum', 'A', 0.0 ],\n",
    "        [ 'Small', 'Drum', 'B', 1.0 ],\n",
    "        [ 'Small', 'Drum', 'C', 0.0 ],\n",
    "        [ 'Medium', 'Guitar', 'A', 0.0 ],\n",
    "        [ 'Medium', 'Guitar', 'B', 0.0 ],\n",
    "        [ 'Medium', 'Guitar', 'C', 1.0 ],\n",
    "        [ 'Medium', 'Bass', 'A', 0.5 ],\n",
    "        [ 'Medium', 'Bass', 'B', 0.0 ],\n",
    "        [ 'Medium', 'Bass', 'C', 0.5 ],\n",
    "        [ 'Medium', 'Drum', 'A', 1.0 ],\n",
    "        [ 'Medium', 'Drum', 'B', 0.0 ],\n",
    "        [ 'Medium', 'Drum', 'C', 0.0 ],\n",
    "        [ 'Big', 'Guitar', 'A', 0.0 ],\n",
    "        [ 'Big', 'Guitar', 'B', 1.0 ],\n",
    "        [ 'Big', 'Guitar', 'C', 0.0 ],\n",
    "        [ 'Big', 'Bass', 'A', 1.0 ],\n",
    "        [ 'Big', 'Bass', 'B', 0.0 ],\n",
    "        [ 'Big', 'Bass', 'C', 0.0 ],\n",
    "        [ 'Big', 'Drum', 'A', 0.5 ],\n",
    "        [ 'Big', 'Drum', 'B', 0.5 ],\n",
    "        [ 'Big', 'Drum', 'C', 0.0 ]]\n",
    "order_kaka = ['I', 'S', 'G']"
   ]
  },
  {
   "cell_type": "code",
   "execution_count": 9,
   "metadata": {
    "tags": []
   },
   "outputs": [
    {
     "output_type": "stream",
     "name": "stdout",
     "text": "newProbList:  [['Small', 'A']]\nnewValueList:  [0.0]\ncount_index: 1\nnewProbList:  [['Small', 'A'], ['Small', 'B']]\nnewValueList:  [0.0, 0.5]\ncount_index: 2\nnewProbList:  [['Small', 'A'], ['Small', 'B'], ['Small', 'C']]\nnewValueList:  [0.0, 0.5, 0.5]\ncount_index: 3\nnewProbList:  [['Small', 'A'], ['Small', 'B'], ['Small', 'C']]\nnewValueList:  [0.0, 0.5, 0.5]\ncount_index: 3\nnewProbList:  [['Small', 'A'], ['Small', 'B'], ['Small', 'C']]\nnewValueList:  [0.0, 0.5, 0.5]\ncount_index: 3\nnewProbList:  [['Small', 'A'], ['Small', 'B'], ['Small', 'C']]\nnewValueList:  [0.0, 0.5, 1.5]\ncount_index: 3\nnewProbList:  [['Small', 'A'], ['Small', 'B'], ['Small', 'C']]\nnewValueList:  [0.0, 0.5, 1.5]\ncount_index: 3\nnewProbList:  [['Small', 'A'], ['Small', 'B'], ['Small', 'C']]\nnewValueList:  [0.0, 0.5, 2.5]\ncount_index: 3\nnewProbList:  [['Small', 'A'], ['Small', 'B'], ['Small', 'C']]\nnewValueList:  [0.0, 0.5, 2.5]\ncount_index: 3\nnewProbList:  [['Small', 'A'], ['Small', 'B'], ['Small', 'C'], ['Medium', 'A']]\nnewValueList:  [0.0, 0.5, 2.5, 0.0]\ncount_index: 4\nnewProbList:  [['Small', 'A'], ['Small', 'B'], ['Small', 'C'], ['Medium', 'A'], ['Medium', 'B']]\nnewValueList:  [0.0, 0.5, 2.5, 0.0, 0.0]\ncount_index: 5\nnewProbList:  [['Small', 'A'], ['Small', 'B'], ['Small', 'C'], ['Medium', 'A'], ['Medium', 'B'], ['Medium', 'C']]\nnewValueList:  [0.0, 0.5, 2.5, 0.0, 0.0, 1.0]\ncount_index: 6\nnewProbList:  [['Small', 'A'], ['Small', 'B'], ['Small', 'C'], ['Medium', 'A'], ['Medium', 'B'], ['Medium', 'C']]\nnewValueList:  [0.0, 0.5, 2.5, 0.0, 0.0, 1.5]\ncount_index: 6\nnewProbList:  [['Small', 'A'], ['Small', 'B'], ['Small', 'C'], ['Medium', 'A'], ['Medium', 'B'], ['Medium', 'C']]\nnewValueList:  [0.0, 0.5, 2.5, 0.0, 0.0, 1.5]\ncount_index: 6\nnewProbList:  [['Small', 'A'], ['Small', 'B'], ['Small', 'C'], ['Medium', 'A'], ['Medium', 'B'], ['Medium', 'C']]\nnewValueList:  [0.0, 0.5, 2.5, 0.0, 0.0, 2.0]\ncount_index: 6\nnewProbList:  [['Small', 'A'], ['Small', 'B'], ['Small', 'C'], ['Medium', 'A'], ['Medium', 'B'], ['Medium', 'C']]\nnewValueList:  [0.0, 0.5, 2.5, 0.0, 0.0, 3.0]\ncount_index: 6\nnewProbList:  [['Small', 'A'], ['Small', 'B'], ['Small', 'C'], ['Medium', 'A'], ['Medium', 'B'], ['Medium', 'C']]\nnewValueList:  [0.0, 0.5, 2.5, 0.0, 0.0, 3.0]\ncount_index: 6\nnewProbList:  [['Small', 'A'], ['Small', 'B'], ['Small', 'C'], ['Medium', 'A'], ['Medium', 'B'], ['Medium', 'C']]\nnewValueList:  [0.0, 0.5, 2.5, 0.0, 0.0, 3.0]\ncount_index: 6\nnewProbList:  [['Small', 'A'], ['Small', 'B'], ['Small', 'C'], ['Medium', 'A'], ['Medium', 'B'], ['Medium', 'C'], ['Big', 'A']]\nnewValueList:  [0.0, 0.5, 2.5, 0.0, 0.0, 3.0, 0.0]\ncount_index: 7\nnewProbList:  [['Small', 'A'], ['Small', 'B'], ['Small', 'C'], ['Medium', 'A'], ['Medium', 'B'], ['Medium', 'C'], ['Big', 'A'], ['Big', 'B']]\nnewValueList:  [0.0, 0.5, 2.5, 0.0, 0.0, 3.0, 0.0, 1.0]\ncount_index: 8\nnewProbList:  [['Small', 'A'], ['Small', 'B'], ['Small', 'C'], ['Medium', 'A'], ['Medium', 'B'], ['Medium', 'C'], ['Big', 'A'], ['Big', 'B'], ['Big', 'C']]\nnewValueList:  [0.0, 0.5, 2.5, 0.0, 0.0, 3.0, 0.0, 1.0, 0.0]\ncount_index: 9\nnewProbList:  [['Small', 'A'], ['Small', 'B'], ['Small', 'C'], ['Medium', 'A'], ['Medium', 'B'], ['Medium', 'C'], ['Big', 'A'], ['Big', 'B'], ['Big', 'C']]\nnewValueList:  [0.0, 0.5, 2.5, 0.0, 0.0, 3.0, 0.0, 1.0, 1.0]\ncount_index: 9\nnewProbList:  [['Small', 'A'], ['Small', 'B'], ['Small', 'C'], ['Medium', 'A'], ['Medium', 'B'], ['Medium', 'C'], ['Big', 'A'], ['Big', 'B'], ['Big', 'C']]\nnewValueList:  [0.0, 0.5, 2.5, 0.0, 0.0, 3.0, 0.0, 1.0, 1.0]\ncount_index: 9\nnewProbList:  [['Small', 'A'], ['Small', 'B'], ['Small', 'C'], ['Medium', 'A'], ['Medium', 'B'], ['Medium', 'C'], ['Big', 'A'], ['Big', 'B'], ['Big', 'C']]\nnewValueList:  [0.0, 0.5, 2.5, 0.0, 0.0, 3.0, 0.0, 1.0, 1.0]\ncount_index: 9\nnewProbList:  [['Small', 'A'], ['Small', 'B'], ['Small', 'C'], ['Medium', 'A'], ['Medium', 'B'], ['Medium', 'C'], ['Big', 'A'], ['Big', 'B'], ['Big', 'C']]\nnewValueList:  [0.0, 0.5, 2.5, 0.0, 0.0, 3.0, 0.0, 1.0, 1.5]\ncount_index: 9\nnewProbList:  [['Small', 'A'], ['Small', 'B'], ['Small', 'C'], ['Medium', 'A'], ['Medium', 'B'], ['Medium', 'C'], ['Big', 'A'], ['Big', 'B'], ['Big', 'C']]\nnewValueList:  [0.0, 0.5, 2.5, 0.0, 0.0, 3.0, 0.0, 1.0, 2.0]\ncount_index: 9\nnewProbList:  [['Small', 'A'], ['Small', 'B'], ['Small', 'C'], ['Medium', 'A'], ['Medium', 'B'], ['Medium', 'C'], ['Big', 'A'], ['Big', 'B'], ['Big', 'C']]\nnewValueList:  [0.0, 0.5, 2.5, 0.0, 0.0, 3.0, 0.0, 1.0, 2.0]\ncount_index: 9\n"
    },
    {
     "output_type": "execute_result",
     "data": {
      "text/plain": "[['Small', 'A', 0.0],\n ['Small', 'B', 0.5],\n ['Small', 'C', 2.5],\n ['Medium', 'A', 0.0],\n ['Medium', 'B', 0.0],\n ['Medium', 'C', 3.0],\n ['Big', 'A', 0.0],\n ['Big', 'B', 1.0],\n ['Big', 'C', 2.0]]"
     },
     "metadata": {},
     "execution_count": 9
    }
   ],
   "source": [
    "from FactorUtilities import *\n",
    "\n",
    "ft = FactorUtilities()\n",
    "\n",
    "so = ft.sum_out(kaka, order_kaka, 'S')\n",
    "so"
   ]
  },
  {
   "cell_type": "code",
   "execution_count": null,
   "metadata": {},
   "outputs": [],
   "source": []
  }
 ],
 "metadata": {
  "kernelspec": {
   "display_name": "Python 3",
   "language": "python",
   "name": "python3"
  },
  "language_info": {
   "codemirror_mode": {
    "name": "ipython",
    "version": 3
   },
   "file_extension": ".py",
   "mimetype": "text/x-python",
   "name": "python",
   "nbconvert_exporter": "python",
   "pygments_lexer": "ipython3",
   "version": "3.7.3-final"
  }
 },
 "nbformat": 4,
 "nbformat_minor": 2
}