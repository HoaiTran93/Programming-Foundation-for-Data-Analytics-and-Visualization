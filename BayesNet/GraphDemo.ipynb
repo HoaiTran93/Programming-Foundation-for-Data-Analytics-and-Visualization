{
 "cells": [
  {
   "cell_type": "code",
   "execution_count": 1,
   "metadata": {},
   "outputs": [],
   "source": [
    "from IGraph import *\n",
    "from AbstractGraph import *\n",
    "from UGraphModel import *\n",
    "from DGraphModel import *\n",
    "#from BayesNet import *"
   ]
  },
  {
   "cell_type": "code",
   "execution_count": 180,
   "metadata": {},
   "outputs": [],
   "source": [
    "import numpy as np\n",
    "\n",
    "def uniqueElement(observation):\n",
    "    # intilize a null list\n",
    "    unique_list = []\n",
    "    # traverse for all elements\n",
    "    for x in observation:\n",
    "        # check if exists in unique_list or not\n",
    "        if x not in unique_list:\n",
    "            unique_list.append(x)\n",
    "    return unique_list\n",
    "\n",
    "def get_value(factor, key):\n",
    "    newd = dict()\n",
    "    for i in range(len(factor)):\n",
    "        newd.update({tuple([factor[i][j] for j in range(len(factor[i])-1)]):factor[i][-1]})\n",
    "    return newd.get(key)\n",
    "\n",
    "def swapCommon(factor,key,begin):\n",
    "    if type(factor[0][-1]) is float:\n",
    "        if begin: #swap common to the first row\n",
    "            print(len(factor))\n",
    "            for row in range(len(factor)):\n",
    "                tmp = factor[row][0]\n",
    "                factor[row][0] = factor[row][key]\n",
    "                factor[row][key] = tmp\n",
    "        else: # swap common to the latest row\n",
    "            print(len(factor))\n",
    "            for row in range(len(factor)):\n",
    "                tmp = factor[row][-2]\n",
    "                factor[row][-2] = factor[row][key]\n",
    "                factor[row][key] = tmp\n",
    "    else:\n",
    "        if begin: #swap common to the first row\n",
    "            print(len(factor))\n",
    "            tmp = factor[0]\n",
    "            factor[0] = factor[key]\n",
    "            factor[key] = tmp\n",
    "        else: # swap common to the latest row\n",
    "            print(len(factor))\n",
    "            tmp = factor[-1]\n",
    "            factor[-1] = factor[key]\n",
    "            factor[key] = tmp\n",
    "\n",
    "def parsing_combinationProb(listProb):\n",
    "        #print(\"tableValue: \", tableValue)\n",
    "        output = []\n",
    "        n = len(listProb)\n",
    "        total = 1\n",
    "        for i in range(n):\n",
    "            total *= len(listProb[i])\n",
    "        index = np.zeros(n)\n",
    "        index[-1] = -1\n",
    "\n",
    "        count = 0\n",
    "        while count < total:\n",
    "            if index[n-1] != len(listProb[n-1]) - 1:\n",
    "                index[n-1] += 1\n",
    "            else:\n",
    "                index[n-1] = 0\n",
    "                preceding = n - 1\n",
    "                while True:\n",
    "                    preceding -= 1\n",
    "                    if index[preceding] != len(listProb[preceding]) - 1:\n",
    "                        index[preceding] += 1\n",
    "                        break\n",
    "                    else:\n",
    "                        index[preceding] = 0\n",
    "            aResult = []\n",
    "            for i in range(n):\n",
    "                aResult.append(listProb[i][int(index[i])])\n",
    "            #print(\"count: \", count)\n",
    "            output.append(aResult)\n",
    "            count += 1\n",
    "        #print(output)\n",
    "        return output\n"
   ]
  },
  {
   "cell_type": "code",
   "execution_count": 181,
   "metadata": {},
   "outputs": [
    {
     "output_type": "execute_result",
     "data": {
      "text/plain": "[['True', 'True', 0.885],\n ['True', 'False', 0.115],\n ['False', 'True', 0.04],\n ['False', 'False', 0.96]]"
     },
     "metadata": {},
     "execution_count": 181
    }
   ],
   "source": [
    "xray=[[ 'True', 'True', 0.885 ],\n",
    "     [ 'True', 'False', 0.115 ],\n",
    "     [ 'False', 'True', 0.04 ],\n",
    "     [ 'False', 'False', 0.96 ]]\n",
    "xray"
   ]
  },
  {
   "cell_type": "code",
   "execution_count": 182,
   "metadata": {
    "tags": []
   },
   "outputs": [
    {
     "output_type": "stream",
     "name": "stdout",
     "text": "0.115\n"
    }
   ],
   "source": [
    "tt = ('True','False')\n",
    "print(get_value(xray,tt))"
   ]
  },
  {
   "cell_type": "code",
   "execution_count": 183,
   "metadata": {},
   "outputs": [],
   "source": [
    "kaka = [[ 'Small', 'Guitar', 'A', 0.0 ],\n",
    "        [ 'Small', 'Guitar', 'B', 0.5 ],\n",
    "        [ 'Small', 'Guitar', 'C', 0.5 ],\n",
    "        [ 'Small', 'Bass', 'A', 0.0 ],\n",
    "        [ 'Small', 'Bass', 'B', 0.0 ],\n",
    "        [ 'Small', 'Bass', 'C', 1.0 ],\n",
    "        [ 'Small', 'Drum', 'A', 0.0 ],\n",
    "        [ 'Small', 'Drum', 'B', 1.0 ],\n",
    "        [ 'Small', 'Drum', 'C', 0.0 ],\n",
    "        [ 'Medium', 'Guitar', 'A', 0.0 ],\n",
    "        [ 'Medium', 'Guitar', 'B', 0.0 ],\n",
    "        [ 'Medium', 'Guitar', 'C', 1.0 ],\n",
    "        [ 'Medium', 'Bass', 'A', 0.5 ],\n",
    "        [ 'Medium', 'Bass', 'B', 0.0 ],\n",
    "        [ 'Medium', 'Bass', 'C', 0.5 ],\n",
    "        [ 'Medium', 'Drum', 'A', 1.0 ],\n",
    "        [ 'Medium', 'Drum', 'B', 0.0 ],\n",
    "        [ 'Medium', 'Drum', 'C', 0.0 ],\n",
    "        [ 'Big', 'Guitar', 'A', 0.0 ],\n",
    "        [ 'Big', 'Guitar', 'B', 1.0 ],\n",
    "        [ 'Big', 'Guitar', 'C', 0.0 ],\n",
    "        [ 'Big', 'Bass', 'A', 1.0 ],\n",
    "        [ 'Big', 'Bass', 'B', 0.0 ],\n",
    "        [ 'Big', 'Bass', 'C', 0.0 ],\n",
    "        [ 'Big', 'Drum', 'A', 0.5 ],\n",
    "        [ 'Big', 'Drum', 'B', 0.5 ],\n",
    "        [ 'Big', 'Drum', 'C', 0.0 ]]\n",
    "order_kaka = ['I', 'S', 'G']\n",
    "\n",
    "xray=[[ 'Low', 'A', 0.885 ],\n",
    "     [ 'Low', 'B', 0.115 ],\n",
    "     [ 'Low', 'C', 0.04 ],\n",
    "     [ 'High', 'A', 0.96 ],\n",
    "     [ 'High', 'B', 0.96 ],\n",
    "     [ 'High', 'C', 0.96 ]]\n",
    "order_xray = ['K', 'G']"
   ]
  },
  {
   "cell_type": "code",
   "execution_count": 184,
   "metadata": {
    "tags": []
   },
   "outputs": [
    {
     "output_type": "stream",
     "name": "stdout",
     "text": "comon_var:  ['G']\nf1:  ['I', 'S']\nf2:  ['K']\nall_vars:  ['I', 'S', 'G', 'K']\nnum_vars:  4\n"
    }
   ],
   "source": [
    "f1_vars = order_kaka\n",
    "f2_vars = order_xray\n",
    "# first, find all the common variables between the two factors:\n",
    "common_vars = []\n",
    "f1 = []\n",
    "f2 = []\n",
    "for char in f1_vars:\n",
    "    if char in f2_vars:\n",
    "        common_vars.append(char)\n",
    "    else:\n",
    "        f1.append(char)\n",
    "\n",
    "for char in f2_vars:\n",
    "    if char not in f1_vars:\n",
    "        f2.append(char)\n",
    "\n",
    "all_vars = f1+common_vars+f2\n",
    "num_vars = len(all_vars)\n",
    "print(\"comon_var: \", common_vars)\n",
    "print(\"f1: \", f1)\n",
    "print(\"f2: \", f2)\n",
    "print(\"all_vars: \", all_vars)\n",
    "print(\"num_vars: \", num_vars)"
   ]
  },
  {
   "cell_type": "code",
   "execution_count": 201,
   "metadata": {
    "tags": []
   },
   "outputs": [
    {
     "output_type": "stream",
     "name": "stdout",
     "text": "['I', 'S', 'G']\n['K']\n3\n2\n"
    }
   ],
   "source": [
    "#swap common var in original table\n",
    "f1_str = all_vars[:len(f1_vars)]\n",
    "f2_str = all_vars[len(f2_vars):]\n",
    "print(f1_str)\n",
    "print(f2_str[1:])\n",
    "print(len(f1_vars))\n",
    "print(len(f2_vars))"
   ]
  },
  {
   "cell_type": "code",
   "execution_count": 186,
   "metadata": {
    "tags": []
   },
   "outputs": [
    {
     "output_type": "stream",
     "name": "stdout",
     "text": "2\n1\n"
    }
   ],
   "source": [
    "index_common_f1 = order_kaka.index(common_vars[0])\n",
    "index_common_f2 = order_xray.index(common_vars[0])\n",
    "print(index_common_f1)\n",
    "print(index_common_f2)"
   ]
  },
  {
   "cell_type": "code",
   "execution_count": 187,
   "metadata": {
    "tags": []
   },
   "outputs": [
    {
     "output_type": "stream",
     "name": "stdout",
     "text": "27\n3\n6\n2\n"
    }
   ],
   "source": [
    "swapCommon(kaka,index_common_f1,False)\n",
    "swapCommon(order_kaka,index_common_f1,False)\n",
    "swapCommon(xray,index_common_f2,True)\n",
    "swapCommon(order_xray,index_common_f2,True)"
   ]
  },
  {
   "cell_type": "code",
   "execution_count": 188,
   "metadata": {
    "tags": []
   },
   "outputs": [
    {
     "output_type": "stream",
     "name": "stdout",
     "text": "['G', 'K']\n"
    }
   ],
   "source": [
    "print(order_xray)"
   ]
  },
  {
   "cell_type": "code",
   "execution_count": 189,
   "metadata": {
    "tags": []
   },
   "outputs": [
    {
     "output_type": "stream",
     "name": "stdout",
     "text": "[['A', 'Low', 0.885], ['B', 'Low', 0.115], ['C', 'Low', 0.04], ['A', 'High', 0.96], ['B', 'High', 0.96], ['C', 'High', 0.96]]\n"
    }
   ],
   "source": [
    "print(xray)"
   ]
  },
  {
   "cell_type": "code",
   "execution_count": 190,
   "metadata": {},
   "outputs": [],
   "source": [
    "listI = uniqueElement([kaka[i][order_kaka.index('I')] for i in range(len(kaka))])\n",
    "listS = uniqueElement([kaka[i][order_kaka.index('S')] for i in range(len(kaka))])\n",
    "listG = uniqueElement([kaka[i][order_kaka.index('G')] for i in range(len(kaka))])\n",
    "listK = uniqueElement([xray[i][order_xray.index('K')] for i in range(len(xray))])"
   ]
  },
  {
   "cell_type": "code",
   "execution_count": 191,
   "metadata": {
    "tags": []
   },
   "outputs": [
    {
     "output_type": "stream",
     "name": "stdout",
     "text": "listI: ['Small', 'Medium', 'Big']\nlistS: ['Guitar', 'Bass', 'Drum']\nlistG: ['A', 'B', 'C']\nlistK: ['Low', 'High']\n"
    }
   ],
   "source": [
    "print(\"listI:\",listI)\n",
    "print(\"listS:\",listS)\n",
    "print(\"listG:\",listG)\n",
    "print(\"listK:\",listK)"
   ]
  },
  {
   "cell_type": "code",
   "execution_count": 192,
   "metadata": {},
   "outputs": [
    {
     "output_type": "execute_result",
     "data": {
      "text/plain": "[['Small', 'Medium', 'Big'],\n ['Guitar', 'Bass', 'Drum'],\n ['A', 'B', 'C'],\n ['Low', 'High']]"
     },
     "metadata": {},
     "execution_count": 192
    }
   ],
   "source": [
    "listmerge = []\n",
    "listmerge.append(listI)\n",
    "listmerge.append(listS)\n",
    "listmerge.append(listG)\n",
    "listmerge.append(listK)\n",
    "listmerge"
   ]
  },
  {
   "cell_type": "code",
   "execution_count": 199,
   "metadata": {},
   "outputs": [
    {
     "output_type": "execute_result",
     "data": {
      "text/plain": "[['Small', 'Guitar', 'A', 'Low'],\n ['Small', 'Guitar', 'A', 'High'],\n ['Small', 'Guitar', 'B', 'Low'],\n ['Small', 'Guitar', 'B', 'High'],\n ['Small', 'Guitar', 'C', 'Low'],\n ['Small', 'Guitar', 'C', 'High'],\n ['Small', 'Bass', 'A', 'Low'],\n ['Small', 'Bass', 'A', 'High'],\n ['Small', 'Bass', 'B', 'Low'],\n ['Small', 'Bass', 'B', 'High'],\n ['Small', 'Bass', 'C', 'Low'],\n ['Small', 'Bass', 'C', 'High'],\n ['Small', 'Drum', 'A', 'Low'],\n ['Small', 'Drum', 'A', 'High'],\n ['Small', 'Drum', 'B', 'Low'],\n ['Small', 'Drum', 'B', 'High'],\n ['Small', 'Drum', 'C', 'Low'],\n ['Small', 'Drum', 'C', 'High'],\n ['Medium', 'Guitar', 'A', 'Low'],\n ['Medium', 'Guitar', 'A', 'High'],\n ['Medium', 'Guitar', 'B', 'Low'],\n ['Medium', 'Guitar', 'B', 'High'],\n ['Medium', 'Guitar', 'C', 'Low'],\n ['Medium', 'Guitar', 'C', 'High'],\n ['Medium', 'Bass', 'A', 'Low'],\n ['Medium', 'Bass', 'A', 'High'],\n ['Medium', 'Bass', 'B', 'Low'],\n ['Medium', 'Bass', 'B', 'High'],\n ['Medium', 'Bass', 'C', 'Low'],\n ['Medium', 'Bass', 'C', 'High'],\n ['Medium', 'Drum', 'A', 'Low'],\n ['Medium', 'Drum', 'A', 'High'],\n ['Medium', 'Drum', 'B', 'Low'],\n ['Medium', 'Drum', 'B', 'High'],\n ['Medium', 'Drum', 'C', 'Low'],\n ['Medium', 'Drum', 'C', 'High'],\n ['Big', 'Guitar', 'A', 'Low'],\n ['Big', 'Guitar', 'A', 'High'],\n ['Big', 'Guitar', 'B', 'Low'],\n ['Big', 'Guitar', 'B', 'High'],\n ['Big', 'Guitar', 'C', 'Low'],\n ['Big', 'Guitar', 'C', 'High'],\n ['Big', 'Bass', 'A', 'Low'],\n ['Big', 'Bass', 'A', 'High'],\n ['Big', 'Bass', 'B', 'Low'],\n ['Big', 'Bass', 'B', 'High'],\n ['Big', 'Bass', 'C', 'Low'],\n ['Big', 'Bass', 'C', 'High'],\n ['Big', 'Drum', 'A', 'Low'],\n ['Big', 'Drum', 'A', 'High'],\n ['Big', 'Drum', 'B', 'Low'],\n ['Big', 'Drum', 'B', 'High'],\n ['Big', 'Drum', 'C', 'Low'],\n ['Big', 'Drum', 'C', 'High']]"
     },
     "metadata": {},
     "execution_count": 199
    }
   ],
   "source": [
    "result = parsing_combinationProb(listmerge)\n",
    "result"
   ]
  },
  {
   "cell_type": "code",
   "execution_count": 200,
   "metadata": {
    "tags": []
   },
   "outputs": [
    {
     "output_type": "execute_result",
     "data": {
      "text/plain": "[['Small', 'Guitar', 'A', 'Low', 0.0],\n ['Small', 'Guitar', 'A', 'High', 0.0],\n ['Small', 'Guitar', 'B', 'Low', 0.0575],\n ['Small', 'Guitar', 'B', 'High', 0.48],\n ['Small', 'Guitar', 'C', 'Low', 0.02],\n ['Small', 'Guitar', 'C', 'High', 0.48],\n ['Small', 'Bass', 'A', 'Low', 0.0],\n ['Small', 'Bass', 'A', 'High', 0.0],\n ['Small', 'Bass', 'B', 'Low', 0.0],\n ['Small', 'Bass', 'B', 'High', 0.0],\n ['Small', 'Bass', 'C', 'Low', 0.04],\n ['Small', 'Bass', 'C', 'High', 0.96],\n ['Small', 'Drum', 'A', 'Low', 0.0],\n ['Small', 'Drum', 'A', 'High', 0.0],\n ['Small', 'Drum', 'B', 'Low', 0.115],\n ['Small', 'Drum', 'B', 'High', 0.96],\n ['Small', 'Drum', 'C', 'Low', 0.0],\n ['Small', 'Drum', 'C', 'High', 0.0],\n ['Medium', 'Guitar', 'A', 'Low', 0.0],\n ['Medium', 'Guitar', 'A', 'High', 0.0],\n ['Medium', 'Guitar', 'B', 'Low', 0.0],\n ['Medium', 'Guitar', 'B', 'High', 0.0],\n ['Medium', 'Guitar', 'C', 'Low', 0.04],\n ['Medium', 'Guitar', 'C', 'High', 0.96],\n ['Medium', 'Bass', 'A', 'Low', 0.4425],\n ['Medium', 'Bass', 'A', 'High', 0.48],\n ['Medium', 'Bass', 'B', 'Low', 0.0],\n ['Medium', 'Bass', 'B', 'High', 0.0],\n ['Medium', 'Bass', 'C', 'Low', 0.02],\n ['Medium', 'Bass', 'C', 'High', 0.48],\n ['Medium', 'Drum', 'A', 'Low', 0.885],\n ['Medium', 'Drum', 'A', 'High', 0.96],\n ['Medium', 'Drum', 'B', 'Low', 0.0],\n ['Medium', 'Drum', 'B', 'High', 0.0],\n ['Medium', 'Drum', 'C', 'Low', 0.0],\n ['Medium', 'Drum', 'C', 'High', 0.0],\n ['Big', 'Guitar', 'A', 'Low', 0.0],\n ['Big', 'Guitar', 'A', 'High', 0.0],\n ['Big', 'Guitar', 'B', 'Low', 0.115],\n ['Big', 'Guitar', 'B', 'High', 0.96],\n ['Big', 'Guitar', 'C', 'Low', 0.0],\n ['Big', 'Guitar', 'C', 'High', 0.0],\n ['Big', 'Bass', 'A', 'Low', 0.885],\n ['Big', 'Bass', 'A', 'High', 0.96],\n ['Big', 'Bass', 'B', 'Low', 0.0],\n ['Big', 'Bass', 'B', 'High', 0.0],\n ['Big', 'Bass', 'C', 'Low', 0.0],\n ['Big', 'Bass', 'C', 'High', 0.0],\n ['Big', 'Drum', 'A', 'Low', 0.4425],\n ['Big', 'Drum', 'A', 'High', 0.48],\n ['Big', 'Drum', 'B', 'Low', 0.0575],\n ['Big', 'Drum', 'B', 'High', 0.48],\n ['Big', 'Drum', 'C', 'Low', 0.0],\n ['Big', 'Drum', 'C', 'High', 0.0]]"
     },
     "metadata": {},
     "execution_count": 200
    }
   ],
   "source": [
    "for row in range(len(result)):\n",
    "    key1 = result[row][:len(f1_vars)]\n",
    "    key2 = result[row][len(f2_vars):]\n",
    "    #print(\"key1: \",key1)\n",
    "    #print(\"key2: \",key2)\n",
    "    value1 = get_value(kaka,tuple(key1))\n",
    "    value2 = get_value(xray,tuple(key2))\n",
    "    #print(\"value1: \",value1)\n",
    "    #print(\"value2: \",value2)\n",
    "    product = value1 * value2\n",
    "    result[row].append(product)\n",
    "result"
   ]
  },
  {
   "cell_type": "code",
   "execution_count": 1,
   "metadata": {},
   "outputs": [],
   "source": [
    "from FactorUtilities import *\n",
    "\n",
    "ft = FactorUtilities()\n",
    "\n",
    "kaka = [[ 'Small', 'Guitar', 'A', 0.0 ],\n",
    "        [ 'Small', 'Guitar', 'B', 0.5 ],\n",
    "        [ 'Small', 'Guitar', 'C', 0.5 ],\n",
    "        [ 'Small', 'Bass', 'A', 0.0 ],\n",
    "        [ 'Small', 'Bass', 'B', 0.0 ],\n",
    "        [ 'Small', 'Bass', 'C', 1.0 ],\n",
    "        [ 'Small', 'Drum', 'A', 0.0 ],\n",
    "        [ 'Small', 'Drum', 'B', 1.0 ],\n",
    "        [ 'Small', 'Drum', 'C', 0.0 ],\n",
    "        [ 'Medium', 'Guitar', 'A', 0.0 ],\n",
    "        [ 'Medium', 'Guitar', 'B', 0.0 ],\n",
    "        [ 'Medium', 'Guitar', 'C', 1.0 ],\n",
    "        [ 'Medium', 'Bass', 'A', 0.5 ],\n",
    "        [ 'Medium', 'Bass', 'B', 0.0 ],\n",
    "        [ 'Medium', 'Bass', 'C', 0.5 ],\n",
    "        [ 'Medium', 'Drum', 'A', 1.0 ],\n",
    "        [ 'Medium', 'Drum', 'B', 0.0 ],\n",
    "        [ 'Medium', 'Drum', 'C', 0.0 ],\n",
    "        [ 'Big', 'Guitar', 'A', 0.0 ],\n",
    "        [ 'Big', 'Guitar', 'B', 1.0 ],\n",
    "        [ 'Big', 'Guitar', 'C', 0.0 ],\n",
    "        [ 'Big', 'Bass', 'A', 1.0 ],\n",
    "        [ 'Big', 'Bass', 'B', 0.0 ],\n",
    "        [ 'Big', 'Bass', 'C', 0.0 ],\n",
    "        [ 'Big', 'Drum', 'A', 0.5 ],\n",
    "        [ 'Big', 'Drum', 'B', 0.5 ],\n",
    "        [ 'Big', 'Drum', 'C', 0.0 ]]\n",
    "order_kaka = ['I', 'S', 'G']\n",
    "\n",
    "xray=[[ 'Low', 'A', 0.885 ],\n",
    "     [ 'Low', 'B', 0.115 ],\n",
    "     [ 'Low', 'C', 0.04 ],\n",
    "     [ 'High', 'A', 0.96 ],\n",
    "     [ 'High', 'B', 0.96 ],\n",
    "     [ 'High', 'C', 0.96 ]]\n",
    "order_xray = ['K', 'G']"
   ]
  },
  {
   "cell_type": "code",
   "execution_count": 2,
   "metadata": {
    "tags": []
   },
   "outputs": [
    {
     "output_type": "execute_result",
     "data": {
      "text/plain": "[['Small', 'Guitar', 'A', 'Low', 0.0],\n ['Small', 'Guitar', 'A', 'High', 0.0],\n ['Small', 'Guitar', 'B', 'Low', 0.0575],\n ['Small', 'Guitar', 'B', 'High', 0.48],\n ['Small', 'Guitar', 'C', 'Low', 0.02],\n ['Small', 'Guitar', 'C', 'High', 0.48],\n ['Small', 'Bass', 'A', 'Low', 0.0],\n ['Small', 'Bass', 'A', 'High', 0.0],\n ['Small', 'Bass', 'B', 'Low', 0.0],\n ['Small', 'Bass', 'B', 'High', 0.0],\n ['Small', 'Bass', 'C', 'Low', 0.04],\n ['Small', 'Bass', 'C', 'High', 0.96],\n ['Small', 'Drum', 'A', 'Low', 0.0],\n ['Small', 'Drum', 'A', 'High', 0.0],\n ['Small', 'Drum', 'B', 'Low', 0.115],\n ['Small', 'Drum', 'B', 'High', 0.96],\n ['Small', 'Drum', 'C', 'Low', 0.0],\n ['Small', 'Drum', 'C', 'High', 0.0],\n ['Medium', 'Guitar', 'A', 'Low', 0.0],\n ['Medium', 'Guitar', 'A', 'High', 0.0],\n ['Medium', 'Guitar', 'B', 'Low', 0.0],\n ['Medium', 'Guitar', 'B', 'High', 0.0],\n ['Medium', 'Guitar', 'C', 'Low', 0.04],\n ['Medium', 'Guitar', 'C', 'High', 0.96],\n ['Medium', 'Bass', 'A', 'Low', 0.4425],\n ['Medium', 'Bass', 'A', 'High', 0.48],\n ['Medium', 'Bass', 'B', 'Low', 0.0],\n ['Medium', 'Bass', 'B', 'High', 0.0],\n ['Medium', 'Bass', 'C', 'Low', 0.02],\n ['Medium', 'Bass', 'C', 'High', 0.48],\n ['Medium', 'Drum', 'A', 'Low', 0.885],\n ['Medium', 'Drum', 'A', 'High', 0.96],\n ['Medium', 'Drum', 'B', 'Low', 0.0],\n ['Medium', 'Drum', 'B', 'High', 0.0],\n ['Medium', 'Drum', 'C', 'Low', 0.0],\n ['Medium', 'Drum', 'C', 'High', 0.0],\n ['Big', 'Guitar', 'A', 'Low', 0.0],\n ['Big', 'Guitar', 'A', 'High', 0.0],\n ['Big', 'Guitar', 'B', 'Low', 0.115],\n ['Big', 'Guitar', 'B', 'High', 0.96],\n ['Big', 'Guitar', 'C', 'Low', 0.0],\n ['Big', 'Guitar', 'C', 'High', 0.0],\n ['Big', 'Bass', 'A', 'Low', 0.885],\n ['Big', 'Bass', 'A', 'High', 0.96],\n ['Big', 'Bass', 'B', 'Low', 0.0],\n ['Big', 'Bass', 'B', 'High', 0.0],\n ['Big', 'Bass', 'C', 'Low', 0.0],\n ['Big', 'Bass', 'C', 'High', 0.0],\n ['Big', 'Drum', 'A', 'Low', 0.4425],\n ['Big', 'Drum', 'A', 'High', 0.48],\n ['Big', 'Drum', 'B', 'Low', 0.0575],\n ['Big', 'Drum', 'B', 'High', 0.48],\n ['Big', 'Drum', 'C', 'Low', 0.0],\n ['Big', 'Drum', 'C', 'High', 0.0]]"
     },
     "metadata": {},
     "execution_count": 2
    }
   ],
   "source": [
    "rl = ft.multiply(kaka,order_kaka,xray,order_xray)\n",
    "rl"
   ]
  },
  {
   "cell_type": "code",
   "execution_count": 1,
   "metadata": {},
   "outputs": [],
   "source": [
    "kaka = [[ 'Small', 'Guitar', 'A', 0.0 ],\n",
    "        [ 'Small', 'Guitar', 'B', 0.5 ],\n",
    "        [ 'Small', 'Guitar', 'C', 0.5 ],\n",
    "        [ 'Small', 'Bass', 'A', 0.0 ],\n",
    "        [ 'Small', 'Bass', 'B', 0.0 ],\n",
    "        [ 'Small', 'Bass', 'C', 1.0 ],\n",
    "        [ 'Small', 'Drum', 'A', 0.0 ],\n",
    "        [ 'Small', 'Drum', 'B', 1.0 ],\n",
    "        [ 'Small', 'Drum', 'C', 0.0 ],\n",
    "        [ 'Medium', 'Guitar', 'A', 0.0 ],\n",
    "        [ 'Medium', 'Guitar', 'B', 0.0 ],\n",
    "        [ 'Medium', 'Guitar', 'C', 1.0 ],\n",
    "        [ 'Medium', 'Bass', 'A', 0.5 ],\n",
    "        [ 'Medium', 'Bass', 'B', 0.0 ],\n",
    "        [ 'Medium', 'Bass', 'C', 0.5 ],\n",
    "        [ 'Medium', 'Drum', 'A', 1.0 ],\n",
    "        [ 'Medium', 'Drum', 'B', 0.0 ],\n",
    "        [ 'Medium', 'Drum', 'C', 0.0 ],\n",
    "        [ 'Big', 'Guitar', 'A', 0.0 ],\n",
    "        [ 'Big', 'Guitar', 'B', 1.0 ],\n",
    "        [ 'Big', 'Guitar', 'C', 0.0 ],\n",
    "        [ 'Big', 'Bass', 'A', 1.0 ],\n",
    "        [ 'Big', 'Bass', 'B', 0.0 ],\n",
    "        [ 'Big', 'Bass', 'C', 0.0 ],\n",
    "        [ 'Big', 'Drum', 'A', 0.5 ],\n",
    "        [ 'Big', 'Drum', 'B', 0.5 ],\n",
    "        [ 'Big', 'Drum', 'C', 0.0 ]]\n",
    "        \n",
    "order_kaka = ['I', 'S', 'G']"
   ]
  },
  {
   "cell_type": "code",
   "execution_count": 2,
   "metadata": {},
   "outputs": [],
   "source": [
    "import copy \n",
    "\n",
    "def removeColumn(factor, order_factor, variable):\n",
    "    index_column = order_factor.index(variable)\n",
    "    order_factor.pop(index_column)\n",
    "    for row in range(len(factor)):\n",
    "        factor[row].pop(index_column)\n",
    "\n",
    "def removeValue(factor):\n",
    "    for row in range(len(factor)):\n",
    "        factor[row].pop(-1)\n"
   ]
  },
  {
   "cell_type": "code",
   "execution_count": 3,
   "metadata": {},
   "outputs": [
    {
     "output_type": "execute_result",
     "data": {
      "text/plain": "[['Small', 'A'],\n ['Small', 'B'],\n ['Small', 'C'],\n ['Small', 'A'],\n ['Small', 'B'],\n ['Small', 'C'],\n ['Small', 'A'],\n ['Small', 'B'],\n ['Small', 'C'],\n ['Medium', 'A'],\n ['Medium', 'B'],\n ['Medium', 'C'],\n ['Medium', 'A'],\n ['Medium', 'B'],\n ['Medium', 'C'],\n ['Medium', 'A'],\n ['Medium', 'B'],\n ['Medium', 'C'],\n ['Big', 'A'],\n ['Big', 'B'],\n ['Big', 'C'],\n ['Big', 'A'],\n ['Big', 'B'],\n ['Big', 'C'],\n ['Big', 'A'],\n ['Big', 'B'],\n ['Big', 'C']]"
     },
     "metadata": {},
     "execution_count": 3
    }
   ],
   "source": [
    "new_factor = copy.deepcopy(kaka)\n",
    "removeColumn(new_factor,order_kaka,'S')\n",
    "removeValue(new_factor)\n",
    "new_factor"
   ]
  },
  {
   "cell_type": "code",
   "execution_count": 4,
   "metadata": {
    "tags": []
   },
   "outputs": [
    {
     "output_type": "execute_result",
     "data": {
      "text/plain": "[['Small', 'A', 0.0],\n ['Small', 'B', 0.5],\n ['Small', 'C', 2.5],\n ['Medium', 'A', 0.0],\n ['Medium', 'B', 0.0],\n ['Medium', 'C', 3.0],\n ['Big', 'A', 0.0],\n ['Big', 'B', 1.0],\n ['Big', 'C', 2.0]]"
     },
     "metadata": {},
     "execution_count": 4
    }
   ],
   "source": [
    "newProbList = []\n",
    "newValueList = []\n",
    "count_index = 0\n",
    "for row in range(len(new_factor)):\n",
    "    entry = new_factor[row]\n",
    "    # print(\"entry: \", entry)\n",
    "    if entry not in newProbList:\n",
    "        newProbList.append(entry)\n",
    "        newValueList.append(kaka[row][-1])\n",
    "        count_index += 1\n",
    "    else:\n",
    "        newValueList[count_index-1] = newValueList[count_index-1] + kaka[row][-1]\n",
    "    # print(\"newProbList: \", newProbList)\n",
    "    # print(\"newValueList: \", newValueList)\n",
    "    # print(\"count_index:\", count_index)\n",
    "\n",
    "for row in range(len(newProbList)):\n",
    "    newProbList[row].append(newValueList[row])\n",
    "\n",
    "newProbList\n"
   ]
  },
  {
   "cell_type": "code",
   "execution_count": 5,
   "metadata": {},
   "outputs": [],
   "source": [
    "kaka = [[ 'Small', 'Guitar', 'A', 0.0 ],\n",
    "        [ 'Small', 'Guitar', 'B', 0.5 ],\n",
    "        [ 'Small', 'Guitar', 'C', 0.5 ],\n",
    "        [ 'Small', 'Bass', 'A', 0.0 ],\n",
    "        [ 'Small', 'Bass', 'B', 0.0 ],\n",
    "        [ 'Small', 'Bass', 'C', 1.0 ],\n",
    "        [ 'Small', 'Drum', 'A', 0.0 ],\n",
    "        [ 'Small', 'Drum', 'B', 1.0 ],\n",
    "        [ 'Small', 'Drum', 'C', 0.0 ],\n",
    "        [ 'Medium', 'Guitar', 'A', 0.0 ],\n",
    "        [ 'Medium', 'Guitar', 'B', 0.0 ],\n",
    "        [ 'Medium', 'Guitar', 'C', 1.0 ],\n",
    "        [ 'Medium', 'Bass', 'A', 0.5 ],\n",
    "        [ 'Medium', 'Bass', 'B', 0.0 ],\n",
    "        [ 'Medium', 'Bass', 'C', 0.5 ],\n",
    "        [ 'Medium', 'Drum', 'A', 1.0 ],\n",
    "        [ 'Medium', 'Drum', 'B', 0.0 ],\n",
    "        [ 'Medium', 'Drum', 'C', 0.0 ],\n",
    "        [ 'Big', 'Guitar', 'A', 0.0 ],\n",
    "        [ 'Big', 'Guitar', 'B', 1.0 ],\n",
    "        [ 'Big', 'Guitar', 'C', 0.0 ],\n",
    "        [ 'Big', 'Bass', 'A', 1.0 ],\n",
    "        [ 'Big', 'Bass', 'B', 0.0 ],\n",
    "        [ 'Big', 'Bass', 'C', 0.0 ],\n",
    "        [ 'Big', 'Drum', 'A', 0.5 ],\n",
    "        [ 'Big', 'Drum', 'B', 0.5 ],\n",
    "        [ 'Big', 'Drum', 'C', 0.0 ]]\n",
    "order_kaka = ['I', 'S', 'G']"
   ]
  },
  {
   "cell_type": "code",
   "execution_count": 6,
   "metadata": {
    "tags": []
   },
   "outputs": [
    {
     "output_type": "execute_result",
     "data": {
      "text/plain": "[['Small', 'A', 0.0],\n ['Small', 'B', 0.5],\n ['Small', 'C', 2.5],\n ['Medium', 'A', 0.0],\n ['Medium', 'B', 0.0],\n ['Medium', 'C', 3.0],\n ['Big', 'A', 0.0],\n ['Big', 'B', 1.0],\n ['Big', 'C', 2.0]]"
     },
     "metadata": {},
     "execution_count": 6
    }
   ],
   "source": [
    "from FactorUtilities import *\n",
    "\n",
    "ft = FactorUtilities()\n",
    "\n",
    "so = ft.sum_out(kaka, order_kaka, 'S')\n",
    "so"
   ]
  },
  {
   "cell_type": "code",
   "execution_count": null,
   "metadata": {},
   "outputs": [],
   "source": []
  }
 ],
 "metadata": {
  "kernelspec": {
   "display_name": "Python 3",
   "language": "python",
   "name": "python3"
  },
  "language_info": {
   "codemirror_mode": {
    "name": "ipython",
    "version": 3
   },
   "file_extension": ".py",
   "mimetype": "text/x-python",
   "name": "python",
   "nbconvert_exporter": "python",
   "pygments_lexer": "ipython3",
   "version": "3.7.3-final"
  }
 },
 "nbformat": 4,
 "nbformat_minor": 2
}