{
 "cells": [
  {
   "cell_type": "code",
   "execution_count": 9,
   "metadata": {},
   "outputs": [],
   "source": [
    "from IGraph import *\n",
    "from AbstractGraph import *\n",
    "from UGraphModel import *\n",
    "from DGraphModel import *\n",
    "from BayesNet import *"
   ]
  },
  {
   "cell_type": "code",
   "execution_count": 16,
   "metadata": {
    "scrolled": true
   },
   "outputs": [
    {
     "name": "stdout",
     "output_type": "stream",
     "text": [
      "=======================================================\n",
      "Vertices:\n",
      " V(0, in:1, out:2)\n",
      " V(1, in:2, out:1)\n",
      " V(2, in:3, out:0)\n",
      " V(3, in:0, out:4)\n",
      " V(4, in:2, out:1)\n",
      " V(5, in:1, out:0)\n",
      " V(6, in:0, out:3)\n",
      " V(7, in:3, out:0)\n",
      " V(8, in:2, out:2)\n",
      " V(9, in:0, out:1)\n",
      "------------------------------------------------------\n",
      "Edges:\n",
      " E(0, 1, 0)\n",
      " E(0, 5, 0)\n",
      " E(1, 7, 0)\n",
      " E(3, 2, 0)\n",
      " E(3, 4, 0)\n",
      " E(3, 7, 0)\n",
      " E(3, 8, 0)\n",
      " E(4, 8, 0)\n",
      " E(6, 0, 0)\n",
      " E(6, 1, 0)\n",
      " E(6, 2, 0)\n",
      " E(8, 2, 0)\n",
      " E(8, 7, 0)\n",
      " E(9, 4, 0)\n",
      "======================================================\n",
      "\n"
     ]
    }
   ],
   "source": [
    "model = DGraphModel()\n",
    "for idx in range(10):\n",
    "    model.add(str(idx))\n",
    "\n",
    "model.connect('0', '1')\n",
    "model.connect('0', '5')\n",
    "model.connect('1', '7')\n",
    "model.connect('3', '2')\n",
    "model.connect('3', '4')\n",
    "model.connect('3', '7')\n",
    "model.connect('3', '8')\n",
    "model.connect('4', '8')\n",
    "model.connect('6', '0')\n",
    "model.connect('6', '1')\n",
    "model.connect('6', '2')\n",
    "model.connect('8', '2')\n",
    "model.connect('8', '7')\n",
    "model.connect('9', '4')\n",
    "model.println()"
   ]
  },
  {
   "cell_type": "code",
   "execution_count": 24,
   "metadata": {},
   "outputs": [
    {
     "name": "stdout",
     "output_type": "stream",
     "text": [
      "topoBFS: ['3', '6', '9', '0', '4', '1', '5', '8', '2', '7']\n",
      "topoDFS: ['3', '6', '0', '5', '1', '9', '4', '8', '2', '7']\n"
     ]
    }
   ],
   "source": [
    "DFS = 0\n",
    "BFS = 1\n",
    "sorter = TopoSorter(model)\n",
    "topo = sorter.sort(BFS)\n",
    "print(\"topoBFS:\", topo)\n",
    "\n",
    "topo = sorter.sort(DFS)\n",
    "print(\"topoDFS:\", topo)"
   ]
  },
  {
   "cell_type": "code",
   "execution_count": 8,
   "metadata": {},
   "outputs": [],
   "source": [
    "import numpy as np"
   ]
  },
  {
   "cell_type": "code",
   "execution_count": 1514,
   "metadata": {},
   "outputs": [],
   "source": [
    "class ConditionalProbabilityTable():\n",
    "    def __init__(self,initTable,initParents,initNodeName):\n",
    "        self.ProbabilityTable = np.array(initTable).T.astype(dtype='<U21')  \n",
    "        self.ParentsList = initParents\n",
    "        self.NodeName = initNodeName\n",
    "        if self.isDiscreteDistribution() == False:\n",
    "            self.ParentsNum = len(initParents)\n",
    "            if self.ProbabilityTable.shape[0]-2 != self.ParentsNum:\n",
    "                raise NameError(\"Init failed, number of parents is wrong!\")\n",
    "        \n",
    "    def getValueList(self):\n",
    "        return list(set(self.ProbabilityTable[-2]))\n",
    "\n",
    "    def isDiscreteDistribution(self):\n",
    "        if self.ParentsList == None:\n",
    "            return True\n",
    "        else:\n",
    "            False\n",
    "    \n",
    "    def getNodeProbability(self,ParentState):\n",
    "        RunTable = self.ProbabilityTable\n",
    "        for name in self.ParentsList:\n",
    "            if name in ParentState:\n",
    "                State = np.array(ParentState[name]).astype(dtype='<U21')\n",
    "                index = np.where( RunTable[0] == State )[0]\n",
    "                RunTable = RunTable[1:,index]  \n",
    "            else:\n",
    "                raise NameError(\"Parents state is not enough\")\n",
    "        return RunTable\n",
    "    \n",
    "    def getOutput(self,ParentState):\n",
    "        if self.isDiscreteDistribution():   \n",
    "            sortedProba = self.ProbabilityTable.T[self.ProbabilityTable[1].argsort()].T\n",
    "        else:\n",
    "            NodeProba = self.getNodeProbability(ParentState)\n",
    "            sortedProba = NodeProba.T[NodeProba[1].argsort()].T            \n",
    "        RandomValue = random.random()\n",
    "        for index in range(len(sortedProba)):\n",
    "            if RandomValue < sortedProba[1][:index+1].astype(np.float).sum():\n",
    "                ParentState[self.NodeName] = sortedProba[0,index]\n",
    "                return ParentState\n",
    "        ParentState[self.NodeName] = sortedProba[0,-1]\n",
    "        return ParentState\n",
    "\n",
    "        \n",
    "    def getOutputWithLikehood(self, ParentState, ParentLikelihoodWeight, Observations):\n",
    "        if self.NodeName not in Observations.keys():\n",
    "            if self.isDiscreteDistribution():   \n",
    "                sortedProba = self.ProbabilityTable.T[self.ProbabilityTable[1].argsort()].T\n",
    "            else:\n",
    "                NodeProba = self.getNodeProbability(ParentState)\n",
    "                sortedProba = NodeProba.T[NodeProba[1].argsort()].T\n",
    "            RandomValue = random.random()\n",
    "            for index in range(len(sortedProba)):\n",
    "                if RandomValue < sortedProba[1][:index+1].astype(np.float).sum():\n",
    "                    ParentState[self.NodeName] = sortedProba[0,index]    \n",
    "                    return ParentState, ParentLikelihoodWeight\n",
    "            ParentState[self.NodeName] = sortedProba[0,-1]\n",
    "            return ParentState, ParentLikelihoodWeight\n",
    "        else:\n",
    "            if self.isDiscreteDistribution():   \n",
    "                sortedProba = self.ProbabilityTable.T[self.ProbabilityTable[1].argsort()].T\n",
    "            else:\n",
    "                NodeProba = self.getNodeProbability(ParentState)\n",
    "                sortedProba = NodeProba.T[NodeProba[1].argsort()].T\n",
    "            index = np.where(sortedProba[0]==np.array(Observations[self.NodeName]).astype(dtype='<U21'))[0][0]\n",
    "            ParentState[self.NodeName] = sortedProba[0,index]\n",
    "            ParentLikelihoodWeight[self.NodeName] = float(sortedProba[1,index])\n",
    "            return ParentState, ParentLikelihoodWeight"
   ]
  },
  {
   "cell_type": "markdown",
   "metadata": {},
   "source": [
    "# Asia example"
   ]
  },
  {
   "cell_type": "code",
   "execution_count": 1619,
   "metadata": {},
   "outputs": [],
   "source": [
    "asia = ConditionalProbabilityTable( [ ['True', 0.5],[ 'False', 0.5 ]], None, 'asia' )"
   ]
  },
  {
   "cell_type": "code",
   "execution_count": 1620,
   "metadata": {},
   "outputs": [],
   "source": [
    "tuberculosis = ConditionalProbabilityTable(\n",
    "    [[ 'True', 'True', 0.2 ],\n",
    "     [ 'True', 'False', 0.8 ],\n",
    "     [ 'False', 'True', 0.01 ],\n",
    "     [ 'False', 'False', 0.99 ]], ['asia'],'tuberculosis')"
   ]
  },
  {
   "cell_type": "code",
   "execution_count": 1621,
   "metadata": {},
   "outputs": [],
   "source": [
    "smoking = ConditionalProbabilityTable( [ ['True', 0.5],[ 'False', 0.5 ]], None, 'smoking' )"
   ]
  },
  {
   "cell_type": "code",
   "execution_count": 1622,
   "metadata": {},
   "outputs": [],
   "source": [
    "lung = ConditionalProbabilityTable(\n",
    "    [[ 'True', 'True', 0.75 ],\n",
    "     [ 'True', 'False', 0.25 ],\n",
    "     [ 'False', 'True', 0.02 ],\n",
    "     [ 'False', 'False', 0.98 ]], ['smoking'], 'lung' )\n",
    "\n",
    "bronchitis = ConditionalProbabilityTable(\n",
    "    [[ 'True', 'True', 0.92 ],\n",
    "     [ 'True', 'False', 0.08 ],\n",
    "     [ 'False', 'True', 0.03 ],\n",
    "     [ 'False', 'False', 0.97 ]], ['smoking'], 'bronchitis' )\n",
    "\n",
    "tuberculosis_or_cancer = ConditionalProbabilityTable(\n",
    "    [[ 'True', 'True', 'True', 1.0 ],\n",
    "     [ 'True', 'True', 'False', 0.0 ],\n",
    "     [ 'True', 'False', 'True', 1.0 ],\n",
    "     [ 'True', 'False', 'False', 0.0 ],\n",
    "     [ 'False', 'True', 'True', 1.0 ],\n",
    "     [ 'False', 'True', 'False', 0.0 ],\n",
    "     [ 'False', 'False', 'True', 0.0 ],\n",
    "     [ 'False', 'False', 'False', 1.0 ]], ['tuberculosis', 'lung'], 'tuberculosis_or_cancer' )"
   ]
  },
  {
   "cell_type": "code",
   "execution_count": 1623,
   "metadata": {},
   "outputs": [],
   "source": [
    "xray = ConditionalProbabilityTable(\n",
    "    [[ 'True', 'True', 0.885 ],\n",
    "     [ 'True', 'False', 0.115 ],\n",
    "     [ 'False', 'True', 0.04 ],\n",
    "     [ 'False', 'False', 0.96 ]], ['tuberculosis_or_cancer'] , 'xray')"
   ]
  },
  {
   "cell_type": "code",
   "execution_count": 1624,
   "metadata": {},
   "outputs": [],
   "source": [
    "dyspnea = ConditionalProbabilityTable(\n",
    "    [[ 'True', 'True', 'True', 0.96 ],\n",
    "     [ 'True', 'True', 'False', 0.04 ],\n",
    "     [ 'True', 'False', 'True', 0.89 ],\n",
    "     [ 'True', 'False', 'False', 0.11 ],\n",
    "     [ 'False', 'True', 'True', 0.96 ],\n",
    "     [ 'False', 'True', 'False', 0.04 ],\n",
    "     [ 'False', 'False', 'True', 0.89 ],\n",
    "     [ 'False', 'False', 'False', 0.11 ]], ['tuberculosis_or_cancer', 'bronchitis'],'dyspnea')"
   ]
  },
  {
   "cell_type": "code",
   "execution_count": 1625,
   "metadata": {},
   "outputs": [],
   "source": [
    "NodeList = [asia,smoking,tuberculosis,lung,tuberculosis_or_cancer,bronchitis,xray,dyspnea]"
   ]
  },
  {
   "cell_type": "markdown",
   "metadata": {},
   "source": [
    "# Normal Sampling"
   ]
  },
  {
   "cell_type": "code",
   "execution_count": 1626,
   "metadata": {},
   "outputs": [],
   "source": [
    "RunForwardList = []\n",
    "for i in range(300000):\n",
    "    RunningVar = {}\n",
    "    RunningVar = asia.getOutput(RunningVar)\n",
    "    RunningVar = smoking.getOutput(RunningVar)\n",
    "    RunningVar = tuberculosis.getOutput(RunningVar)\n",
    "    RunningVar = lung.getOutput(RunningVar)\n",
    "    RunningVar = tuberculosis_or_cancer.getOutput(RunningVar)\n",
    "    RunningVar = bronchitis.getOutput(RunningVar)\n",
    "    RunningVar = xray.getOutput(RunningVar)\n",
    "    RunningVar = dyspnea.getOutput(RunningVar)\n",
    "    RunForwardList.append(RunningVar)"
   ]
  },
  {
   "cell_type": "code",
   "execution_count": 1627,
   "metadata": {},
   "outputs": [],
   "source": [
    "Observations = { 'tuberculosis' : 'True', 'smoking' : 'False', 'bronchitis' : 'True' }"
   ]
  },
  {
   "cell_type": "code",
   "execution_count": 1628,
   "metadata": {},
   "outputs": [],
   "source": [
    "NodeNameList = ['asia','smoking','tuberculosis','lung','tuberculosis_or_cancer','bronchitis','xray','dyspnea']"
   ]
  },
  {
   "cell_type": "code",
   "execution_count": 1629,
   "metadata": {},
   "outputs": [],
   "source": [
    "RunValueList = []\n",
    "KeyList = RunForwardList[0].keys()\n",
    "for RunForwardValue in RunForwardList:\n",
    "    OneRow = []\n",
    "    ObservationsCheck = True\n",
    "    for key in Observations:\n",
    "        if Observations[key] != RunForwardValue[key]:\n",
    "            ObservationsCheck = False\n",
    "    if ObservationsCheck == True:\n",
    "        for key in RunForwardValue: \n",
    "            OneRow.append(RunForwardValue[key])\n",
    "        RunValueList.append(OneRow)\n",
    "NumpyRunValue = np.array(RunValueList)\n",
    "NumpyKey = np.array(list(KeyList))"
   ]
  },
  {
   "cell_type": "code",
   "execution_count": 1630,
   "metadata": {
    "scrolled": true
   },
   "outputs": [
    {
     "name": "stdout",
     "output_type": "stream",
     "text": [
      "asia\n",
      "True 0.9473684210526315\n",
      "False 0.05263157894736842\n",
      "============================\n",
      "smoking False\n",
      "============================\n",
      "tuberculosis True\n",
      "============================\n",
      "lung\n",
      "True 0.02631578947368421\n",
      "False 0.9736842105263158\n",
      "============================\n",
      "tuberculosis_or_cancer\n",
      "True 1.0\n",
      "False 0.0\n",
      "============================\n",
      "bronchitis True\n",
      "============================\n",
      "xray\n",
      "True 0.9109311740890689\n",
      "False 0.08906882591093117\n",
      "============================\n",
      "dyspnea\n",
      "True 0.951417004048583\n",
      "False 0.048582995951417005\n",
      "============================\n"
     ]
    }
   ],
   "source": [
    "for Node in NodeList:\n",
    "    if Node.NodeName in Observations.keys():\n",
    "        print(Node.NodeName, Observations[Node.NodeName])\n",
    "    else:\n",
    "        print(Node.NodeName)\n",
    "        indexNumpyRunValue = np.where(NumpyKey==Node.NodeName)[0][0]\n",
    "        for Value in Node.getValueList():\n",
    "            print(Value,len(np.where(NumpyRunValue[:,indexNumpyRunValue] == Value)[0])/NumpyRunValue.shape[0])\n",
    "    print('============================')"
   ]
  },
  {
   "cell_type": "code",
   "execution_count": null,
   "metadata": {},
   "outputs": [],
   "source": []
  },
  {
   "cell_type": "markdown",
   "metadata": {},
   "source": [
    "# Likelihood"
   ]
  },
  {
   "cell_type": "code",
   "execution_count": 1631,
   "metadata": {},
   "outputs": [],
   "source": [
    "RunForwardList = []\n",
    "RunForwardWeight = []\n",
    "for i in range(100000):\n",
    "    w = 1\n",
    "    RunningVar = {}\n",
    "    ParentLikelihoodWeight = {}\n",
    "    Observations = { 'tuberculosis' : 'True', 'smoking' : 'False', 'bronchitis' : 'True' }\n",
    "    RunningVar,ParentLikelihoodWeight = asia.getOutputWithLikehood(RunningVar,ParentLikelihoodWeight,Observations)\n",
    "    RunningVar,ParentLikelihoodWeight = smoking.getOutputWithLikehood(RunningVar,ParentLikelihoodWeight,Observations)\n",
    "    RunningVar,ParentLikelihoodWeight = tuberculosis.getOutputWithLikehood(RunningVar,ParentLikelihoodWeight,Observations)\n",
    "    RunningVar,ParentLikelihoodWeight = lung.getOutputWithLikehood(RunningVar,ParentLikelihoodWeight,Observations)\n",
    "    RunningVar,ParentLikelihoodWeight = tuberculosis_or_cancer.getOutputWithLikehood(RunningVar,ParentLikelihoodWeight,Observations)\n",
    "    RunningVar,ParentLikelihoodWeight = bronchitis.getOutputWithLikehood(RunningVar,ParentLikelihoodWeight,Observations)\n",
    "    RunningVar,ParentLikelihoodWeight = xray.getOutputWithLikehood(RunningVar,ParentLikelihoodWeight,Observations)\n",
    "    RunningVar,ParentLikelihoodWeight = dyspnea.getOutputWithLikehood(RunningVar,ParentLikelihoodWeight,Observations)\n",
    "    RunForwardList.append(RunningVar)\n",
    "    for key in Observations:\n",
    "        w *= ParentLikelihoodWeight[key]\n",
    "    RunForwardWeight.append(w)"
   ]
  },
  {
   "cell_type": "code",
   "execution_count": 1632,
   "metadata": {},
   "outputs": [],
   "source": [
    "RunValueList = []\n",
    "WeightList = []\n",
    "KeyList = []\n",
    "for index_,RunForwardValue in enumerate(RunForwardList):\n",
    "    OneRow = []\n",
    "    for key in RunForwardValue: \n",
    "        if key not in Observations:\n",
    "            if index_ == 0:\n",
    "                KeyList.append(key)\n",
    "            OneRow.append(RunForwardValue[key])\n",
    "    RunValueList.append(OneRow)\n",
    "    WeightList.append(RunForwardWeight[index_])\n",
    "NumpyRunValue = np.array(RunValueList)\n",
    "NumpyKey = np.array(list(KeyList))\n",
    "NumpyWeight = np.array(WeightList)"
   ]
  },
  {
   "cell_type": "code",
   "execution_count": 1633,
   "metadata": {
    "scrolled": false
   },
   "outputs": [
    {
     "name": "stdout",
     "output_type": "stream",
     "text": [
      "asia\n",
      "True 0.9521810079109848\n",
      "False 0.04781899208901527\n",
      "============================\n",
      "smoking False\n",
      "============================\n",
      "tuberculosis True\n",
      "============================\n",
      "lung\n",
      "True 0.02044736666316764\n",
      "False 0.9795526333368323\n",
      "============================\n",
      "tuberculosis_or_cancer\n",
      "True 1.0\n",
      "False 0.0\n",
      "============================\n",
      "bronchitis True\n",
      "============================\n",
      "xray\n",
      "True 0.8833640293536658\n",
      "False 0.11663597064633414\n",
      "============================\n",
      "dyspnea\n",
      "True 0.9592932599173594\n",
      "False 0.040706740082640684\n",
      "============================\n"
     ]
    }
   ],
   "source": [
    "TotalWeight = np.sum(NumpyWeight)\n",
    "for Node in NodeList:\n",
    "    if Node.NodeName in Observations.keys():\n",
    "        print(Node.NodeName, Observations[Node.NodeName])\n",
    "    else:\n",
    "        print(Node.NodeName)\n",
    "        indexNumpyRunValue = np.where(NumpyKey==Node.NodeName)[0][0]\n",
    "        for Value in Node.getValueList():\n",
    "            print(Value,np.sum(NumpyWeight[np.where(NumpyRunValue[:,indexNumpyRunValue] == Value)[0]]) / TotalWeight)\n",
    "    print('============================')"
   ]
  },
  {
   "cell_type": "markdown",
   "metadata": {},
   "source": [
    "# Monty Hall  Example "
   ]
  },
  {
   "cell_type": "code",
   "execution_count": 1604,
   "metadata": {},
   "outputs": [],
   "source": [
    "guest = ConditionalProbabilityTable( [ ['A', 1./3],[ 'B', 1./3 ],[ 'C', 1./3 ]], None, 'guest' )\n",
    "prize = ConditionalProbabilityTable( [ ['A', 1./3],[ 'B', 1./3 ],[ 'C', 1./3 ]], None, 'prize' )"
   ]
  },
  {
   "cell_type": "code",
   "execution_count": 1605,
   "metadata": {},
   "outputs": [],
   "source": [
    "monty = ConditionalProbabilityTable( \n",
    "    [[ 'A', 'A', 'A', 0.0 ],\n",
    "     [ 'A', 'A', 'B', 0.5 ],\n",
    "     [ 'A', 'A', 'C', 0.5 ],\n",
    "     [ 'A', 'B', 'A', 0.0 ],\n",
    "     [ 'A', 'B', 'B', 0.0 ],\n",
    "     [ 'A', 'B', 'C', 1.0 ],\n",
    "     [ 'A', 'C', 'A', 0.0 ],\n",
    "     [ 'A', 'C', 'B', 1.0 ],\n",
    "     [ 'A', 'C', 'C', 0.0 ],\n",
    "     [ 'B', 'A', 'A', 0.0 ],\n",
    "     [ 'B', 'A', 'B', 0.0 ],\n",
    "     [ 'B', 'A', 'C', 1.0 ],\n",
    "     [ 'B', 'B', 'A', 0.5 ],\n",
    "     [ 'B', 'B', 'B', 0.0 ],\n",
    "     [ 'B', 'B', 'C', 0.5 ],\n",
    "     [ 'B', 'C', 'A', 1.0 ],\n",
    "     [ 'B', 'C', 'B', 0.0 ],\n",
    "     [ 'B', 'C', 'C', 0.0 ],\n",
    "     [ 'C', 'A', 'A', 0.0 ],\n",
    "     [ 'C', 'A', 'B', 1.0 ],\n",
    "     [ 'C', 'A', 'C', 0.0 ],\n",
    "     [ 'C', 'B', 'A', 1.0 ],\n",
    "     [ 'C', 'B', 'B', 0.0 ],\n",
    "     [ 'C', 'B', 'C', 0.0 ],\n",
    "     [ 'C', 'C', 'A', 0.5 ],\n",
    "     [ 'C', 'C', 'B', 0.5 ],\n",
    "     [ 'C', 'C', 'C', 0.0 ]], ['guest','prize'], 'monty' )"
   ]
  },
  {
   "cell_type": "code",
   "execution_count": 1611,
   "metadata": {},
   "outputs": [],
   "source": [
    "Observations = { 'guest' : 'A' }"
   ]
  },
  {
   "cell_type": "code",
   "execution_count": 1612,
   "metadata": {},
   "outputs": [],
   "source": [
    "NodeList = [guest,prize,monty]"
   ]
  },
  {
   "cell_type": "code",
   "execution_count": 1616,
   "metadata": {},
   "outputs": [],
   "source": [
    "RunForwardList = []\n",
    "RunForwardWeight = []\n",
    "for i in range(100000):\n",
    "    w = 1\n",
    "    RunningVar = {}\n",
    "    ParentLikelihoodWeight = {}\n",
    "    RunningVar,ParentLikelihoodWeight = guest.getOutputWithLikehood(RunningVar,ParentLikelihoodWeight,Observations)\n",
    "    RunningVar,ParentLikelihoodWeight = prize.getOutputWithLikehood(RunningVar,ParentLikelihoodWeight,Observations)\n",
    "    RunningVar,ParentLikelihoodWeight = monty.getOutputWithLikehood(RunningVar,ParentLikelihoodWeight,Observations)\n",
    "    RunForwardList.append(RunningVar)\n",
    "    for key in Observations:\n",
    "        w *= ParentLikelihoodWeight[key]\n",
    "    RunForwardWeight.append(w)"
   ]
  },
  {
   "cell_type": "code",
   "execution_count": 1617,
   "metadata": {},
   "outputs": [],
   "source": [
    "RunValueList = []\n",
    "WeightList = []\n",
    "KeyList = []\n",
    "for index_,RunForwardValue in enumerate(RunForwardList):\n",
    "    OneRow = []\n",
    "    for key in RunForwardValue: \n",
    "        if key not in Observations:\n",
    "            if index_ == 0:\n",
    "                KeyList.append(key)\n",
    "            OneRow.append(RunForwardValue[key])\n",
    "    RunValueList.append(OneRow)\n",
    "    WeightList.append(RunForwardWeight[index_])\n",
    "NumpyRunValue = np.array(RunValueList)\n",
    "NumpyKey = np.array(list(KeyList))\n",
    "NumpyWeight = np.array(WeightList)"
   ]
  },
  {
   "cell_type": "code",
   "execution_count": 1618,
   "metadata": {},
   "outputs": [
    {
     "name": "stdout",
     "output_type": "stream",
     "text": [
      "guest A\n",
      "============================\n",
      "prize\n",
      "A 0.33427\n",
      "C 0.33075000000000004\n",
      "B 0.33498000000000006\n",
      "============================\n",
      "monty\n",
      "A 0.0\n",
      "C 0.5030700000000001\n",
      "B 0.49693000000000004\n",
      "============================\n"
     ]
    }
   ],
   "source": [
    "TotalWeight = np.sum(NumpyWeight)\n",
    "for Node in NodeList:\n",
    "    if Node.NodeName in Observations.keys():\n",
    "        print(Node.NodeName, Observations[Node.NodeName])\n",
    "    else:\n",
    "        print(Node.NodeName)\n",
    "        indexNumpyRunValue = np.where(NumpyKey==Node.NodeName)[0][0]\n",
    "        for Value in Node.getValueList():\n",
    "            print(Value,np.sum(NumpyWeight[np.where(NumpyRunValue[:,indexNumpyRunValue] == Value)[0]]) / TotalWeight)\n",
    "    print('============================')"
   ]
  },
  {
   "cell_type": "code",
   "execution_count": null,
   "metadata": {},
   "outputs": [],
   "source": []
  },
  {
   "cell_type": "code",
   "execution_count": null,
   "metadata": {},
   "outputs": [],
   "source": []
  }
 ],
 "metadata": {
  "kernelspec": {
   "display_name": "Python 3",
   "language": "python",
   "name": "python3"
  },
  "language_info": {
   "codemirror_mode": {
    "name": "ipython",
    "version": 3
   },
   "file_extension": ".py",
   "mimetype": "text/x-python",
   "name": "python",
   "nbconvert_exporter": "python",
   "pygments_lexer": "ipython3",
   "version": "3.7.6"
  }
 },
 "nbformat": 4,
 "nbformat_minor": 2
}
