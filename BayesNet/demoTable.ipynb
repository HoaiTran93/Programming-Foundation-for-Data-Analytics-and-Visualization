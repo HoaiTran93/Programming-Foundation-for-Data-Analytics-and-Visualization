{
 "cells": [
  {
   "cell_type": "code",
   "execution_count": 1,
   "metadata": {},
   "outputs": [],
   "source": [
    "import pandas as pd"
   ]
  },
  {
   "cell_type": "code",
   "execution_count": 2,
   "metadata": {},
   "outputs": [],
   "source": [
    "path = \"./Data/Grade.csv\""
   ]
  },
  {
   "cell_type": "code",
   "execution_count": 3,
   "metadata": {},
   "outputs": [
    {
     "output_type": "execute_result",
     "data": {
      "text/plain": "   Intelligent Difficult Grade  Probility\n0          low      easy     A       0.30\n1          low      easy     B       0.40\n2          low      easy     C       0.30\n3          low      hard     A       0.05\n4          low      hard     B       0.25\n5          low      hard     C       0.70\n6         high      easy     A       0.90\n7         high      easy     B       0.08\n8         high      easy     C       0.20\n9         high      hard     A       0.50\n10        high      hard     B       0.30\n11        high      hard     C       0.20",
      "text/html": "<div>\n<style scoped>\n    .dataframe tbody tr th:only-of-type {\n        vertical-align: middle;\n    }\n\n    .dataframe tbody tr th {\n        vertical-align: top;\n    }\n\n    .dataframe thead th {\n        text-align: right;\n    }\n</style>\n<table border=\"1\" class=\"dataframe\">\n  <thead>\n    <tr style=\"text-align: right;\">\n      <th></th>\n      <th>Intelligent</th>\n      <th>Difficult</th>\n      <th>Grade</th>\n      <th>Probility</th>\n    </tr>\n  </thead>\n  <tbody>\n    <tr>\n      <th>0</th>\n      <td>low</td>\n      <td>easy</td>\n      <td>A</td>\n      <td>0.30</td>\n    </tr>\n    <tr>\n      <th>1</th>\n      <td>low</td>\n      <td>easy</td>\n      <td>B</td>\n      <td>0.40</td>\n    </tr>\n    <tr>\n      <th>2</th>\n      <td>low</td>\n      <td>easy</td>\n      <td>C</td>\n      <td>0.30</td>\n    </tr>\n    <tr>\n      <th>3</th>\n      <td>low</td>\n      <td>hard</td>\n      <td>A</td>\n      <td>0.05</td>\n    </tr>\n    <tr>\n      <th>4</th>\n      <td>low</td>\n      <td>hard</td>\n      <td>B</td>\n      <td>0.25</td>\n    </tr>\n    <tr>\n      <th>5</th>\n      <td>low</td>\n      <td>hard</td>\n      <td>C</td>\n      <td>0.70</td>\n    </tr>\n    <tr>\n      <th>6</th>\n      <td>high</td>\n      <td>easy</td>\n      <td>A</td>\n      <td>0.90</td>\n    </tr>\n    <tr>\n      <th>7</th>\n      <td>high</td>\n      <td>easy</td>\n      <td>B</td>\n      <td>0.08</td>\n    </tr>\n    <tr>\n      <th>8</th>\n      <td>high</td>\n      <td>easy</td>\n      <td>C</td>\n      <td>0.20</td>\n    </tr>\n    <tr>\n      <th>9</th>\n      <td>high</td>\n      <td>hard</td>\n      <td>A</td>\n      <td>0.50</td>\n    </tr>\n    <tr>\n      <th>10</th>\n      <td>high</td>\n      <td>hard</td>\n      <td>B</td>\n      <td>0.30</td>\n    </tr>\n    <tr>\n      <th>11</th>\n      <td>high</td>\n      <td>hard</td>\n      <td>C</td>\n      <td>0.20</td>\n    </tr>\n  </tbody>\n</table>\n</div>"
     },
     "metadata": {},
     "execution_count": 3
    }
   ],
   "source": [
    "a = pd.read_csv(path)\n",
    "df = pd.DataFrame(a)\n",
    "df"
   ]
  },
  {
   "cell_type": "code",
   "execution_count": 4,
   "metadata": {},
   "outputs": [
    {
     "output_type": "execute_result",
     "data": {
      "text/plain": "'   Intelligent Difficult Grade  Probility\\n0          low      easy     A       0.30\\n1          low      easy     B       0.40\\n2          low      easy     C       0.30\\n3          low      hard     A       0.05\\n4          low      hard     B       0.25\\n5          low      hard     C       0.70\\n6         high      easy     A       0.90\\n7         high      easy     B       0.08\\n8         high      easy     C       0.20\\n9         high      hard     A       0.50\\n10        high      hard     B       0.30\\n11        high      hard     C       0.20'"
     },
     "metadata": {},
     "execution_count": 4
    }
   ],
   "source": [
    "df.to_string()"
   ]
  },
  {
   "cell_type": "code",
   "execution_count": 5,
   "metadata": {},
   "outputs": [
    {
     "output_type": "execute_result",
     "data": {
      "text/plain": "[0, 1, 2, 3, 4, 5, 6, 7, 8, 9, 10, 11]"
     },
     "metadata": {},
     "execution_count": 5
    }
   ],
   "source": [
    "list = list(df.index.values)\n",
    "list"
   ]
  },
  {
   "cell_type": "code",
   "execution_count": 6,
   "metadata": {},
   "outputs": [
    {
     "output_type": "stream",
     "name": "stdout",
     "text": "Grade\n"
    }
   ],
   "source": [
    "f1 = df.columns\n",
    "print(f1[2])"
   ]
  },
  {
   "cell_type": "code",
   "execution_count": 7,
   "metadata": {},
   "outputs": [
    {
     "output_type": "execute_result",
     "data": {
      "text/plain": "  Difficult  Probility\n0      easy        0.6\n1      hard        0.4",
      "text/html": "<div>\n<style scoped>\n    .dataframe tbody tr th:only-of-type {\n        vertical-align: middle;\n    }\n\n    .dataframe tbody tr th {\n        vertical-align: top;\n    }\n\n    .dataframe thead th {\n        text-align: right;\n    }\n</style>\n<table border=\"1\" class=\"dataframe\">\n  <thead>\n    <tr style=\"text-align: right;\">\n      <th></th>\n      <th>Difficult</th>\n      <th>Probility</th>\n    </tr>\n  </thead>\n  <tbody>\n    <tr>\n      <th>0</th>\n      <td>easy</td>\n      <td>0.6</td>\n    </tr>\n    <tr>\n      <th>1</th>\n      <td>hard</td>\n      <td>0.4</td>\n    </tr>\n  </tbody>\n</table>\n</div>"
     },
     "metadata": {},
     "execution_count": 7
    }
   ],
   "source": [
    "path = \"./Data/Difficult.csv\"\n",
    "b = pd.read_csv(path)\n",
    "df2 = pd.DataFrame(b)\n",
    "df2"
   ]
  },
  {
   "cell_type": "code",
   "execution_count": 12,
   "metadata": {},
   "outputs": [
    {
     "output_type": "stream",
     "name": "stdout",
     "text": "Difficult\n"
    }
   ],
   "source": [
    "f2 = df2.columns\n",
    "print(f2[0])\n",
    "c2,l2 = df2.shape\n",
    "c1,l1 = df.shape"
   ]
  },
  {
   "cell_type": "code",
   "execution_count": 9,
   "metadata": {},
   "outputs": [
    {
     "output_type": "error",
     "ename": "SyntaxError",
     "evalue": "invalid syntax (<ipython-input-9-287eaa0f707d>, line 3)",
     "traceback": [
      "\u001b[1;36m  File \u001b[1;32m\"<ipython-input-9-287eaa0f707d>\"\u001b[1;36m, line \u001b[1;32m3\u001b[0m\n\u001b[1;33m    for index in range(cl2)\u001b[0m\n\u001b[1;37m                           ^\u001b[0m\n\u001b[1;31mSyntaxError\u001b[0m\u001b[1;31m:\u001b[0m invalid syntax\n"
     ]
    }
   ],
   "source": [
    "cl = df['Difficult']\n",
    "cl2 = df2['Difficult']\n",
    "for index2 in range(l2):\n",
    "    for index in range(l1):\n",
    "    if df[]\n"
   ]
  }
 ],
 "metadata": {
  "language_info": {
   "codemirror_mode": {
    "name": "ipython",
    "version": 3
   },
   "file_extension": ".py",
   "mimetype": "text/x-python",
   "name": "python",
   "nbconvert_exporter": "python",
   "pygments_lexer": "ipython3",
   "version": "3.7.3-final"
  },
  "orig_nbformat": 2,
  "kernelspec": {
   "name": "python3",
   "display_name": "Python 3"
  }
 },
 "nbformat": 4,
 "nbformat_minor": 2
}